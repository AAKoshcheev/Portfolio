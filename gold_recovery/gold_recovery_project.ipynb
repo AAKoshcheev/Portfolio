{
 "cells": [
  {
   "cell_type": "markdown",
   "metadata": {
    "toc": true
   },
   "source": [
    "<h1>Содержание<span class=\"tocSkip\"></span></h1>\n",
    "<div class=\"toc\"><ul class=\"toc-item\"><li><span><a href=\"#Подготовка-данных\" data-toc-modified-id=\"Подготовка-данных-1\"><span class=\"toc-item-num\">1&nbsp;&nbsp;</span>Подготовка данных</a></span><ul class=\"toc-item\"><li><span><a href=\"#Импорт-библиотек\" data-toc-modified-id=\"Импорт-библиотек-1.1\"><span class=\"toc-item-num\">1.1&nbsp;&nbsp;</span>Импорт библиотек</a></span></li><li><span><a href=\"#Импорт-и-изучение-данных\" data-toc-modified-id=\"Импорт-и-изучение-данных-1.2\"><span class=\"toc-item-num\">1.2&nbsp;&nbsp;</span>Импорт и изучение данных</a></span></li><li><span><a href=\"#Проверка-правильности-расчета-эффективности-обогащения.\" data-toc-modified-id=\"Проверка-правильности-расчета-эффективности-обогащения.-1.3\"><span class=\"toc-item-num\">1.3&nbsp;&nbsp;</span>Проверка правильности расчета эффективности обогащения.</a></span></li><li><span><a href=\"#Анализ-признаков,-недоступных-в-тестовой-выборке.\" data-toc-modified-id=\"Анализ-признаков,-недоступных-в-тестовой-выборке.-1.4\"><span class=\"toc-item-num\">1.4&nbsp;&nbsp;</span>Анализ признаков, недоступных в тестовой выборке.</a></span></li><li><span><a href=\"#Предобработка-данных\" data-toc-modified-id=\"Предобработка-данных-1.5\"><span class=\"toc-item-num\">1.5&nbsp;&nbsp;</span>Предобработка данных</a></span></li></ul></li><li><span><a href=\"#Анализ-данных\" data-toc-modified-id=\"Анализ-данных-2\"><span class=\"toc-item-num\">2&nbsp;&nbsp;</span>Анализ данных</a></span><ul class=\"toc-item\"><li><span><a href=\"#Оценка-концентрации-металлов-(Au,-Ag,-Pb)-на-различных-этапах:-в-сырье,-в-черновом-концентрате,-в-концентрате-после-первой-очистки-и-в-финальном-концентрате.\" data-toc-modified-id=\"Оценка-концентрации-металлов-(Au,-Ag,-Pb)-на-различных-этапах:-в-сырье,-в-черновом-концентрате,-в-концентрате-после-первой-очистки-и-в-финальном-концентрате.-2.1\"><span class=\"toc-item-num\">2.1&nbsp;&nbsp;</span>Оценка концентрации металлов (Au, Ag, Pb) на различных этапах: в сырье, в черновом концентрате, в концентрате после первой очистки и в финальном концентрате.</a></span></li><li><span><a href=\"#Сравнение-распределения-размеров-гранул-исходного-сырья-на-обучающей-и-тестовой-выборках.\" data-toc-modified-id=\"Сравнение-распределения-размеров-гранул-исходного-сырья-на-обучающей-и-тестовой-выборках.-2.2\"><span class=\"toc-item-num\">2.2&nbsp;&nbsp;</span>Сравнение распределения размеров гранул исходного сырья на обучающей и тестовой выборках.</a></span></li><li><span><a href=\"#Исследование-суммарной-концентрацию-металлов-на-разных-стадиях:-в-сырье,-в-черновом-концентрате,-в-концентрате-после-первой-очистки-и-в-финальном-концентрате.\" data-toc-modified-id=\"Исследование-суммарной-концентрацию-металлов-на-разных-стадиях:-в-сырье,-в-черновом-концентрате,-в-концентрате-после-первой-очистки-и-в-финальном-концентрате.-2.3\"><span class=\"toc-item-num\">2.3&nbsp;&nbsp;</span>Исследование суммарной концентрацию металлов на разных стадиях: в сырье, в черновом концентрате, в концентрате после первой очистки и в финальном концентрате.</a></span></li></ul></li><li><span><a href=\"#Модель\" data-toc-modified-id=\"Модель-3\"><span class=\"toc-item-num\">3&nbsp;&nbsp;</span>Модель</a></span><ul class=\"toc-item\"><li><span><a href=\"#Напишите-функцию-для-вычисления-итоговой-sMAPE.\" data-toc-modified-id=\"Напишите-функцию-для-вычисления-итоговой-sMAPE.-3.1\"><span class=\"toc-item-num\">3.1&nbsp;&nbsp;</span>Напишите функцию для вычисления итоговой sMAPE.</a></span></li><li><span><a href=\"#Выбор-лучшей-модели-для-расчета-концентрации-золота.\" data-toc-modified-id=\"Выбор-лучшей-модели-для-расчета-концентрации-золота.-3.2\"><span class=\"toc-item-num\">3.2&nbsp;&nbsp;</span>Выбор лучшей модели для расчета концентрации золота.</a></span><ul class=\"toc-item\"><li><span><a href=\"#Создание-пайплайна-для-первой-модели\" data-toc-modified-id=\"Создание-пайплайна-для-первой-модели-3.2.1\"><span class=\"toc-item-num\">3.2.1&nbsp;&nbsp;</span>Создание пайплайна для первой модели</a></span></li><li><span><a href=\"#Создание-пайплайна-для-второй-модели\" data-toc-modified-id=\"Создание-пайплайна-для-второй-модели-3.2.2\"><span class=\"toc-item-num\">3.2.2&nbsp;&nbsp;</span>Создание пайплайна для второй модели</a></span></li></ul></li><li><span><a href=\"#Расчет-итоговой-sMape\" data-toc-modified-id=\"Расчет-итоговой-sMape-3.3\"><span class=\"toc-item-num\">3.3&nbsp;&nbsp;</span>Расчет итоговой sMape</a></span></li><li><span><a href=\"#Расчет-sMape-на-тестовой-выборке\" data-toc-modified-id=\"Расчет-sMape-на-тестовой-выборке-3.4\"><span class=\"toc-item-num\">3.4&nbsp;&nbsp;</span>Расчет sMape на тестовой выборке</a></span></li><li><span><a href=\"#Проверка-модели-на-адекватность\" data-toc-modified-id=\"Проверка-модели-на-адекватность-3.5\"><span class=\"toc-item-num\">3.5&nbsp;&nbsp;</span>Проверка модели на адекватность</a></span></li></ul></li><li><span><a href=\"#Вывод-по-проекту\" data-toc-modified-id=\"Вывод-по-проекту-4\"><span class=\"toc-item-num\">4&nbsp;&nbsp;</span>Вывод по проекту</a></span></li></ul></div>"
   ]
  },
  {
   "cell_type": "markdown",
   "metadata": {},
   "source": [
    "# Восстановление золота из руды"
   ]
  },
  {
   "cell_type": "markdown",
   "metadata": {},
   "source": [
    "Подготовьте прототип модели машинного обучения для «Цифры». Компания разрабатывает решения для эффективной работы промышленных предприятий.\n",
    "\n",
    "Модель должна предсказать коэффициент восстановления золота из золотосодержащей руды. Используйте данные с параметрами добычи и очистки. \n",
    "\n",
    "Модель поможет оптимизировать производство, чтобы не запускать предприятие с убыточными характеристиками.\n",
    "\n",
    "Вам нужно:\n",
    "\n",
    "1. Подготовить данные;\n",
    "2. Провести исследовательский анализ данных;\n",
    "3. Построить и обучить модель.\n",
    "\n",
    "Чтобы выполнить проект, обращайтесь к библиотекам *pandas*, *matplotlib* и *sklearn.* Вам поможет их документация."
   ]
  },
  {
   "cell_type": "markdown",
   "metadata": {},
   "source": [
    "## Подготовка данных"
   ]
  },
  {
   "cell_type": "markdown",
   "metadata": {},
   "source": [
    "### Импорт библиотек"
   ]
  },
  {
   "cell_type": "code",
   "execution_count": 1,
   "metadata": {},
   "outputs": [],
   "source": [
    "import pandas as pd\n",
    "import numpy as np\n",
    "import matplotlib.pyplot as plt\n",
    "import scipy\n",
    "from sklearn.model_selection import train_test_split, RandomizedSearchCV, GridSearchCV\n",
    "from sklearn.preprocessing import MinMaxScaler, StandardScaler, PolynomialFeatures\n",
    "from sklearn.metrics import (\n",
    "    mean_absolute_error, \n",
    "    accuracy_score, \n",
    "    r2_score,\n",
    "    mean_squared_error,\n",
    "    make_scorer\n",
    ")    \n",
    "from sklearn.ensemble import RandomForestRegressor\n",
    "from sklearn.tree import DecisionTreeRegressor\n",
    "from sklearn.linear_model import LinearRegression\n",
    "from sklearn.pipeline import Pipeline\n",
    "from numpy.random import RandomState\n",
    "from sklearn.feature_selection import mutual_info_classif, SelectKBest\n",
    "from scipy.stats import uniform, norm, lognorm, loguniform\n",
    "from sklearn.dummy import DummyRegressor"
   ]
  },
  {
   "cell_type": "markdown",
   "metadata": {},
   "source": [
    "### Импорт и изучение данных"
   ]
  },
  {
   "cell_type": "code",
   "execution_count": 2,
   "metadata": {},
   "outputs": [],
   "source": [
    "pd.set_option('max_columns', None)"
   ]
  },
  {
   "cell_type": "code",
   "execution_count": 3,
   "metadata": {},
   "outputs": [],
   "source": [
    "gold_industry_train = pd.read_csv('/gold_industry_train.csv')\n",
    "gold_industry_test = pd.read_csv('/gold_industry_test.csv')\n",
    "gold_industry_full = pd.read_csv('/gold_industry_full.csv') "
   ]
  },
  {
   "cell_type": "code",
   "execution_count": 4,
   "metadata": {},
   "outputs": [
    {
     "name": "stdout",
     "output_type": "stream",
     "text": [
      "<class 'pandas.core.frame.DataFrame'>\n",
      "RangeIndex: 14579 entries, 0 to 14578\n",
      "Data columns (total 87 columns):\n",
      " #   Column                                              Non-Null Count  Dtype  \n",
      "---  ------                                              --------------  -----  \n",
      " 0   date                                                14579 non-null  object \n",
      " 1   rougher.input.feed_au                               14579 non-null  float64\n",
      " 2   rougher.input.feed_ag                               14579 non-null  float64\n",
      " 3   rougher.input.feed_pb                               14507 non-null  float64\n",
      " 4   rougher.input.feed_sol                              14502 non-null  float64\n",
      " 5   rougher.input.feed_rate                             14572 non-null  float64\n",
      " 6   rougher.input.feed_size                             14478 non-null  float64\n",
      " 7   rougher.input.floatbank10_sulfate                   14548 non-null  float64\n",
      " 8   rougher.input.floatbank10_xanthate                  14572 non-null  float64\n",
      " 9   rougher.state.floatbank10_a_air                     14579 non-null  float64\n",
      " 10  rougher.state.floatbank10_a_level                   14579 non-null  float64\n",
      " 11  rougher.state.floatbank10_b_air                     14579 non-null  float64\n",
      " 12  rougher.state.floatbank10_b_level                   14579 non-null  float64\n",
      " 13  rougher.state.floatbank10_c_air                     14579 non-null  float64\n",
      " 14  rougher.state.floatbank10_c_level                   14579 non-null  float64\n",
      " 15  rougher.state.floatbank10_d_air                     14579 non-null  float64\n",
      " 16  rougher.state.floatbank10_d_level                   14579 non-null  float64\n",
      " 17  rougher.state.floatbank10_e_air                     14150 non-null  float64\n",
      " 18  rougher.state.floatbank10_e_level                   14579 non-null  float64\n",
      " 19  rougher.state.floatbank10_f_air                     14579 non-null  float64\n",
      " 20  rougher.state.floatbank10_f_level                   14579 non-null  float64\n",
      " 21  rougher.input.floatbank11_sulfate                   14543 non-null  float64\n",
      " 22  rougher.input.floatbank11_xanthate                  14172 non-null  float64\n",
      " 23  rougher.calculation.sulfate_to_au_concentrate       14578 non-null  float64\n",
      " 24  rougher.calculation.floatbank10_sulfate_to_au_feed  14578 non-null  float64\n",
      " 25  rougher.calculation.floatbank11_sulfate_to_au_feed  14578 non-null  float64\n",
      " 26  rougher.calculation.au_pb_ratio                     14579 non-null  float64\n",
      " 27  rougher.output.concentrate_au                       14579 non-null  float64\n",
      " 28  rougher.output.concentrate_ag                       14579 non-null  float64\n",
      " 29  rougher.output.concentrate_pb                       14579 non-null  float64\n",
      " 30  rougher.output.concentrate_sol                      14561 non-null  float64\n",
      " 31  rougher.output.recovery                             14579 non-null  float64\n",
      " 32  rougher.output.tail_au                              14579 non-null  float64\n",
      " 33  rougher.output.tail_ag                              14578 non-null  float64\n",
      " 34  rougher.output.tail_pb                              14579 non-null  float64\n",
      " 35  rougher.output.tail_sol                             14579 non-null  float64\n",
      " 36  primary_cleaner.input.sulfate                       14556 non-null  float64\n",
      " 37  primary_cleaner.input.depressant                    14551 non-null  float64\n",
      " 38  primary_cleaner.input.feed_size                     14579 non-null  float64\n",
      " 39  primary_cleaner.input.xanthate                      14518 non-null  float64\n",
      " 40  primary_cleaner.state.floatbank8_a_air              14576 non-null  float64\n",
      " 41  primary_cleaner.state.floatbank8_a_level            14579 non-null  float64\n",
      " 42  primary_cleaner.state.floatbank8_b_air              14576 non-null  float64\n",
      " 43  primary_cleaner.state.floatbank8_b_level            14579 non-null  float64\n",
      " 44  primary_cleaner.state.floatbank8_c_air              14579 non-null  float64\n",
      " 45  primary_cleaner.state.floatbank8_c_level            14579 non-null  float64\n",
      " 46  primary_cleaner.state.floatbank8_d_air              14578 non-null  float64\n",
      " 47  primary_cleaner.state.floatbank8_d_level            14579 non-null  float64\n",
      " 48  primary_cleaner.output.concentrate_au               14579 non-null  float64\n",
      " 49  primary_cleaner.output.concentrate_ag               14579 non-null  float64\n",
      " 50  primary_cleaner.output.concentrate_pb               14491 non-null  float64\n",
      " 51  primary_cleaner.output.concentrate_sol              14314 non-null  float64\n",
      " 52  primary_cleaner.output.tail_au                      14579 non-null  float64\n",
      " 53  primary_cleaner.output.tail_ag                      14575 non-null  float64\n",
      " 54  primary_cleaner.output.tail_pb                      14573 non-null  float64\n",
      " 55  primary_cleaner.output.tail_sol                     14534 non-null  float64\n",
      " 56  secondary_cleaner.state.floatbank2_a_air            14485 non-null  float64\n",
      " 57  secondary_cleaner.state.floatbank2_a_level          14579 non-null  float64\n",
      " 58  secondary_cleaner.state.floatbank2_b_air            14557 non-null  float64\n",
      " 59  secondary_cleaner.state.floatbank2_b_level          14579 non-null  float64\n",
      " 60  secondary_cleaner.state.floatbank3_a_air            14567 non-null  float64\n",
      " 61  secondary_cleaner.state.floatbank3_a_level          14579 non-null  float64\n",
      " 62  secondary_cleaner.state.floatbank3_b_air            14579 non-null  float64\n",
      " 63  secondary_cleaner.state.floatbank3_b_level          14579 non-null  float64\n",
      " 64  secondary_cleaner.state.floatbank4_a_air            14574 non-null  float64\n",
      " 65  secondary_cleaner.state.floatbank4_a_level          14579 non-null  float64\n",
      " 66  secondary_cleaner.state.floatbank4_b_air            14579 non-null  float64\n",
      " 67  secondary_cleaner.state.floatbank4_b_level          14579 non-null  float64\n",
      " 68  secondary_cleaner.state.floatbank5_a_air            14579 non-null  float64\n",
      " 69  secondary_cleaner.state.floatbank5_a_level          14579 non-null  float64\n",
      " 70  secondary_cleaner.state.floatbank5_b_air            14579 non-null  float64\n",
      " 71  secondary_cleaner.state.floatbank5_b_level          14579 non-null  float64\n",
      " 72  secondary_cleaner.state.floatbank6_a_air            14578 non-null  float64\n",
      " 73  secondary_cleaner.state.floatbank6_a_level          14579 non-null  float64\n",
      " 74  secondary_cleaner.output.tail_au                    14579 non-null  float64\n",
      " 75  secondary_cleaner.output.tail_ag                    14578 non-null  float64\n",
      " 76  secondary_cleaner.output.tail_pb                    14575 non-null  float64\n",
      " 77  secondary_cleaner.output.tail_sol                   13659 non-null  float64\n",
      " 78  final.output.concentrate_au                         14579 non-null  float64\n",
      " 79  final.output.concentrate_ag                         14578 non-null  float64\n",
      " 80  final.output.concentrate_pb                         14578 non-null  float64\n",
      " 81  final.output.concentrate_sol                        14387 non-null  float64\n",
      " 82  final.output.recovery                               14579 non-null  float64\n",
      " 83  final.output.tail_au                                14579 non-null  float64\n",
      " 84  final.output.tail_ag                                14578 non-null  float64\n",
      " 85  final.output.tail_pb                                14504 non-null  float64\n",
      " 86  final.output.tail_sol                               14574 non-null  float64\n",
      "dtypes: float64(86), object(1)\n",
      "memory usage: 9.7+ MB\n"
     ]
    }
   ],
   "source": [
    "gold_industry_train.info()"
   ]
  },
  {
   "cell_type": "code",
   "execution_count": 5,
   "metadata": {},
   "outputs": [
    {
     "name": "stdout",
     "output_type": "stream",
     "text": [
      "<class 'pandas.core.frame.DataFrame'>\n",
      "RangeIndex: 4860 entries, 0 to 4859\n",
      "Data columns (total 53 columns):\n",
      " #   Column                                      Non-Null Count  Dtype  \n",
      "---  ------                                      --------------  -----  \n",
      " 0   date                                        4860 non-null   object \n",
      " 1   rougher.input.feed_au                       4860 non-null   float64\n",
      " 2   rougher.input.feed_ag                       4860 non-null   float64\n",
      " 3   rougher.input.feed_pb                       4832 non-null   float64\n",
      " 4   rougher.input.feed_sol                      4838 non-null   float64\n",
      " 5   rougher.input.feed_rate                     4856 non-null   float64\n",
      " 6   rougher.input.feed_size                     4816 non-null   float64\n",
      " 7   rougher.input.floatbank10_sulfate           4857 non-null   float64\n",
      " 8   rougher.input.floatbank10_xanthate          4859 non-null   float64\n",
      " 9   rougher.state.floatbank10_a_air             4859 non-null   float64\n",
      " 10  rougher.state.floatbank10_a_level           4859 non-null   float64\n",
      " 11  rougher.state.floatbank10_b_air             4859 non-null   float64\n",
      " 12  rougher.state.floatbank10_b_level           4859 non-null   float64\n",
      " 13  rougher.state.floatbank10_c_air             4859 non-null   float64\n",
      " 14  rougher.state.floatbank10_c_level           4859 non-null   float64\n",
      " 15  rougher.state.floatbank10_d_air             4860 non-null   float64\n",
      " 16  rougher.state.floatbank10_d_level           4860 non-null   float64\n",
      " 17  rougher.state.floatbank10_e_air             4853 non-null   float64\n",
      " 18  rougher.state.floatbank10_e_level           4860 non-null   float64\n",
      " 19  rougher.state.floatbank10_f_air             4860 non-null   float64\n",
      " 20  rougher.state.floatbank10_f_level           4860 non-null   float64\n",
      " 21  rougher.input.floatbank11_sulfate           4852 non-null   float64\n",
      " 22  rougher.input.floatbank11_xanthate          4814 non-null   float64\n",
      " 23  primary_cleaner.input.sulfate               4859 non-null   float64\n",
      " 24  primary_cleaner.input.depressant            4851 non-null   float64\n",
      " 25  primary_cleaner.input.feed_size             4860 non-null   float64\n",
      " 26  primary_cleaner.input.xanthate              4817 non-null   float64\n",
      " 27  primary_cleaner.state.floatbank8_a_air      4859 non-null   float64\n",
      " 28  primary_cleaner.state.floatbank8_a_level    4859 non-null   float64\n",
      " 29  primary_cleaner.state.floatbank8_b_air      4859 non-null   float64\n",
      " 30  primary_cleaner.state.floatbank8_b_level    4859 non-null   float64\n",
      " 31  primary_cleaner.state.floatbank8_c_air      4858 non-null   float64\n",
      " 32  primary_cleaner.state.floatbank8_c_level    4859 non-null   float64\n",
      " 33  primary_cleaner.state.floatbank8_d_air      4858 non-null   float64\n",
      " 34  primary_cleaner.state.floatbank8_d_level    4859 non-null   float64\n",
      " 35  secondary_cleaner.state.floatbank2_a_air    4734 non-null   float64\n",
      " 36  secondary_cleaner.state.floatbank2_a_level  4859 non-null   float64\n",
      " 37  secondary_cleaner.state.floatbank2_b_air    4859 non-null   float64\n",
      " 38  secondary_cleaner.state.floatbank2_b_level  4859 non-null   float64\n",
      " 39  secondary_cleaner.state.floatbank3_a_air    4859 non-null   float64\n",
      " 40  secondary_cleaner.state.floatbank3_a_level  4859 non-null   float64\n",
      " 41  secondary_cleaner.state.floatbank3_b_air    4859 non-null   float64\n",
      " 42  secondary_cleaner.state.floatbank3_b_level  4859 non-null   float64\n",
      " 43  secondary_cleaner.state.floatbank4_a_air    4859 non-null   float64\n",
      " 44  secondary_cleaner.state.floatbank4_a_level  4859 non-null   float64\n",
      " 45  secondary_cleaner.state.floatbank4_b_air    4859 non-null   float64\n",
      " 46  secondary_cleaner.state.floatbank4_b_level  4859 non-null   float64\n",
      " 47  secondary_cleaner.state.floatbank5_a_air    4859 non-null   float64\n",
      " 48  secondary_cleaner.state.floatbank5_a_level  4859 non-null   float64\n",
      " 49  secondary_cleaner.state.floatbank5_b_air    4859 non-null   float64\n",
      " 50  secondary_cleaner.state.floatbank5_b_level  4859 non-null   float64\n",
      " 51  secondary_cleaner.state.floatbank6_a_air    4859 non-null   float64\n",
      " 52  secondary_cleaner.state.floatbank6_a_level  4859 non-null   float64\n",
      "dtypes: float64(52), object(1)\n",
      "memory usage: 2.0+ MB\n"
     ]
    }
   ],
   "source": [
    "gold_industry_test.info()"
   ]
  },
  {
   "cell_type": "code",
   "execution_count": 6,
   "metadata": {},
   "outputs": [
    {
     "data": {
      "text/html": [
       "<div>\n",
       "<style scoped>\n",
       "    .dataframe tbody tr th:only-of-type {\n",
       "        vertical-align: middle;\n",
       "    }\n",
       "\n",
       "    .dataframe tbody tr th {\n",
       "        vertical-align: top;\n",
       "    }\n",
       "\n",
       "    .dataframe thead th {\n",
       "        text-align: right;\n",
       "    }\n",
       "</style>\n",
       "<table border=\"1\" class=\"dataframe\">\n",
       "  <thead>\n",
       "    <tr style=\"text-align: right;\">\n",
       "      <th></th>\n",
       "      <th>date</th>\n",
       "      <th>rougher.input.feed_au</th>\n",
       "      <th>rougher.input.feed_ag</th>\n",
       "      <th>rougher.input.feed_pb</th>\n",
       "      <th>rougher.input.feed_sol</th>\n",
       "      <th>rougher.input.feed_rate</th>\n",
       "      <th>rougher.input.feed_size</th>\n",
       "      <th>rougher.input.floatbank10_sulfate</th>\n",
       "      <th>rougher.input.floatbank10_xanthate</th>\n",
       "      <th>rougher.state.floatbank10_a_air</th>\n",
       "      <th>rougher.state.floatbank10_a_level</th>\n",
       "      <th>rougher.state.floatbank10_b_air</th>\n",
       "      <th>rougher.state.floatbank10_b_level</th>\n",
       "      <th>rougher.state.floatbank10_c_air</th>\n",
       "      <th>rougher.state.floatbank10_c_level</th>\n",
       "      <th>rougher.state.floatbank10_d_air</th>\n",
       "      <th>rougher.state.floatbank10_d_level</th>\n",
       "      <th>rougher.state.floatbank10_e_air</th>\n",
       "      <th>rougher.state.floatbank10_e_level</th>\n",
       "      <th>rougher.state.floatbank10_f_air</th>\n",
       "      <th>rougher.state.floatbank10_f_level</th>\n",
       "      <th>rougher.input.floatbank11_sulfate</th>\n",
       "      <th>rougher.input.floatbank11_xanthate</th>\n",
       "      <th>rougher.calculation.sulfate_to_au_concentrate</th>\n",
       "      <th>rougher.calculation.floatbank10_sulfate_to_au_feed</th>\n",
       "      <th>rougher.calculation.floatbank11_sulfate_to_au_feed</th>\n",
       "      <th>rougher.calculation.au_pb_ratio</th>\n",
       "      <th>rougher.output.concentrate_au</th>\n",
       "      <th>rougher.output.concentrate_ag</th>\n",
       "      <th>rougher.output.concentrate_pb</th>\n",
       "      <th>rougher.output.concentrate_sol</th>\n",
       "      <th>rougher.output.recovery</th>\n",
       "      <th>rougher.output.tail_au</th>\n",
       "      <th>rougher.output.tail_ag</th>\n",
       "      <th>rougher.output.tail_pb</th>\n",
       "      <th>rougher.output.tail_sol</th>\n",
       "      <th>primary_cleaner.input.sulfate</th>\n",
       "      <th>primary_cleaner.input.depressant</th>\n",
       "      <th>primary_cleaner.input.feed_size</th>\n",
       "      <th>primary_cleaner.input.xanthate</th>\n",
       "      <th>primary_cleaner.state.floatbank8_a_air</th>\n",
       "      <th>primary_cleaner.state.floatbank8_a_level</th>\n",
       "      <th>primary_cleaner.state.floatbank8_b_air</th>\n",
       "      <th>primary_cleaner.state.floatbank8_b_level</th>\n",
       "      <th>primary_cleaner.state.floatbank8_c_air</th>\n",
       "      <th>primary_cleaner.state.floatbank8_c_level</th>\n",
       "      <th>primary_cleaner.state.floatbank8_d_air</th>\n",
       "      <th>primary_cleaner.state.floatbank8_d_level</th>\n",
       "      <th>primary_cleaner.output.concentrate_au</th>\n",
       "      <th>primary_cleaner.output.concentrate_ag</th>\n",
       "      <th>primary_cleaner.output.concentrate_pb</th>\n",
       "      <th>primary_cleaner.output.concentrate_sol</th>\n",
       "      <th>primary_cleaner.output.tail_au</th>\n",
       "      <th>primary_cleaner.output.tail_ag</th>\n",
       "      <th>primary_cleaner.output.tail_pb</th>\n",
       "      <th>primary_cleaner.output.tail_sol</th>\n",
       "      <th>secondary_cleaner.state.floatbank2_a_air</th>\n",
       "      <th>secondary_cleaner.state.floatbank2_a_level</th>\n",
       "      <th>secondary_cleaner.state.floatbank2_b_air</th>\n",
       "      <th>secondary_cleaner.state.floatbank2_b_level</th>\n",
       "      <th>secondary_cleaner.state.floatbank3_a_air</th>\n",
       "      <th>secondary_cleaner.state.floatbank3_a_level</th>\n",
       "      <th>secondary_cleaner.state.floatbank3_b_air</th>\n",
       "      <th>secondary_cleaner.state.floatbank3_b_level</th>\n",
       "      <th>secondary_cleaner.state.floatbank4_a_air</th>\n",
       "      <th>secondary_cleaner.state.floatbank4_a_level</th>\n",
       "      <th>secondary_cleaner.state.floatbank4_b_air</th>\n",
       "      <th>secondary_cleaner.state.floatbank4_b_level</th>\n",
       "      <th>secondary_cleaner.state.floatbank5_a_air</th>\n",
       "      <th>secondary_cleaner.state.floatbank5_a_level</th>\n",
       "      <th>secondary_cleaner.state.floatbank5_b_air</th>\n",
       "      <th>secondary_cleaner.state.floatbank5_b_level</th>\n",
       "      <th>secondary_cleaner.state.floatbank6_a_air</th>\n",
       "      <th>secondary_cleaner.state.floatbank6_a_level</th>\n",
       "      <th>secondary_cleaner.output.tail_au</th>\n",
       "      <th>secondary_cleaner.output.tail_ag</th>\n",
       "      <th>secondary_cleaner.output.tail_pb</th>\n",
       "      <th>secondary_cleaner.output.tail_sol</th>\n",
       "      <th>final.output.concentrate_au</th>\n",
       "      <th>final.output.concentrate_ag</th>\n",
       "      <th>final.output.concentrate_pb</th>\n",
       "      <th>final.output.concentrate_sol</th>\n",
       "      <th>final.output.recovery</th>\n",
       "      <th>final.output.tail_au</th>\n",
       "      <th>final.output.tail_ag</th>\n",
       "      <th>final.output.tail_pb</th>\n",
       "      <th>final.output.tail_sol</th>\n",
       "    </tr>\n",
       "  </thead>\n",
       "  <tbody>\n",
       "    <tr>\n",
       "      <th>0</th>\n",
       "      <td>2016-01-15 00:00:00</td>\n",
       "      <td>6.486150</td>\n",
       "      <td>6.100378</td>\n",
       "      <td>2.284912</td>\n",
       "      <td>36.808594</td>\n",
       "      <td>523.546326</td>\n",
       "      <td>55.486599</td>\n",
       "      <td>11.986616</td>\n",
       "      <td>6.007990</td>\n",
       "      <td>999.706909</td>\n",
       "      <td>-404.066986</td>\n",
       "      <td>1603.011353</td>\n",
       "      <td>-434.715027</td>\n",
       "      <td>1602.375000</td>\n",
       "      <td>-442.204468</td>\n",
       "      <td>1598.937256</td>\n",
       "      <td>-451.294128</td>\n",
       "      <td>1404.472046</td>\n",
       "      <td>-455.462982</td>\n",
       "      <td>1416.354980</td>\n",
       "      <td>-451.939636</td>\n",
       "      <td>11.836743</td>\n",
       "      <td>6.005818</td>\n",
       "      <td>41885.707031</td>\n",
       "      <td>3481.779053</td>\n",
       "      <td>3520.337158</td>\n",
       "      <td>2.838687</td>\n",
       "      <td>19.793808</td>\n",
       "      <td>11.500771</td>\n",
       "      <td>7.101074</td>\n",
       "      <td>28.029297</td>\n",
       "      <td>87.107763</td>\n",
       "      <td>1.170244</td>\n",
       "      <td>5.008018</td>\n",
       "      <td>0.508728</td>\n",
       "      <td>19.154297</td>\n",
       "      <td>127.092003</td>\n",
       "      <td>10.128295</td>\n",
       "      <td>7.25</td>\n",
       "      <td>0.988759</td>\n",
       "      <td>1549.775757</td>\n",
       "      <td>-498.912140</td>\n",
       "      <td>1551.434204</td>\n",
       "      <td>-516.403442</td>\n",
       "      <td>1549.873901</td>\n",
       "      <td>-498.666595</td>\n",
       "      <td>1554.367432</td>\n",
       "      <td>-493.428131</td>\n",
       "      <td>34.174427</td>\n",
       "      <td>8.547551</td>\n",
       "      <td>10.389648</td>\n",
       "      <td>19.529297</td>\n",
       "      <td>2.106679</td>\n",
       "      <td>14.936526</td>\n",
       "      <td>2.534912</td>\n",
       "      <td>7.476074</td>\n",
       "      <td>25.853109</td>\n",
       "      <td>-498.526489</td>\n",
       "      <td>23.893660</td>\n",
       "      <td>-501.406281</td>\n",
       "      <td>23.961798</td>\n",
       "      <td>-495.262817</td>\n",
       "      <td>21.940409</td>\n",
       "      <td>-499.340973</td>\n",
       "      <td>14.016835</td>\n",
       "      <td>-502.488007</td>\n",
       "      <td>12.099931</td>\n",
       "      <td>-504.715942</td>\n",
       "      <td>9.925633</td>\n",
       "      <td>-498.310211</td>\n",
       "      <td>8.079666</td>\n",
       "      <td>-500.470978</td>\n",
       "      <td>14.151341</td>\n",
       "      <td>-605.841980</td>\n",
       "      <td>2.606185</td>\n",
       "      <td>14.500184</td>\n",
       "      <td>4.694824</td>\n",
       "      <td>8.764648</td>\n",
       "      <td>42.192020</td>\n",
       "      <td>6.055403</td>\n",
       "      <td>9.889648</td>\n",
       "      <td>5.507324</td>\n",
       "      <td>70.541216</td>\n",
       "      <td>2.143149</td>\n",
       "      <td>10.411962</td>\n",
       "      <td>0.895447</td>\n",
       "      <td>16.904297</td>\n",
       "    </tr>\n",
       "    <tr>\n",
       "      <th>1</th>\n",
       "      <td>2016-01-15 01:00:00</td>\n",
       "      <td>6.478583</td>\n",
       "      <td>6.161113</td>\n",
       "      <td>2.266033</td>\n",
       "      <td>35.753385</td>\n",
       "      <td>525.290581</td>\n",
       "      <td>57.278666</td>\n",
       "      <td>11.971193</td>\n",
       "      <td>6.005766</td>\n",
       "      <td>1000.286398</td>\n",
       "      <td>-400.065196</td>\n",
       "      <td>1600.754587</td>\n",
       "      <td>-449.953435</td>\n",
       "      <td>1600.479580</td>\n",
       "      <td>-449.830646</td>\n",
       "      <td>1600.527589</td>\n",
       "      <td>-449.953649</td>\n",
       "      <td>1399.227084</td>\n",
       "      <td>-450.869848</td>\n",
       "      <td>1399.719514</td>\n",
       "      <td>-450.119001</td>\n",
       "      <td>11.996163</td>\n",
       "      <td>6.012594</td>\n",
       "      <td>42050.861809</td>\n",
       "      <td>3498.370979</td>\n",
       "      <td>3489.981857</td>\n",
       "      <td>2.858998</td>\n",
       "      <td>20.050975</td>\n",
       "      <td>11.615865</td>\n",
       "      <td>7.278807</td>\n",
       "      <td>28.067063</td>\n",
       "      <td>86.843261</td>\n",
       "      <td>1.184827</td>\n",
       "      <td>4.955378</td>\n",
       "      <td>0.536689</td>\n",
       "      <td>18.965234</td>\n",
       "      <td>125.629232</td>\n",
       "      <td>10.296251</td>\n",
       "      <td>7.25</td>\n",
       "      <td>1.002663</td>\n",
       "      <td>1576.166671</td>\n",
       "      <td>-500.904965</td>\n",
       "      <td>1575.950626</td>\n",
       "      <td>-499.865889</td>\n",
       "      <td>1575.994189</td>\n",
       "      <td>-499.315107</td>\n",
       "      <td>1574.479259</td>\n",
       "      <td>-498.931665</td>\n",
       "      <td>34.118526</td>\n",
       "      <td>8.558743</td>\n",
       "      <td>10.497069</td>\n",
       "      <td>19.369147</td>\n",
       "      <td>2.353017</td>\n",
       "      <td>16.250511</td>\n",
       "      <td>3.049646</td>\n",
       "      <td>6.733907</td>\n",
       "      <td>25.880539</td>\n",
       "      <td>-499.989656</td>\n",
       "      <td>23.889530</td>\n",
       "      <td>-500.372428</td>\n",
       "      <td>23.970550</td>\n",
       "      <td>-500.085473</td>\n",
       "      <td>22.085714</td>\n",
       "      <td>-499.446897</td>\n",
       "      <td>13.992281</td>\n",
       "      <td>-505.503262</td>\n",
       "      <td>11.950531</td>\n",
       "      <td>-501.331529</td>\n",
       "      <td>10.039245</td>\n",
       "      <td>-500.169983</td>\n",
       "      <td>7.984757</td>\n",
       "      <td>-500.582168</td>\n",
       "      <td>13.998353</td>\n",
       "      <td>-599.787184</td>\n",
       "      <td>2.488248</td>\n",
       "      <td>14.265474</td>\n",
       "      <td>4.592547</td>\n",
       "      <td>9.001494</td>\n",
       "      <td>42.701629</td>\n",
       "      <td>6.029369</td>\n",
       "      <td>9.968944</td>\n",
       "      <td>5.257781</td>\n",
       "      <td>69.266198</td>\n",
       "      <td>2.224930</td>\n",
       "      <td>10.462676</td>\n",
       "      <td>0.927452</td>\n",
       "      <td>16.634514</td>\n",
       "    </tr>\n",
       "    <tr>\n",
       "      <th>2</th>\n",
       "      <td>2016-01-15 02:00:00</td>\n",
       "      <td>6.362222</td>\n",
       "      <td>6.116455</td>\n",
       "      <td>2.159622</td>\n",
       "      <td>35.971630</td>\n",
       "      <td>530.026610</td>\n",
       "      <td>57.510649</td>\n",
       "      <td>11.920603</td>\n",
       "      <td>6.197377</td>\n",
       "      <td>999.719565</td>\n",
       "      <td>-400.074028</td>\n",
       "      <td>1599.337330</td>\n",
       "      <td>-450.008530</td>\n",
       "      <td>1599.672797</td>\n",
       "      <td>-449.954491</td>\n",
       "      <td>1599.849325</td>\n",
       "      <td>-449.954185</td>\n",
       "      <td>1399.180945</td>\n",
       "      <td>-449.937588</td>\n",
       "      <td>1400.316682</td>\n",
       "      <td>-450.527147</td>\n",
       "      <td>11.920305</td>\n",
       "      <td>6.204633</td>\n",
       "      <td>42018.101184</td>\n",
       "      <td>3495.348910</td>\n",
       "      <td>3502.359819</td>\n",
       "      <td>2.945989</td>\n",
       "      <td>19.737170</td>\n",
       "      <td>11.695753</td>\n",
       "      <td>7.216833</td>\n",
       "      <td>27.454037</td>\n",
       "      <td>86.842308</td>\n",
       "      <td>1.162562</td>\n",
       "      <td>4.843460</td>\n",
       "      <td>0.546416</td>\n",
       "      <td>18.808533</td>\n",
       "      <td>123.819808</td>\n",
       "      <td>11.316280</td>\n",
       "      <td>7.25</td>\n",
       "      <td>0.991265</td>\n",
       "      <td>1601.556163</td>\n",
       "      <td>-499.997791</td>\n",
       "      <td>1600.386685</td>\n",
       "      <td>-500.607762</td>\n",
       "      <td>1602.003542</td>\n",
       "      <td>-500.870069</td>\n",
       "      <td>1599.541515</td>\n",
       "      <td>-499.827444</td>\n",
       "      <td>33.969464</td>\n",
       "      <td>8.603505</td>\n",
       "      <td>10.354494</td>\n",
       "      <td>19.167579</td>\n",
       "      <td>2.416800</td>\n",
       "      <td>16.491823</td>\n",
       "      <td>3.124664</td>\n",
       "      <td>6.471768</td>\n",
       "      <td>26.005245</td>\n",
       "      <td>-499.929616</td>\n",
       "      <td>23.886657</td>\n",
       "      <td>-499.951928</td>\n",
       "      <td>23.913535</td>\n",
       "      <td>-499.442343</td>\n",
       "      <td>23.957717</td>\n",
       "      <td>-499.901982</td>\n",
       "      <td>14.015015</td>\n",
       "      <td>-502.520901</td>\n",
       "      <td>11.912783</td>\n",
       "      <td>-501.133383</td>\n",
       "      <td>10.070913</td>\n",
       "      <td>-500.129135</td>\n",
       "      <td>8.013877</td>\n",
       "      <td>-500.517572</td>\n",
       "      <td>14.028663</td>\n",
       "      <td>-601.427363</td>\n",
       "      <td>2.458187</td>\n",
       "      <td>14.115662</td>\n",
       "      <td>4.624775</td>\n",
       "      <td>8.842896</td>\n",
       "      <td>42.657501</td>\n",
       "      <td>6.055926</td>\n",
       "      <td>10.213995</td>\n",
       "      <td>5.383759</td>\n",
       "      <td>68.116445</td>\n",
       "      <td>2.257889</td>\n",
       "      <td>10.507046</td>\n",
       "      <td>0.953716</td>\n",
       "      <td>16.208849</td>\n",
       "    </tr>\n",
       "    <tr>\n",
       "      <th>3</th>\n",
       "      <td>2016-01-15 03:00:00</td>\n",
       "      <td>6.118189</td>\n",
       "      <td>6.043309</td>\n",
       "      <td>2.037807</td>\n",
       "      <td>36.862241</td>\n",
       "      <td>542.590390</td>\n",
       "      <td>57.792734</td>\n",
       "      <td>11.630094</td>\n",
       "      <td>6.203177</td>\n",
       "      <td>999.814770</td>\n",
       "      <td>-400.200179</td>\n",
       "      <td>1600.059442</td>\n",
       "      <td>-450.619948</td>\n",
       "      <td>1600.012842</td>\n",
       "      <td>-449.910497</td>\n",
       "      <td>1597.725177</td>\n",
       "      <td>-450.130127</td>\n",
       "      <td>1400.943157</td>\n",
       "      <td>-450.030142</td>\n",
       "      <td>1400.234743</td>\n",
       "      <td>-449.790835</td>\n",
       "      <td>11.692450</td>\n",
       "      <td>6.196578</td>\n",
       "      <td>42029.447991</td>\n",
       "      <td>3498.578313</td>\n",
       "      <td>3499.162912</td>\n",
       "      <td>3.002340</td>\n",
       "      <td>19.320810</td>\n",
       "      <td>11.915047</td>\n",
       "      <td>7.175616</td>\n",
       "      <td>27.341277</td>\n",
       "      <td>87.226430</td>\n",
       "      <td>1.079755</td>\n",
       "      <td>4.655288</td>\n",
       "      <td>0.542525</td>\n",
       "      <td>19.330200</td>\n",
       "      <td>122.270188</td>\n",
       "      <td>11.322140</td>\n",
       "      <td>7.25</td>\n",
       "      <td>0.996739</td>\n",
       "      <td>1599.968720</td>\n",
       "      <td>-500.951778</td>\n",
       "      <td>1600.659236</td>\n",
       "      <td>-499.677094</td>\n",
       "      <td>1600.304144</td>\n",
       "      <td>-500.727997</td>\n",
       "      <td>1600.449520</td>\n",
       "      <td>-500.052575</td>\n",
       "      <td>28.260743</td>\n",
       "      <td>7.221879</td>\n",
       "      <td>8.496563</td>\n",
       "      <td>15.978538</td>\n",
       "      <td>2.262051</td>\n",
       "      <td>16.024359</td>\n",
       "      <td>2.960362</td>\n",
       "      <td>6.843791</td>\n",
       "      <td>25.942508</td>\n",
       "      <td>-499.176749</td>\n",
       "      <td>23.955516</td>\n",
       "      <td>-499.848796</td>\n",
       "      <td>23.966838</td>\n",
       "      <td>-500.008812</td>\n",
       "      <td>23.954443</td>\n",
       "      <td>-499.944710</td>\n",
       "      <td>14.036510</td>\n",
       "      <td>-500.857308</td>\n",
       "      <td>11.999550</td>\n",
       "      <td>-501.193686</td>\n",
       "      <td>9.970366</td>\n",
       "      <td>-499.201640</td>\n",
       "      <td>7.977324</td>\n",
       "      <td>-500.255908</td>\n",
       "      <td>14.005551</td>\n",
       "      <td>-599.996129</td>\n",
       "      <td>2.322062</td>\n",
       "      <td>13.732071</td>\n",
       "      <td>4.482453</td>\n",
       "      <td>9.122857</td>\n",
       "      <td>42.689819</td>\n",
       "      <td>6.047977</td>\n",
       "      <td>9.977019</td>\n",
       "      <td>4.858634</td>\n",
       "      <td>68.347543</td>\n",
       "      <td>2.146849</td>\n",
       "      <td>10.422762</td>\n",
       "      <td>0.883763</td>\n",
       "      <td>16.532835</td>\n",
       "    </tr>\n",
       "    <tr>\n",
       "      <th>4</th>\n",
       "      <td>2016-01-15 04:00:00</td>\n",
       "      <td>5.663707</td>\n",
       "      <td>6.060915</td>\n",
       "      <td>1.786875</td>\n",
       "      <td>34.347666</td>\n",
       "      <td>540.531893</td>\n",
       "      <td>56.047189</td>\n",
       "      <td>10.957755</td>\n",
       "      <td>6.198826</td>\n",
       "      <td>999.678690</td>\n",
       "      <td>-399.752729</td>\n",
       "      <td>1600.208824</td>\n",
       "      <td>-449.599614</td>\n",
       "      <td>1600.357732</td>\n",
       "      <td>-450.034364</td>\n",
       "      <td>1599.759049</td>\n",
       "      <td>-449.909799</td>\n",
       "      <td>1401.560902</td>\n",
       "      <td>-448.877187</td>\n",
       "      <td>1401.160227</td>\n",
       "      <td>-450.407128</td>\n",
       "      <td>10.960521</td>\n",
       "      <td>6.194897</td>\n",
       "      <td>42125.354245</td>\n",
       "      <td>3494.800771</td>\n",
       "      <td>3506.679315</td>\n",
       "      <td>3.169615</td>\n",
       "      <td>19.216101</td>\n",
       "      <td>12.411054</td>\n",
       "      <td>7.240205</td>\n",
       "      <td>27.041023</td>\n",
       "      <td>86.688794</td>\n",
       "      <td>1.012642</td>\n",
       "      <td>4.552800</td>\n",
       "      <td>0.515438</td>\n",
       "      <td>19.267422</td>\n",
       "      <td>117.988169</td>\n",
       "      <td>11.913613</td>\n",
       "      <td>7.25</td>\n",
       "      <td>1.009869</td>\n",
       "      <td>1601.339707</td>\n",
       "      <td>-498.975456</td>\n",
       "      <td>1601.437854</td>\n",
       "      <td>-500.323246</td>\n",
       "      <td>1599.581894</td>\n",
       "      <td>-500.888152</td>\n",
       "      <td>1602.649541</td>\n",
       "      <td>-500.593010</td>\n",
       "      <td>33.044932</td>\n",
       "      <td>9.089428</td>\n",
       "      <td>9.986786</td>\n",
       "      <td>19.199864</td>\n",
       "      <td>2.277073</td>\n",
       "      <td>16.480185</td>\n",
       "      <td>3.112100</td>\n",
       "      <td>6.550154</td>\n",
       "      <td>26.024787</td>\n",
       "      <td>-500.279091</td>\n",
       "      <td>23.955345</td>\n",
       "      <td>-500.593614</td>\n",
       "      <td>23.985703</td>\n",
       "      <td>-500.083811</td>\n",
       "      <td>23.958945</td>\n",
       "      <td>-499.990309</td>\n",
       "      <td>14.027298</td>\n",
       "      <td>-499.838632</td>\n",
       "      <td>11.953070</td>\n",
       "      <td>-501.053894</td>\n",
       "      <td>9.925709</td>\n",
       "      <td>-501.686727</td>\n",
       "      <td>7.894242</td>\n",
       "      <td>-500.356035</td>\n",
       "      <td>13.996647</td>\n",
       "      <td>-601.496691</td>\n",
       "      <td>2.330448</td>\n",
       "      <td>14.079996</td>\n",
       "      <td>4.470737</td>\n",
       "      <td>8.871028</td>\n",
       "      <td>42.774141</td>\n",
       "      <td>6.148599</td>\n",
       "      <td>10.142511</td>\n",
       "      <td>4.939416</td>\n",
       "      <td>66.927016</td>\n",
       "      <td>2.055292</td>\n",
       "      <td>10.360302</td>\n",
       "      <td>0.792826</td>\n",
       "      <td>16.525686</td>\n",
       "    </tr>\n",
       "  </tbody>\n",
       "</table>\n",
       "</div>"
      ],
      "text/plain": [
       "                  date  rougher.input.feed_au  rougher.input.feed_ag  \\\n",
       "0  2016-01-15 00:00:00               6.486150               6.100378   \n",
       "1  2016-01-15 01:00:00               6.478583               6.161113   \n",
       "2  2016-01-15 02:00:00               6.362222               6.116455   \n",
       "3  2016-01-15 03:00:00               6.118189               6.043309   \n",
       "4  2016-01-15 04:00:00               5.663707               6.060915   \n",
       "\n",
       "   rougher.input.feed_pb  rougher.input.feed_sol  rougher.input.feed_rate  \\\n",
       "0               2.284912               36.808594               523.546326   \n",
       "1               2.266033               35.753385               525.290581   \n",
       "2               2.159622               35.971630               530.026610   \n",
       "3               2.037807               36.862241               542.590390   \n",
       "4               1.786875               34.347666               540.531893   \n",
       "\n",
       "   rougher.input.feed_size  rougher.input.floatbank10_sulfate  \\\n",
       "0                55.486599                          11.986616   \n",
       "1                57.278666                          11.971193   \n",
       "2                57.510649                          11.920603   \n",
       "3                57.792734                          11.630094   \n",
       "4                56.047189                          10.957755   \n",
       "\n",
       "   rougher.input.floatbank10_xanthate  rougher.state.floatbank10_a_air  \\\n",
       "0                            6.007990                       999.706909   \n",
       "1                            6.005766                      1000.286398   \n",
       "2                            6.197377                       999.719565   \n",
       "3                            6.203177                       999.814770   \n",
       "4                            6.198826                       999.678690   \n",
       "\n",
       "   rougher.state.floatbank10_a_level  rougher.state.floatbank10_b_air  \\\n",
       "0                        -404.066986                      1603.011353   \n",
       "1                        -400.065196                      1600.754587   \n",
       "2                        -400.074028                      1599.337330   \n",
       "3                        -400.200179                      1600.059442   \n",
       "4                        -399.752729                      1600.208824   \n",
       "\n",
       "   rougher.state.floatbank10_b_level  rougher.state.floatbank10_c_air  \\\n",
       "0                        -434.715027                      1602.375000   \n",
       "1                        -449.953435                      1600.479580   \n",
       "2                        -450.008530                      1599.672797   \n",
       "3                        -450.619948                      1600.012842   \n",
       "4                        -449.599614                      1600.357732   \n",
       "\n",
       "   rougher.state.floatbank10_c_level  rougher.state.floatbank10_d_air  \\\n",
       "0                        -442.204468                      1598.937256   \n",
       "1                        -449.830646                      1600.527589   \n",
       "2                        -449.954491                      1599.849325   \n",
       "3                        -449.910497                      1597.725177   \n",
       "4                        -450.034364                      1599.759049   \n",
       "\n",
       "   rougher.state.floatbank10_d_level  rougher.state.floatbank10_e_air  \\\n",
       "0                        -451.294128                      1404.472046   \n",
       "1                        -449.953649                      1399.227084   \n",
       "2                        -449.954185                      1399.180945   \n",
       "3                        -450.130127                      1400.943157   \n",
       "4                        -449.909799                      1401.560902   \n",
       "\n",
       "   rougher.state.floatbank10_e_level  rougher.state.floatbank10_f_air  \\\n",
       "0                        -455.462982                      1416.354980   \n",
       "1                        -450.869848                      1399.719514   \n",
       "2                        -449.937588                      1400.316682   \n",
       "3                        -450.030142                      1400.234743   \n",
       "4                        -448.877187                      1401.160227   \n",
       "\n",
       "   rougher.state.floatbank10_f_level  rougher.input.floatbank11_sulfate  \\\n",
       "0                        -451.939636                          11.836743   \n",
       "1                        -450.119001                          11.996163   \n",
       "2                        -450.527147                          11.920305   \n",
       "3                        -449.790835                          11.692450   \n",
       "4                        -450.407128                          10.960521   \n",
       "\n",
       "   rougher.input.floatbank11_xanthate  \\\n",
       "0                            6.005818   \n",
       "1                            6.012594   \n",
       "2                            6.204633   \n",
       "3                            6.196578   \n",
       "4                            6.194897   \n",
       "\n",
       "   rougher.calculation.sulfate_to_au_concentrate  \\\n",
       "0                                   41885.707031   \n",
       "1                                   42050.861809   \n",
       "2                                   42018.101184   \n",
       "3                                   42029.447991   \n",
       "4                                   42125.354245   \n",
       "\n",
       "   rougher.calculation.floatbank10_sulfate_to_au_feed  \\\n",
       "0                                        3481.779053    \n",
       "1                                        3498.370979    \n",
       "2                                        3495.348910    \n",
       "3                                        3498.578313    \n",
       "4                                        3494.800771    \n",
       "\n",
       "   rougher.calculation.floatbank11_sulfate_to_au_feed  \\\n",
       "0                                        3520.337158    \n",
       "1                                        3489.981857    \n",
       "2                                        3502.359819    \n",
       "3                                        3499.162912    \n",
       "4                                        3506.679315    \n",
       "\n",
       "   rougher.calculation.au_pb_ratio  rougher.output.concentrate_au  \\\n",
       "0                         2.838687                      19.793808   \n",
       "1                         2.858998                      20.050975   \n",
       "2                         2.945989                      19.737170   \n",
       "3                         3.002340                      19.320810   \n",
       "4                         3.169615                      19.216101   \n",
       "\n",
       "   rougher.output.concentrate_ag  rougher.output.concentrate_pb  \\\n",
       "0                      11.500771                       7.101074   \n",
       "1                      11.615865                       7.278807   \n",
       "2                      11.695753                       7.216833   \n",
       "3                      11.915047                       7.175616   \n",
       "4                      12.411054                       7.240205   \n",
       "\n",
       "   rougher.output.concentrate_sol  rougher.output.recovery  \\\n",
       "0                       28.029297                87.107763   \n",
       "1                       28.067063                86.843261   \n",
       "2                       27.454037                86.842308   \n",
       "3                       27.341277                87.226430   \n",
       "4                       27.041023                86.688794   \n",
       "\n",
       "   rougher.output.tail_au  rougher.output.tail_ag  rougher.output.tail_pb  \\\n",
       "0                1.170244                5.008018                0.508728   \n",
       "1                1.184827                4.955378                0.536689   \n",
       "2                1.162562                4.843460                0.546416   \n",
       "3                1.079755                4.655288                0.542525   \n",
       "4                1.012642                4.552800                0.515438   \n",
       "\n",
       "   rougher.output.tail_sol  primary_cleaner.input.sulfate  \\\n",
       "0                19.154297                     127.092003   \n",
       "1                18.965234                     125.629232   \n",
       "2                18.808533                     123.819808   \n",
       "3                19.330200                     122.270188   \n",
       "4                19.267422                     117.988169   \n",
       "\n",
       "   primary_cleaner.input.depressant  primary_cleaner.input.feed_size  \\\n",
       "0                         10.128295                             7.25   \n",
       "1                         10.296251                             7.25   \n",
       "2                         11.316280                             7.25   \n",
       "3                         11.322140                             7.25   \n",
       "4                         11.913613                             7.25   \n",
       "\n",
       "   primary_cleaner.input.xanthate  primary_cleaner.state.floatbank8_a_air  \\\n",
       "0                        0.988759                             1549.775757   \n",
       "1                        1.002663                             1576.166671   \n",
       "2                        0.991265                             1601.556163   \n",
       "3                        0.996739                             1599.968720   \n",
       "4                        1.009869                             1601.339707   \n",
       "\n",
       "   primary_cleaner.state.floatbank8_a_level  \\\n",
       "0                               -498.912140   \n",
       "1                               -500.904965   \n",
       "2                               -499.997791   \n",
       "3                               -500.951778   \n",
       "4                               -498.975456   \n",
       "\n",
       "   primary_cleaner.state.floatbank8_b_air  \\\n",
       "0                             1551.434204   \n",
       "1                             1575.950626   \n",
       "2                             1600.386685   \n",
       "3                             1600.659236   \n",
       "4                             1601.437854   \n",
       "\n",
       "   primary_cleaner.state.floatbank8_b_level  \\\n",
       "0                               -516.403442   \n",
       "1                               -499.865889   \n",
       "2                               -500.607762   \n",
       "3                               -499.677094   \n",
       "4                               -500.323246   \n",
       "\n",
       "   primary_cleaner.state.floatbank8_c_air  \\\n",
       "0                             1549.873901   \n",
       "1                             1575.994189   \n",
       "2                             1602.003542   \n",
       "3                             1600.304144   \n",
       "4                             1599.581894   \n",
       "\n",
       "   primary_cleaner.state.floatbank8_c_level  \\\n",
       "0                               -498.666595   \n",
       "1                               -499.315107   \n",
       "2                               -500.870069   \n",
       "3                               -500.727997   \n",
       "4                               -500.888152   \n",
       "\n",
       "   primary_cleaner.state.floatbank8_d_air  \\\n",
       "0                             1554.367432   \n",
       "1                             1574.479259   \n",
       "2                             1599.541515   \n",
       "3                             1600.449520   \n",
       "4                             1602.649541   \n",
       "\n",
       "   primary_cleaner.state.floatbank8_d_level  \\\n",
       "0                               -493.428131   \n",
       "1                               -498.931665   \n",
       "2                               -499.827444   \n",
       "3                               -500.052575   \n",
       "4                               -500.593010   \n",
       "\n",
       "   primary_cleaner.output.concentrate_au  \\\n",
       "0                              34.174427   \n",
       "1                              34.118526   \n",
       "2                              33.969464   \n",
       "3                              28.260743   \n",
       "4                              33.044932   \n",
       "\n",
       "   primary_cleaner.output.concentrate_ag  \\\n",
       "0                               8.547551   \n",
       "1                               8.558743   \n",
       "2                               8.603505   \n",
       "3                               7.221879   \n",
       "4                               9.089428   \n",
       "\n",
       "   primary_cleaner.output.concentrate_pb  \\\n",
       "0                              10.389648   \n",
       "1                              10.497069   \n",
       "2                              10.354494   \n",
       "3                               8.496563   \n",
       "4                               9.986786   \n",
       "\n",
       "   primary_cleaner.output.concentrate_sol  primary_cleaner.output.tail_au  \\\n",
       "0                               19.529297                        2.106679   \n",
       "1                               19.369147                        2.353017   \n",
       "2                               19.167579                        2.416800   \n",
       "3                               15.978538                        2.262051   \n",
       "4                               19.199864                        2.277073   \n",
       "\n",
       "   primary_cleaner.output.tail_ag  primary_cleaner.output.tail_pb  \\\n",
       "0                       14.936526                        2.534912   \n",
       "1                       16.250511                        3.049646   \n",
       "2                       16.491823                        3.124664   \n",
       "3                       16.024359                        2.960362   \n",
       "4                       16.480185                        3.112100   \n",
       "\n",
       "   primary_cleaner.output.tail_sol  secondary_cleaner.state.floatbank2_a_air  \\\n",
       "0                         7.476074                                 25.853109   \n",
       "1                         6.733907                                 25.880539   \n",
       "2                         6.471768                                 26.005245   \n",
       "3                         6.843791                                 25.942508   \n",
       "4                         6.550154                                 26.024787   \n",
       "\n",
       "   secondary_cleaner.state.floatbank2_a_level  \\\n",
       "0                                 -498.526489   \n",
       "1                                 -499.989656   \n",
       "2                                 -499.929616   \n",
       "3                                 -499.176749   \n",
       "4                                 -500.279091   \n",
       "\n",
       "   secondary_cleaner.state.floatbank2_b_air  \\\n",
       "0                                 23.893660   \n",
       "1                                 23.889530   \n",
       "2                                 23.886657   \n",
       "3                                 23.955516   \n",
       "4                                 23.955345   \n",
       "\n",
       "   secondary_cleaner.state.floatbank2_b_level  \\\n",
       "0                                 -501.406281   \n",
       "1                                 -500.372428   \n",
       "2                                 -499.951928   \n",
       "3                                 -499.848796   \n",
       "4                                 -500.593614   \n",
       "\n",
       "   secondary_cleaner.state.floatbank3_a_air  \\\n",
       "0                                 23.961798   \n",
       "1                                 23.970550   \n",
       "2                                 23.913535   \n",
       "3                                 23.966838   \n",
       "4                                 23.985703   \n",
       "\n",
       "   secondary_cleaner.state.floatbank3_a_level  \\\n",
       "0                                 -495.262817   \n",
       "1                                 -500.085473   \n",
       "2                                 -499.442343   \n",
       "3                                 -500.008812   \n",
       "4                                 -500.083811   \n",
       "\n",
       "   secondary_cleaner.state.floatbank3_b_air  \\\n",
       "0                                 21.940409   \n",
       "1                                 22.085714   \n",
       "2                                 23.957717   \n",
       "3                                 23.954443   \n",
       "4                                 23.958945   \n",
       "\n",
       "   secondary_cleaner.state.floatbank3_b_level  \\\n",
       "0                                 -499.340973   \n",
       "1                                 -499.446897   \n",
       "2                                 -499.901982   \n",
       "3                                 -499.944710   \n",
       "4                                 -499.990309   \n",
       "\n",
       "   secondary_cleaner.state.floatbank4_a_air  \\\n",
       "0                                 14.016835   \n",
       "1                                 13.992281   \n",
       "2                                 14.015015   \n",
       "3                                 14.036510   \n",
       "4                                 14.027298   \n",
       "\n",
       "   secondary_cleaner.state.floatbank4_a_level  \\\n",
       "0                                 -502.488007   \n",
       "1                                 -505.503262   \n",
       "2                                 -502.520901   \n",
       "3                                 -500.857308   \n",
       "4                                 -499.838632   \n",
       "\n",
       "   secondary_cleaner.state.floatbank4_b_air  \\\n",
       "0                                 12.099931   \n",
       "1                                 11.950531   \n",
       "2                                 11.912783   \n",
       "3                                 11.999550   \n",
       "4                                 11.953070   \n",
       "\n",
       "   secondary_cleaner.state.floatbank4_b_level  \\\n",
       "0                                 -504.715942   \n",
       "1                                 -501.331529   \n",
       "2                                 -501.133383   \n",
       "3                                 -501.193686   \n",
       "4                                 -501.053894   \n",
       "\n",
       "   secondary_cleaner.state.floatbank5_a_air  \\\n",
       "0                                  9.925633   \n",
       "1                                 10.039245   \n",
       "2                                 10.070913   \n",
       "3                                  9.970366   \n",
       "4                                  9.925709   \n",
       "\n",
       "   secondary_cleaner.state.floatbank5_a_level  \\\n",
       "0                                 -498.310211   \n",
       "1                                 -500.169983   \n",
       "2                                 -500.129135   \n",
       "3                                 -499.201640   \n",
       "4                                 -501.686727   \n",
       "\n",
       "   secondary_cleaner.state.floatbank5_b_air  \\\n",
       "0                                  8.079666   \n",
       "1                                  7.984757   \n",
       "2                                  8.013877   \n",
       "3                                  7.977324   \n",
       "4                                  7.894242   \n",
       "\n",
       "   secondary_cleaner.state.floatbank5_b_level  \\\n",
       "0                                 -500.470978   \n",
       "1                                 -500.582168   \n",
       "2                                 -500.517572   \n",
       "3                                 -500.255908   \n",
       "4                                 -500.356035   \n",
       "\n",
       "   secondary_cleaner.state.floatbank6_a_air  \\\n",
       "0                                 14.151341   \n",
       "1                                 13.998353   \n",
       "2                                 14.028663   \n",
       "3                                 14.005551   \n",
       "4                                 13.996647   \n",
       "\n",
       "   secondary_cleaner.state.floatbank6_a_level  \\\n",
       "0                                 -605.841980   \n",
       "1                                 -599.787184   \n",
       "2                                 -601.427363   \n",
       "3                                 -599.996129   \n",
       "4                                 -601.496691   \n",
       "\n",
       "   secondary_cleaner.output.tail_au  secondary_cleaner.output.tail_ag  \\\n",
       "0                          2.606185                         14.500184   \n",
       "1                          2.488248                         14.265474   \n",
       "2                          2.458187                         14.115662   \n",
       "3                          2.322062                         13.732071   \n",
       "4                          2.330448                         14.079996   \n",
       "\n",
       "   secondary_cleaner.output.tail_pb  secondary_cleaner.output.tail_sol  \\\n",
       "0                          4.694824                           8.764648   \n",
       "1                          4.592547                           9.001494   \n",
       "2                          4.624775                           8.842896   \n",
       "3                          4.482453                           9.122857   \n",
       "4                          4.470737                           8.871028   \n",
       "\n",
       "   final.output.concentrate_au  final.output.concentrate_ag  \\\n",
       "0                    42.192020                     6.055403   \n",
       "1                    42.701629                     6.029369   \n",
       "2                    42.657501                     6.055926   \n",
       "3                    42.689819                     6.047977   \n",
       "4                    42.774141                     6.148599   \n",
       "\n",
       "   final.output.concentrate_pb  final.output.concentrate_sol  \\\n",
       "0                     9.889648                      5.507324   \n",
       "1                     9.968944                      5.257781   \n",
       "2                    10.213995                      5.383759   \n",
       "3                     9.977019                      4.858634   \n",
       "4                    10.142511                      4.939416   \n",
       "\n",
       "   final.output.recovery  final.output.tail_au  final.output.tail_ag  \\\n",
       "0              70.541216              2.143149             10.411962   \n",
       "1              69.266198              2.224930             10.462676   \n",
       "2              68.116445              2.257889             10.507046   \n",
       "3              68.347543              2.146849             10.422762   \n",
       "4              66.927016              2.055292             10.360302   \n",
       "\n",
       "   final.output.tail_pb  final.output.tail_sol  \n",
       "0              0.895447              16.904297  \n",
       "1              0.927452              16.634514  \n",
       "2              0.953716              16.208849  \n",
       "3              0.883763              16.532835  \n",
       "4              0.792826              16.525686  "
      ]
     },
     "execution_count": 6,
     "metadata": {},
     "output_type": "execute_result"
    }
   ],
   "source": [
    "gold_industry_train.head()"
   ]
  },
  {
   "cell_type": "markdown",
   "metadata": {},
   "source": [
    "### Проверка правильности расчета эффективности обогащения. "
   ]
  },
  {
   "cell_type": "code",
   "execution_count": 7,
   "metadata": {},
   "outputs": [
    {
     "data": {
      "text/plain": [
       "0     87.107763\n",
       "1     86.843261\n",
       "2     86.842308\n",
       "3     87.226430\n",
       "4     86.688794\n",
       "5     88.156912\n",
       "6     88.168065\n",
       "7     87.668336\n",
       "8     87.035862\n",
       "9     88.280699\n",
       "10    88.499117\n",
       "11    89.519701\n",
       "12    85.136294\n",
       "13    86.489827\n",
       "14    86.241795\n",
       "15    86.582578\n",
       "16    86.824119\n",
       "17    88.132239\n",
       "18    85.910498\n",
       "19    86.262377\n",
       "Name: rougher.output.recovery, dtype: float64"
      ]
     },
     "execution_count": 7,
     "metadata": {},
     "output_type": "execute_result"
    }
   ],
   "source": [
    "gold_industry_train['rougher.output.recovery'].head(20)"
   ]
  },
  {
   "cell_type": "code",
   "execution_count": 8,
   "metadata": {},
   "outputs": [],
   "source": [
    "gold_industry_train['rougher.output.recovery_calculated'] = 100 * (gold_industry_train['rougher.output.concentrate_au'] * \\\n",
    "                                                             (gold_industry_train['rougher.input.feed_au'] - \\\n",
    "                                                              gold_industry_train['rougher.output.tail_au'])) / \\\n",
    "                                                             (gold_industry_train['rougher.input.feed_au'] * \\\n",
    "                                                              (gold_industry_train['rougher.output.concentrate_au'] - \\\n",
    "                                                               gold_industry_train['rougher.output.tail_au']))"
   ]
  },
  {
   "cell_type": "code",
   "execution_count": 9,
   "metadata": {},
   "outputs": [
    {
     "data": {
      "text/plain": [
       "0     87.107763\n",
       "1     86.843261\n",
       "2     86.842308\n",
       "3     87.226430\n",
       "4     86.688794\n",
       "5     88.156912\n",
       "6     88.168065\n",
       "7     87.668336\n",
       "8     87.035862\n",
       "9     88.280699\n",
       "10    88.499117\n",
       "11    89.519701\n",
       "12    85.136294\n",
       "13    86.489827\n",
       "14    86.241795\n",
       "15    86.582578\n",
       "16    86.824119\n",
       "17    88.132239\n",
       "18    85.910498\n",
       "19    86.262377\n",
       "Name: rougher.output.recovery_calculated, dtype: float64"
      ]
     },
     "execution_count": 9,
     "metadata": {},
     "output_type": "execute_result"
    }
   ],
   "source": [
    "gold_industry_train['rougher.output.recovery_calculated'].head(20)"
   ]
  },
  {
   "cell_type": "markdown",
   "metadata": {},
   "source": [
    "По результатам проверки можно сделать вывод, что рассчеты выполнены верно. Рассчитаем MAE."
   ]
  },
  {
   "cell_type": "code",
   "execution_count": 10,
   "metadata": {},
   "outputs": [
    {
     "data": {
      "text/plain": [
       "1.1181885454685472e-14"
      ]
     },
     "execution_count": 10,
     "metadata": {},
     "output_type": "execute_result"
    }
   ],
   "source": [
    "mean_absolute_error(gold_industry_train['rougher.output.recovery'], gold_industry_train['rougher.output.recovery_calculated'])"
   ]
  },
  {
   "cell_type": "markdown",
   "metadata": {},
   "source": [
    "Величина MAE незначительная. Отклонений в расчетах нет."
   ]
  },
  {
   "cell_type": "markdown",
   "metadata": {},
   "source": [
    "### Анализ признаков, недоступных в тестовой выборке."
   ]
  },
  {
   "cell_type": "code",
   "execution_count": 11,
   "metadata": {},
   "outputs": [
    {
     "data": {
      "text/plain": [
       "Index(['date', 'rougher.input.feed_au', 'rougher.input.feed_ag',\n",
       "       'rougher.input.feed_pb', 'rougher.input.feed_sol',\n",
       "       'rougher.input.feed_rate', 'rougher.input.feed_size',\n",
       "       'rougher.input.floatbank10_sulfate',\n",
       "       'rougher.input.floatbank10_xanthate', 'rougher.state.floatbank10_a_air',\n",
       "       'rougher.state.floatbank10_a_level', 'rougher.state.floatbank10_b_air',\n",
       "       'rougher.state.floatbank10_b_level', 'rougher.state.floatbank10_c_air',\n",
       "       'rougher.state.floatbank10_c_level', 'rougher.state.floatbank10_d_air',\n",
       "       'rougher.state.floatbank10_d_level', 'rougher.state.floatbank10_e_air',\n",
       "       'rougher.state.floatbank10_e_level', 'rougher.state.floatbank10_f_air',\n",
       "       'rougher.state.floatbank10_f_level',\n",
       "       'rougher.input.floatbank11_sulfate',\n",
       "       'rougher.input.floatbank11_xanthate',\n",
       "       'rougher.calculation.sulfate_to_au_concentrate',\n",
       "       'rougher.calculation.floatbank10_sulfate_to_au_feed',\n",
       "       'rougher.calculation.floatbank11_sulfate_to_au_feed',\n",
       "       'rougher.calculation.au_pb_ratio', 'rougher.output.concentrate_au',\n",
       "       'rougher.output.concentrate_ag', 'rougher.output.concentrate_pb',\n",
       "       'rougher.output.concentrate_sol', 'rougher.output.recovery',\n",
       "       'rougher.output.tail_au', 'rougher.output.tail_ag',\n",
       "       'rougher.output.tail_pb', 'rougher.output.tail_sol',\n",
       "       'primary_cleaner.input.sulfate', 'primary_cleaner.input.depressant',\n",
       "       'primary_cleaner.input.feed_size', 'primary_cleaner.input.xanthate',\n",
       "       'primary_cleaner.state.floatbank8_a_air',\n",
       "       'primary_cleaner.state.floatbank8_a_level',\n",
       "       'primary_cleaner.state.floatbank8_b_air',\n",
       "       'primary_cleaner.state.floatbank8_b_level',\n",
       "       'primary_cleaner.state.floatbank8_c_air',\n",
       "       'primary_cleaner.state.floatbank8_c_level',\n",
       "       'primary_cleaner.state.floatbank8_d_air',\n",
       "       'primary_cleaner.state.floatbank8_d_level',\n",
       "       'primary_cleaner.output.concentrate_au',\n",
       "       'primary_cleaner.output.concentrate_ag',\n",
       "       'primary_cleaner.output.concentrate_pb',\n",
       "       'primary_cleaner.output.concentrate_sol',\n",
       "       'primary_cleaner.output.tail_au', 'primary_cleaner.output.tail_ag',\n",
       "       'primary_cleaner.output.tail_pb', 'primary_cleaner.output.tail_sol',\n",
       "       'secondary_cleaner.state.floatbank2_a_air',\n",
       "       'secondary_cleaner.state.floatbank2_a_level',\n",
       "       'secondary_cleaner.state.floatbank2_b_air',\n",
       "       'secondary_cleaner.state.floatbank2_b_level',\n",
       "       'secondary_cleaner.state.floatbank3_a_air',\n",
       "       'secondary_cleaner.state.floatbank3_a_level',\n",
       "       'secondary_cleaner.state.floatbank3_b_air',\n",
       "       'secondary_cleaner.state.floatbank3_b_level',\n",
       "       'secondary_cleaner.state.floatbank4_a_air',\n",
       "       'secondary_cleaner.state.floatbank4_a_level',\n",
       "       'secondary_cleaner.state.floatbank4_b_air',\n",
       "       'secondary_cleaner.state.floatbank4_b_level',\n",
       "       'secondary_cleaner.state.floatbank5_a_air',\n",
       "       'secondary_cleaner.state.floatbank5_a_level',\n",
       "       'secondary_cleaner.state.floatbank5_b_air',\n",
       "       'secondary_cleaner.state.floatbank5_b_level',\n",
       "       'secondary_cleaner.state.floatbank6_a_air',\n",
       "       'secondary_cleaner.state.floatbank6_a_level',\n",
       "       'secondary_cleaner.output.tail_au', 'secondary_cleaner.output.tail_ag',\n",
       "       'secondary_cleaner.output.tail_pb', 'secondary_cleaner.output.tail_sol',\n",
       "       'final.output.concentrate_au', 'final.output.concentrate_ag',\n",
       "       'final.output.concentrate_pb', 'final.output.concentrate_sol',\n",
       "       'final.output.recovery', 'final.output.tail_au', 'final.output.tail_ag',\n",
       "       'final.output.tail_pb', 'final.output.tail_sol',\n",
       "       'rougher.output.recovery_calculated'],\n",
       "      dtype='object')"
      ]
     },
     "execution_count": 11,
     "metadata": {},
     "output_type": "execute_result"
    }
   ],
   "source": [
    "gold_industry_train.columns"
   ]
  },
  {
   "cell_type": "code",
   "execution_count": 12,
   "metadata": {},
   "outputs": [
    {
     "data": {
      "text/plain": [
       "Index(['date', 'rougher.input.feed_au', 'rougher.input.feed_ag',\n",
       "       'rougher.input.feed_pb', 'rougher.input.feed_sol',\n",
       "       'rougher.input.feed_rate', 'rougher.input.feed_size',\n",
       "       'rougher.input.floatbank10_sulfate',\n",
       "       'rougher.input.floatbank10_xanthate', 'rougher.state.floatbank10_a_air',\n",
       "       'rougher.state.floatbank10_a_level', 'rougher.state.floatbank10_b_air',\n",
       "       'rougher.state.floatbank10_b_level', 'rougher.state.floatbank10_c_air',\n",
       "       'rougher.state.floatbank10_c_level', 'rougher.state.floatbank10_d_air',\n",
       "       'rougher.state.floatbank10_d_level', 'rougher.state.floatbank10_e_air',\n",
       "       'rougher.state.floatbank10_e_level', 'rougher.state.floatbank10_f_air',\n",
       "       'rougher.state.floatbank10_f_level',\n",
       "       'rougher.input.floatbank11_sulfate',\n",
       "       'rougher.input.floatbank11_xanthate', 'primary_cleaner.input.sulfate',\n",
       "       'primary_cleaner.input.depressant', 'primary_cleaner.input.feed_size',\n",
       "       'primary_cleaner.input.xanthate',\n",
       "       'primary_cleaner.state.floatbank8_a_air',\n",
       "       'primary_cleaner.state.floatbank8_a_level',\n",
       "       'primary_cleaner.state.floatbank8_b_air',\n",
       "       'primary_cleaner.state.floatbank8_b_level',\n",
       "       'primary_cleaner.state.floatbank8_c_air',\n",
       "       'primary_cleaner.state.floatbank8_c_level',\n",
       "       'primary_cleaner.state.floatbank8_d_air',\n",
       "       'primary_cleaner.state.floatbank8_d_level',\n",
       "       'secondary_cleaner.state.floatbank2_a_air',\n",
       "       'secondary_cleaner.state.floatbank2_a_level',\n",
       "       'secondary_cleaner.state.floatbank2_b_air',\n",
       "       'secondary_cleaner.state.floatbank2_b_level',\n",
       "       'secondary_cleaner.state.floatbank3_a_air',\n",
       "       'secondary_cleaner.state.floatbank3_a_level',\n",
       "       'secondary_cleaner.state.floatbank3_b_air',\n",
       "       'secondary_cleaner.state.floatbank3_b_level',\n",
       "       'secondary_cleaner.state.floatbank4_a_air',\n",
       "       'secondary_cleaner.state.floatbank4_a_level',\n",
       "       'secondary_cleaner.state.floatbank4_b_air',\n",
       "       'secondary_cleaner.state.floatbank4_b_level',\n",
       "       'secondary_cleaner.state.floatbank5_a_air',\n",
       "       'secondary_cleaner.state.floatbank5_a_level',\n",
       "       'secondary_cleaner.state.floatbank5_b_air',\n",
       "       'secondary_cleaner.state.floatbank5_b_level',\n",
       "       'secondary_cleaner.state.floatbank6_a_air',\n",
       "       'secondary_cleaner.state.floatbank6_a_level'],\n",
       "      dtype='object')"
      ]
     },
     "execution_count": 12,
     "metadata": {},
     "output_type": "execute_result"
    }
   ],
   "source": [
    "gold_industry_test.columns"
   ]
  },
  {
   "cell_type": "markdown",
   "metadata": {},
   "source": [
    "Сравнительный анализ показал, что в тестовой выборке отсутствуют параметры продукта и расчетные характеристики, которые можно получить только постфактум."
   ]
  },
  {
   "cell_type": "markdown",
   "metadata": {},
   "source": [
    "### Предобработка данных"
   ]
  },
  {
   "cell_type": "code",
   "execution_count": 13,
   "metadata": {},
   "outputs": [
    {
     "data": {
      "text/plain": [
       "0"
      ]
     },
     "execution_count": 13,
     "metadata": {},
     "output_type": "execute_result"
    }
   ],
   "source": [
    "gold_industry_train.duplicated().sum()"
   ]
  },
  {
   "cell_type": "code",
   "execution_count": 14,
   "metadata": {
    "scrolled": true
   },
   "outputs": [
    {
     "data": {
      "text/plain": [
       "0"
      ]
     },
     "execution_count": 14,
     "metadata": {},
     "output_type": "execute_result"
    }
   ],
   "source": [
    "gold_industry_test.duplicated().sum()"
   ]
  },
  {
   "cell_type": "code",
   "execution_count": 15,
   "metadata": {},
   "outputs": [
    {
     "data": {
      "text/html": [
       "<div>\n",
       "<style scoped>\n",
       "    .dataframe tbody tr th:only-of-type {\n",
       "        vertical-align: middle;\n",
       "    }\n",
       "\n",
       "    .dataframe tbody tr th {\n",
       "        vertical-align: top;\n",
       "    }\n",
       "\n",
       "    .dataframe thead th {\n",
       "        text-align: right;\n",
       "    }\n",
       "</style>\n",
       "<table border=\"1\" class=\"dataframe\">\n",
       "  <thead>\n",
       "    <tr style=\"text-align: right;\">\n",
       "      <th></th>\n",
       "      <th>date</th>\n",
       "      <th>rougher.input.feed_au</th>\n",
       "      <th>rougher.input.feed_ag</th>\n",
       "      <th>rougher.input.feed_pb</th>\n",
       "      <th>rougher.input.feed_sol</th>\n",
       "      <th>rougher.input.feed_rate</th>\n",
       "      <th>rougher.input.feed_size</th>\n",
       "      <th>rougher.input.floatbank10_sulfate</th>\n",
       "      <th>rougher.input.floatbank10_xanthate</th>\n",
       "      <th>rougher.state.floatbank10_a_air</th>\n",
       "      <th>rougher.state.floatbank10_a_level</th>\n",
       "      <th>rougher.state.floatbank10_b_air</th>\n",
       "      <th>rougher.state.floatbank10_b_level</th>\n",
       "      <th>rougher.state.floatbank10_c_air</th>\n",
       "      <th>rougher.state.floatbank10_c_level</th>\n",
       "      <th>rougher.state.floatbank10_d_air</th>\n",
       "      <th>rougher.state.floatbank10_d_level</th>\n",
       "      <th>rougher.state.floatbank10_e_air</th>\n",
       "      <th>rougher.state.floatbank10_e_level</th>\n",
       "      <th>rougher.state.floatbank10_f_air</th>\n",
       "      <th>rougher.state.floatbank10_f_level</th>\n",
       "      <th>rougher.input.floatbank11_sulfate</th>\n",
       "      <th>rougher.input.floatbank11_xanthate</th>\n",
       "      <th>rougher.calculation.sulfate_to_au_concentrate</th>\n",
       "      <th>rougher.calculation.floatbank10_sulfate_to_au_feed</th>\n",
       "      <th>rougher.calculation.floatbank11_sulfate_to_au_feed</th>\n",
       "      <th>rougher.calculation.au_pb_ratio</th>\n",
       "      <th>rougher.output.concentrate_au</th>\n",
       "      <th>rougher.output.concentrate_ag</th>\n",
       "      <th>rougher.output.concentrate_pb</th>\n",
       "      <th>rougher.output.concentrate_sol</th>\n",
       "      <th>rougher.output.recovery</th>\n",
       "      <th>rougher.output.tail_au</th>\n",
       "      <th>rougher.output.tail_ag</th>\n",
       "      <th>rougher.output.tail_pb</th>\n",
       "      <th>rougher.output.tail_sol</th>\n",
       "      <th>primary_cleaner.input.sulfate</th>\n",
       "      <th>primary_cleaner.input.depressant</th>\n",
       "      <th>primary_cleaner.input.feed_size</th>\n",
       "      <th>primary_cleaner.input.xanthate</th>\n",
       "      <th>primary_cleaner.state.floatbank8_a_air</th>\n",
       "      <th>primary_cleaner.state.floatbank8_a_level</th>\n",
       "      <th>primary_cleaner.state.floatbank8_b_air</th>\n",
       "      <th>primary_cleaner.state.floatbank8_b_level</th>\n",
       "      <th>primary_cleaner.state.floatbank8_c_air</th>\n",
       "      <th>primary_cleaner.state.floatbank8_c_level</th>\n",
       "      <th>primary_cleaner.state.floatbank8_d_air</th>\n",
       "      <th>primary_cleaner.state.floatbank8_d_level</th>\n",
       "      <th>primary_cleaner.output.concentrate_au</th>\n",
       "      <th>primary_cleaner.output.concentrate_ag</th>\n",
       "      <th>primary_cleaner.output.concentrate_pb</th>\n",
       "      <th>primary_cleaner.output.concentrate_sol</th>\n",
       "      <th>primary_cleaner.output.tail_au</th>\n",
       "      <th>primary_cleaner.output.tail_ag</th>\n",
       "      <th>primary_cleaner.output.tail_pb</th>\n",
       "      <th>primary_cleaner.output.tail_sol</th>\n",
       "      <th>secondary_cleaner.state.floatbank2_a_air</th>\n",
       "      <th>secondary_cleaner.state.floatbank2_a_level</th>\n",
       "      <th>secondary_cleaner.state.floatbank2_b_air</th>\n",
       "      <th>secondary_cleaner.state.floatbank2_b_level</th>\n",
       "      <th>secondary_cleaner.state.floatbank3_a_air</th>\n",
       "      <th>secondary_cleaner.state.floatbank3_a_level</th>\n",
       "      <th>secondary_cleaner.state.floatbank3_b_air</th>\n",
       "      <th>secondary_cleaner.state.floatbank3_b_level</th>\n",
       "      <th>secondary_cleaner.state.floatbank4_a_air</th>\n",
       "      <th>secondary_cleaner.state.floatbank4_a_level</th>\n",
       "      <th>secondary_cleaner.state.floatbank4_b_air</th>\n",
       "      <th>secondary_cleaner.state.floatbank4_b_level</th>\n",
       "      <th>secondary_cleaner.state.floatbank5_a_air</th>\n",
       "      <th>secondary_cleaner.state.floatbank5_a_level</th>\n",
       "      <th>secondary_cleaner.state.floatbank5_b_air</th>\n",
       "      <th>secondary_cleaner.state.floatbank5_b_level</th>\n",
       "      <th>secondary_cleaner.state.floatbank6_a_air</th>\n",
       "      <th>secondary_cleaner.state.floatbank6_a_level</th>\n",
       "      <th>secondary_cleaner.output.tail_au</th>\n",
       "      <th>secondary_cleaner.output.tail_ag</th>\n",
       "      <th>secondary_cleaner.output.tail_pb</th>\n",
       "      <th>secondary_cleaner.output.tail_sol</th>\n",
       "      <th>final.output.concentrate_au</th>\n",
       "      <th>final.output.concentrate_ag</th>\n",
       "      <th>final.output.concentrate_pb</th>\n",
       "      <th>final.output.concentrate_sol</th>\n",
       "      <th>final.output.recovery</th>\n",
       "      <th>final.output.tail_au</th>\n",
       "      <th>final.output.tail_ag</th>\n",
       "      <th>final.output.tail_pb</th>\n",
       "      <th>final.output.tail_sol</th>\n",
       "      <th>rougher.output.recovery_calculated</th>\n",
       "    </tr>\n",
       "  </thead>\n",
       "  <tbody>\n",
       "    <tr>\n",
       "      <th>sum</th>\n",
       "      <td>0.0</td>\n",
       "      <td>0.0</td>\n",
       "      <td>0.0</td>\n",
       "      <td>72.000000</td>\n",
       "      <td>77.000000</td>\n",
       "      <td>7.00000</td>\n",
       "      <td>101.000000</td>\n",
       "      <td>31.000000</td>\n",
       "      <td>7.00000</td>\n",
       "      <td>0.0</td>\n",
       "      <td>0.0</td>\n",
       "      <td>0.0</td>\n",
       "      <td>0.0</td>\n",
       "      <td>0.0</td>\n",
       "      <td>0.0</td>\n",
       "      <td>0.0</td>\n",
       "      <td>0.0</td>\n",
       "      <td>429.000000</td>\n",
       "      <td>0.0</td>\n",
       "      <td>0.0</td>\n",
       "      <td>0.0</td>\n",
       "      <td>36.000000</td>\n",
       "      <td>407.000000</td>\n",
       "      <td>1.000000</td>\n",
       "      <td>1.000000</td>\n",
       "      <td>1.000000</td>\n",
       "      <td>0.0</td>\n",
       "      <td>0.0</td>\n",
       "      <td>0.0</td>\n",
       "      <td>0.0</td>\n",
       "      <td>18.000000</td>\n",
       "      <td>0.0</td>\n",
       "      <td>0.0</td>\n",
       "      <td>1.000000</td>\n",
       "      <td>0.0</td>\n",
       "      <td>0.0</td>\n",
       "      <td>23.000000</td>\n",
       "      <td>28.000000</td>\n",
       "      <td>0.0</td>\n",
       "      <td>61.000000</td>\n",
       "      <td>3.000000</td>\n",
       "      <td>0.0</td>\n",
       "      <td>3.000000</td>\n",
       "      <td>0.0</td>\n",
       "      <td>0.0</td>\n",
       "      <td>0.0</td>\n",
       "      <td>1.000000</td>\n",
       "      <td>0.0</td>\n",
       "      <td>0.0</td>\n",
       "      <td>0.0</td>\n",
       "      <td>88.000000</td>\n",
       "      <td>265.000000</td>\n",
       "      <td>0.0</td>\n",
       "      <td>4.000000</td>\n",
       "      <td>6.000000</td>\n",
       "      <td>45.000000</td>\n",
       "      <td>94.000000</td>\n",
       "      <td>0.0</td>\n",
       "      <td>22.000000</td>\n",
       "      <td>0.0</td>\n",
       "      <td>12.000000</td>\n",
       "      <td>0.0</td>\n",
       "      <td>0.0</td>\n",
       "      <td>0.0</td>\n",
       "      <td>5.000000</td>\n",
       "      <td>0.0</td>\n",
       "      <td>0.0</td>\n",
       "      <td>0.0</td>\n",
       "      <td>0.0</td>\n",
       "      <td>0.0</td>\n",
       "      <td>0.0</td>\n",
       "      <td>0.0</td>\n",
       "      <td>1.000000</td>\n",
       "      <td>0.0</td>\n",
       "      <td>0.0</td>\n",
       "      <td>1.000000</td>\n",
       "      <td>4.000000</td>\n",
       "      <td>920.000000</td>\n",
       "      <td>0.0</td>\n",
       "      <td>1.000000</td>\n",
       "      <td>1.000000</td>\n",
       "      <td>192.00000</td>\n",
       "      <td>0.0</td>\n",
       "      <td>0.0</td>\n",
       "      <td>1.000000</td>\n",
       "      <td>75.000000</td>\n",
       "      <td>5.000000</td>\n",
       "      <td>0.0</td>\n",
       "    </tr>\n",
       "    <tr>\n",
       "      <th>mean</th>\n",
       "      <td>0.0</td>\n",
       "      <td>0.0</td>\n",
       "      <td>0.0</td>\n",
       "      <td>0.004939</td>\n",
       "      <td>0.005282</td>\n",
       "      <td>0.00048</td>\n",
       "      <td>0.006928</td>\n",
       "      <td>0.002126</td>\n",
       "      <td>0.00048</td>\n",
       "      <td>0.0</td>\n",
       "      <td>0.0</td>\n",
       "      <td>0.0</td>\n",
       "      <td>0.0</td>\n",
       "      <td>0.0</td>\n",
       "      <td>0.0</td>\n",
       "      <td>0.0</td>\n",
       "      <td>0.0</td>\n",
       "      <td>0.029426</td>\n",
       "      <td>0.0</td>\n",
       "      <td>0.0</td>\n",
       "      <td>0.0</td>\n",
       "      <td>0.002469</td>\n",
       "      <td>0.027917</td>\n",
       "      <td>0.000069</td>\n",
       "      <td>0.000069</td>\n",
       "      <td>0.000069</td>\n",
       "      <td>0.0</td>\n",
       "      <td>0.0</td>\n",
       "      <td>0.0</td>\n",
       "      <td>0.0</td>\n",
       "      <td>0.001235</td>\n",
       "      <td>0.0</td>\n",
       "      <td>0.0</td>\n",
       "      <td>0.000069</td>\n",
       "      <td>0.0</td>\n",
       "      <td>0.0</td>\n",
       "      <td>0.001578</td>\n",
       "      <td>0.001921</td>\n",
       "      <td>0.0</td>\n",
       "      <td>0.004184</td>\n",
       "      <td>0.000206</td>\n",
       "      <td>0.0</td>\n",
       "      <td>0.000206</td>\n",
       "      <td>0.0</td>\n",
       "      <td>0.0</td>\n",
       "      <td>0.0</td>\n",
       "      <td>0.000069</td>\n",
       "      <td>0.0</td>\n",
       "      <td>0.0</td>\n",
       "      <td>0.0</td>\n",
       "      <td>0.006036</td>\n",
       "      <td>0.018177</td>\n",
       "      <td>0.0</td>\n",
       "      <td>0.000274</td>\n",
       "      <td>0.000412</td>\n",
       "      <td>0.003087</td>\n",
       "      <td>0.006448</td>\n",
       "      <td>0.0</td>\n",
       "      <td>0.001509</td>\n",
       "      <td>0.0</td>\n",
       "      <td>0.000823</td>\n",
       "      <td>0.0</td>\n",
       "      <td>0.0</td>\n",
       "      <td>0.0</td>\n",
       "      <td>0.000343</td>\n",
       "      <td>0.0</td>\n",
       "      <td>0.0</td>\n",
       "      <td>0.0</td>\n",
       "      <td>0.0</td>\n",
       "      <td>0.0</td>\n",
       "      <td>0.0</td>\n",
       "      <td>0.0</td>\n",
       "      <td>0.000069</td>\n",
       "      <td>0.0</td>\n",
       "      <td>0.0</td>\n",
       "      <td>0.000069</td>\n",
       "      <td>0.000274</td>\n",
       "      <td>0.063104</td>\n",
       "      <td>0.0</td>\n",
       "      <td>0.000069</td>\n",
       "      <td>0.000069</td>\n",
       "      <td>0.01317</td>\n",
       "      <td>0.0</td>\n",
       "      <td>0.0</td>\n",
       "      <td>0.000069</td>\n",
       "      <td>0.005144</td>\n",
       "      <td>0.000343</td>\n",
       "      <td>0.0</td>\n",
       "    </tr>\n",
       "  </tbody>\n",
       "</table>\n",
       "</div>"
      ],
      "text/plain": [
       "      date  rougher.input.feed_au  rougher.input.feed_ag  \\\n",
       "sum    0.0                    0.0                    0.0   \n",
       "mean   0.0                    0.0                    0.0   \n",
       "\n",
       "      rougher.input.feed_pb  rougher.input.feed_sol  rougher.input.feed_rate  \\\n",
       "sum               72.000000               77.000000                  7.00000   \n",
       "mean               0.004939                0.005282                  0.00048   \n",
       "\n",
       "      rougher.input.feed_size  rougher.input.floatbank10_sulfate  \\\n",
       "sum                101.000000                          31.000000   \n",
       "mean                 0.006928                           0.002126   \n",
       "\n",
       "      rougher.input.floatbank10_xanthate  rougher.state.floatbank10_a_air  \\\n",
       "sum                              7.00000                              0.0   \n",
       "mean                             0.00048                              0.0   \n",
       "\n",
       "      rougher.state.floatbank10_a_level  rougher.state.floatbank10_b_air  \\\n",
       "sum                                 0.0                              0.0   \n",
       "mean                                0.0                              0.0   \n",
       "\n",
       "      rougher.state.floatbank10_b_level  rougher.state.floatbank10_c_air  \\\n",
       "sum                                 0.0                              0.0   \n",
       "mean                                0.0                              0.0   \n",
       "\n",
       "      rougher.state.floatbank10_c_level  rougher.state.floatbank10_d_air  \\\n",
       "sum                                 0.0                              0.0   \n",
       "mean                                0.0                              0.0   \n",
       "\n",
       "      rougher.state.floatbank10_d_level  rougher.state.floatbank10_e_air  \\\n",
       "sum                                 0.0                       429.000000   \n",
       "mean                                0.0                         0.029426   \n",
       "\n",
       "      rougher.state.floatbank10_e_level  rougher.state.floatbank10_f_air  \\\n",
       "sum                                 0.0                              0.0   \n",
       "mean                                0.0                              0.0   \n",
       "\n",
       "      rougher.state.floatbank10_f_level  rougher.input.floatbank11_sulfate  \\\n",
       "sum                                 0.0                          36.000000   \n",
       "mean                                0.0                           0.002469   \n",
       "\n",
       "      rougher.input.floatbank11_xanthate  \\\n",
       "sum                           407.000000   \n",
       "mean                            0.027917   \n",
       "\n",
       "      rougher.calculation.sulfate_to_au_concentrate  \\\n",
       "sum                                        1.000000   \n",
       "mean                                       0.000069   \n",
       "\n",
       "      rougher.calculation.floatbank10_sulfate_to_au_feed  \\\n",
       "sum                                            1.000000    \n",
       "mean                                           0.000069    \n",
       "\n",
       "      rougher.calculation.floatbank11_sulfate_to_au_feed  \\\n",
       "sum                                            1.000000    \n",
       "mean                                           0.000069    \n",
       "\n",
       "      rougher.calculation.au_pb_ratio  rougher.output.concentrate_au  \\\n",
       "sum                               0.0                            0.0   \n",
       "mean                              0.0                            0.0   \n",
       "\n",
       "      rougher.output.concentrate_ag  rougher.output.concentrate_pb  \\\n",
       "sum                             0.0                            0.0   \n",
       "mean                            0.0                            0.0   \n",
       "\n",
       "      rougher.output.concentrate_sol  rougher.output.recovery  \\\n",
       "sum                        18.000000                      0.0   \n",
       "mean                        0.001235                      0.0   \n",
       "\n",
       "      rougher.output.tail_au  rougher.output.tail_ag  rougher.output.tail_pb  \\\n",
       "sum                      0.0                1.000000                     0.0   \n",
       "mean                     0.0                0.000069                     0.0   \n",
       "\n",
       "      rougher.output.tail_sol  primary_cleaner.input.sulfate  \\\n",
       "sum                       0.0                      23.000000   \n",
       "mean                      0.0                       0.001578   \n",
       "\n",
       "      primary_cleaner.input.depressant  primary_cleaner.input.feed_size  \\\n",
       "sum                          28.000000                              0.0   \n",
       "mean                          0.001921                              0.0   \n",
       "\n",
       "      primary_cleaner.input.xanthate  primary_cleaner.state.floatbank8_a_air  \\\n",
       "sum                        61.000000                                3.000000   \n",
       "mean                        0.004184                                0.000206   \n",
       "\n",
       "      primary_cleaner.state.floatbank8_a_level  \\\n",
       "sum                                        0.0   \n",
       "mean                                       0.0   \n",
       "\n",
       "      primary_cleaner.state.floatbank8_b_air  \\\n",
       "sum                                 3.000000   \n",
       "mean                                0.000206   \n",
       "\n",
       "      primary_cleaner.state.floatbank8_b_level  \\\n",
       "sum                                        0.0   \n",
       "mean                                       0.0   \n",
       "\n",
       "      primary_cleaner.state.floatbank8_c_air  \\\n",
       "sum                                      0.0   \n",
       "mean                                     0.0   \n",
       "\n",
       "      primary_cleaner.state.floatbank8_c_level  \\\n",
       "sum                                        0.0   \n",
       "mean                                       0.0   \n",
       "\n",
       "      primary_cleaner.state.floatbank8_d_air  \\\n",
       "sum                                 1.000000   \n",
       "mean                                0.000069   \n",
       "\n",
       "      primary_cleaner.state.floatbank8_d_level  \\\n",
       "sum                                        0.0   \n",
       "mean                                       0.0   \n",
       "\n",
       "      primary_cleaner.output.concentrate_au  \\\n",
       "sum                                     0.0   \n",
       "mean                                    0.0   \n",
       "\n",
       "      primary_cleaner.output.concentrate_ag  \\\n",
       "sum                                     0.0   \n",
       "mean                                    0.0   \n",
       "\n",
       "      primary_cleaner.output.concentrate_pb  \\\n",
       "sum                               88.000000   \n",
       "mean                               0.006036   \n",
       "\n",
       "      primary_cleaner.output.concentrate_sol  primary_cleaner.output.tail_au  \\\n",
       "sum                               265.000000                             0.0   \n",
       "mean                                0.018177                             0.0   \n",
       "\n",
       "      primary_cleaner.output.tail_ag  primary_cleaner.output.tail_pb  \\\n",
       "sum                         4.000000                        6.000000   \n",
       "mean                        0.000274                        0.000412   \n",
       "\n",
       "      primary_cleaner.output.tail_sol  \\\n",
       "sum                         45.000000   \n",
       "mean                         0.003087   \n",
       "\n",
       "      secondary_cleaner.state.floatbank2_a_air  \\\n",
       "sum                                  94.000000   \n",
       "mean                                  0.006448   \n",
       "\n",
       "      secondary_cleaner.state.floatbank2_a_level  \\\n",
       "sum                                          0.0   \n",
       "mean                                         0.0   \n",
       "\n",
       "      secondary_cleaner.state.floatbank2_b_air  \\\n",
       "sum                                  22.000000   \n",
       "mean                                  0.001509   \n",
       "\n",
       "      secondary_cleaner.state.floatbank2_b_level  \\\n",
       "sum                                          0.0   \n",
       "mean                                         0.0   \n",
       "\n",
       "      secondary_cleaner.state.floatbank3_a_air  \\\n",
       "sum                                  12.000000   \n",
       "mean                                  0.000823   \n",
       "\n",
       "      secondary_cleaner.state.floatbank3_a_level  \\\n",
       "sum                                          0.0   \n",
       "mean                                         0.0   \n",
       "\n",
       "      secondary_cleaner.state.floatbank3_b_air  \\\n",
       "sum                                        0.0   \n",
       "mean                                       0.0   \n",
       "\n",
       "      secondary_cleaner.state.floatbank3_b_level  \\\n",
       "sum                                          0.0   \n",
       "mean                                         0.0   \n",
       "\n",
       "      secondary_cleaner.state.floatbank4_a_air  \\\n",
       "sum                                   5.000000   \n",
       "mean                                  0.000343   \n",
       "\n",
       "      secondary_cleaner.state.floatbank4_a_level  \\\n",
       "sum                                          0.0   \n",
       "mean                                         0.0   \n",
       "\n",
       "      secondary_cleaner.state.floatbank4_b_air  \\\n",
       "sum                                        0.0   \n",
       "mean                                       0.0   \n",
       "\n",
       "      secondary_cleaner.state.floatbank4_b_level  \\\n",
       "sum                                          0.0   \n",
       "mean                                         0.0   \n",
       "\n",
       "      secondary_cleaner.state.floatbank5_a_air  \\\n",
       "sum                                        0.0   \n",
       "mean                                       0.0   \n",
       "\n",
       "      secondary_cleaner.state.floatbank5_a_level  \\\n",
       "sum                                          0.0   \n",
       "mean                                         0.0   \n",
       "\n",
       "      secondary_cleaner.state.floatbank5_b_air  \\\n",
       "sum                                        0.0   \n",
       "mean                                       0.0   \n",
       "\n",
       "      secondary_cleaner.state.floatbank5_b_level  \\\n",
       "sum                                          0.0   \n",
       "mean                                         0.0   \n",
       "\n",
       "      secondary_cleaner.state.floatbank6_a_air  \\\n",
       "sum                                   1.000000   \n",
       "mean                                  0.000069   \n",
       "\n",
       "      secondary_cleaner.state.floatbank6_a_level  \\\n",
       "sum                                          0.0   \n",
       "mean                                         0.0   \n",
       "\n",
       "      secondary_cleaner.output.tail_au  secondary_cleaner.output.tail_ag  \\\n",
       "sum                                0.0                          1.000000   \n",
       "mean                               0.0                          0.000069   \n",
       "\n",
       "      secondary_cleaner.output.tail_pb  secondary_cleaner.output.tail_sol  \\\n",
       "sum                           4.000000                         920.000000   \n",
       "mean                          0.000274                           0.063104   \n",
       "\n",
       "      final.output.concentrate_au  final.output.concentrate_ag  \\\n",
       "sum                           0.0                     1.000000   \n",
       "mean                          0.0                     0.000069   \n",
       "\n",
       "      final.output.concentrate_pb  final.output.concentrate_sol  \\\n",
       "sum                      1.000000                     192.00000   \n",
       "mean                     0.000069                       0.01317   \n",
       "\n",
       "      final.output.recovery  final.output.tail_au  final.output.tail_ag  \\\n",
       "sum                     0.0                   0.0              1.000000   \n",
       "mean                    0.0                   0.0              0.000069   \n",
       "\n",
       "      final.output.tail_pb  final.output.tail_sol  \\\n",
       "sum              75.000000               5.000000   \n",
       "mean              0.005144               0.000343   \n",
       "\n",
       "      rougher.output.recovery_calculated  \n",
       "sum                                  0.0  \n",
       "mean                                 0.0  "
      ]
     },
     "execution_count": 15,
     "metadata": {},
     "output_type": "execute_result"
    }
   ],
   "source": [
    "gold_industry_train.isna().agg(['sum', 'mean'])"
   ]
  },
  {
   "cell_type": "markdown",
   "metadata": {},
   "source": [
    "Пропусков в данных достаточно много, поэтому просто удалить пропуски нельзя. Заменим данные ближайшими значениями."
   ]
  },
  {
   "cell_type": "code",
   "execution_count": 16,
   "metadata": {},
   "outputs": [],
   "source": [
    "gold_industry_test = gold_industry_test.merge(gold_industry_full, on='date',\n",
    "                 how='inner', suffixes=('', '_y'))\n",
    "\n",
    "gold_industry_test.drop(gold_industry_test.filter(regex='_y$').columns, axis=1, inplace=True)"
   ]
  },
  {
   "cell_type": "code",
   "execution_count": 19,
   "metadata": {},
   "outputs": [],
   "source": [
    "gold_industry_train = gold_industry_train.fillna(method='ffill')\n",
    "gold_industry_test = gold_industry_test.fillna(method='ffill')"
   ]
  },
  {
   "cell_type": "code",
   "execution_count": 20,
   "metadata": {},
   "outputs": [
    {
     "data": {
      "text/html": [
       "<div>\n",
       "<style scoped>\n",
       "    .dataframe tbody tr th:only-of-type {\n",
       "        vertical-align: middle;\n",
       "    }\n",
       "\n",
       "    .dataframe tbody tr th {\n",
       "        vertical-align: top;\n",
       "    }\n",
       "\n",
       "    .dataframe thead th {\n",
       "        text-align: right;\n",
       "    }\n",
       "</style>\n",
       "<table border=\"1\" class=\"dataframe\">\n",
       "  <thead>\n",
       "    <tr style=\"text-align: right;\">\n",
       "      <th></th>\n",
       "      <th>date</th>\n",
       "      <th>rougher.input.feed_au</th>\n",
       "      <th>rougher.input.feed_ag</th>\n",
       "      <th>rougher.input.feed_pb</th>\n",
       "      <th>rougher.input.feed_sol</th>\n",
       "      <th>rougher.input.feed_rate</th>\n",
       "      <th>rougher.input.feed_size</th>\n",
       "      <th>rougher.input.floatbank10_sulfate</th>\n",
       "      <th>rougher.input.floatbank10_xanthate</th>\n",
       "      <th>rougher.state.floatbank10_a_air</th>\n",
       "      <th>rougher.state.floatbank10_a_level</th>\n",
       "      <th>rougher.state.floatbank10_b_air</th>\n",
       "      <th>rougher.state.floatbank10_b_level</th>\n",
       "      <th>rougher.state.floatbank10_c_air</th>\n",
       "      <th>rougher.state.floatbank10_c_level</th>\n",
       "      <th>rougher.state.floatbank10_d_air</th>\n",
       "      <th>rougher.state.floatbank10_d_level</th>\n",
       "      <th>rougher.state.floatbank10_e_air</th>\n",
       "      <th>rougher.state.floatbank10_e_level</th>\n",
       "      <th>rougher.state.floatbank10_f_air</th>\n",
       "      <th>rougher.state.floatbank10_f_level</th>\n",
       "      <th>rougher.input.floatbank11_sulfate</th>\n",
       "      <th>rougher.input.floatbank11_xanthate</th>\n",
       "      <th>rougher.calculation.sulfate_to_au_concentrate</th>\n",
       "      <th>rougher.calculation.floatbank10_sulfate_to_au_feed</th>\n",
       "      <th>rougher.calculation.floatbank11_sulfate_to_au_feed</th>\n",
       "      <th>rougher.calculation.au_pb_ratio</th>\n",
       "      <th>rougher.output.concentrate_au</th>\n",
       "      <th>rougher.output.concentrate_ag</th>\n",
       "      <th>rougher.output.concentrate_pb</th>\n",
       "      <th>rougher.output.concentrate_sol</th>\n",
       "      <th>rougher.output.recovery</th>\n",
       "      <th>rougher.output.tail_au</th>\n",
       "      <th>rougher.output.tail_ag</th>\n",
       "      <th>rougher.output.tail_pb</th>\n",
       "      <th>rougher.output.tail_sol</th>\n",
       "      <th>primary_cleaner.input.sulfate</th>\n",
       "      <th>primary_cleaner.input.depressant</th>\n",
       "      <th>primary_cleaner.input.feed_size</th>\n",
       "      <th>primary_cleaner.input.xanthate</th>\n",
       "      <th>primary_cleaner.state.floatbank8_a_air</th>\n",
       "      <th>primary_cleaner.state.floatbank8_a_level</th>\n",
       "      <th>primary_cleaner.state.floatbank8_b_air</th>\n",
       "      <th>primary_cleaner.state.floatbank8_b_level</th>\n",
       "      <th>primary_cleaner.state.floatbank8_c_air</th>\n",
       "      <th>primary_cleaner.state.floatbank8_c_level</th>\n",
       "      <th>primary_cleaner.state.floatbank8_d_air</th>\n",
       "      <th>primary_cleaner.state.floatbank8_d_level</th>\n",
       "      <th>primary_cleaner.output.concentrate_au</th>\n",
       "      <th>primary_cleaner.output.concentrate_ag</th>\n",
       "      <th>primary_cleaner.output.concentrate_pb</th>\n",
       "      <th>primary_cleaner.output.concentrate_sol</th>\n",
       "      <th>primary_cleaner.output.tail_au</th>\n",
       "      <th>primary_cleaner.output.tail_ag</th>\n",
       "      <th>primary_cleaner.output.tail_pb</th>\n",
       "      <th>primary_cleaner.output.tail_sol</th>\n",
       "      <th>secondary_cleaner.state.floatbank2_a_air</th>\n",
       "      <th>secondary_cleaner.state.floatbank2_a_level</th>\n",
       "      <th>secondary_cleaner.state.floatbank2_b_air</th>\n",
       "      <th>secondary_cleaner.state.floatbank2_b_level</th>\n",
       "      <th>secondary_cleaner.state.floatbank3_a_air</th>\n",
       "      <th>secondary_cleaner.state.floatbank3_a_level</th>\n",
       "      <th>secondary_cleaner.state.floatbank3_b_air</th>\n",
       "      <th>secondary_cleaner.state.floatbank3_b_level</th>\n",
       "      <th>secondary_cleaner.state.floatbank4_a_air</th>\n",
       "      <th>secondary_cleaner.state.floatbank4_a_level</th>\n",
       "      <th>secondary_cleaner.state.floatbank4_b_air</th>\n",
       "      <th>secondary_cleaner.state.floatbank4_b_level</th>\n",
       "      <th>secondary_cleaner.state.floatbank5_a_air</th>\n",
       "      <th>secondary_cleaner.state.floatbank5_a_level</th>\n",
       "      <th>secondary_cleaner.state.floatbank5_b_air</th>\n",
       "      <th>secondary_cleaner.state.floatbank5_b_level</th>\n",
       "      <th>secondary_cleaner.state.floatbank6_a_air</th>\n",
       "      <th>secondary_cleaner.state.floatbank6_a_level</th>\n",
       "      <th>secondary_cleaner.output.tail_au</th>\n",
       "      <th>secondary_cleaner.output.tail_ag</th>\n",
       "      <th>secondary_cleaner.output.tail_pb</th>\n",
       "      <th>secondary_cleaner.output.tail_sol</th>\n",
       "      <th>final.output.concentrate_au</th>\n",
       "      <th>final.output.concentrate_ag</th>\n",
       "      <th>final.output.concentrate_pb</th>\n",
       "      <th>final.output.concentrate_sol</th>\n",
       "      <th>final.output.recovery</th>\n",
       "      <th>final.output.tail_au</th>\n",
       "      <th>final.output.tail_ag</th>\n",
       "      <th>final.output.tail_pb</th>\n",
       "      <th>final.output.tail_sol</th>\n",
       "      <th>rougher.output.recovery_calculated</th>\n",
       "    </tr>\n",
       "  </thead>\n",
       "  <tbody>\n",
       "    <tr>\n",
       "      <th>sum</th>\n",
       "      <td>0.0</td>\n",
       "      <td>0.0</td>\n",
       "      <td>0.0</td>\n",
       "      <td>0.0</td>\n",
       "      <td>0.0</td>\n",
       "      <td>0.0</td>\n",
       "      <td>0.0</td>\n",
       "      <td>0.0</td>\n",
       "      <td>0.0</td>\n",
       "      <td>0.0</td>\n",
       "      <td>0.0</td>\n",
       "      <td>0.0</td>\n",
       "      <td>0.0</td>\n",
       "      <td>0.0</td>\n",
       "      <td>0.0</td>\n",
       "      <td>0.0</td>\n",
       "      <td>0.0</td>\n",
       "      <td>0.0</td>\n",
       "      <td>0.0</td>\n",
       "      <td>0.0</td>\n",
       "      <td>0.0</td>\n",
       "      <td>0.0</td>\n",
       "      <td>0.0</td>\n",
       "      <td>0.0</td>\n",
       "      <td>0.0</td>\n",
       "      <td>0.0</td>\n",
       "      <td>0.0</td>\n",
       "      <td>0.0</td>\n",
       "      <td>0.0</td>\n",
       "      <td>0.0</td>\n",
       "      <td>0.0</td>\n",
       "      <td>0.0</td>\n",
       "      <td>0.0</td>\n",
       "      <td>0.0</td>\n",
       "      <td>0.0</td>\n",
       "      <td>0.0</td>\n",
       "      <td>0.0</td>\n",
       "      <td>0.0</td>\n",
       "      <td>0.0</td>\n",
       "      <td>0.0</td>\n",
       "      <td>0.0</td>\n",
       "      <td>0.0</td>\n",
       "      <td>0.0</td>\n",
       "      <td>0.0</td>\n",
       "      <td>0.0</td>\n",
       "      <td>0.0</td>\n",
       "      <td>0.0</td>\n",
       "      <td>0.0</td>\n",
       "      <td>0.0</td>\n",
       "      <td>0.0</td>\n",
       "      <td>0.0</td>\n",
       "      <td>0.0</td>\n",
       "      <td>0.0</td>\n",
       "      <td>0.0</td>\n",
       "      <td>0.0</td>\n",
       "      <td>0.0</td>\n",
       "      <td>0.0</td>\n",
       "      <td>0.0</td>\n",
       "      <td>0.0</td>\n",
       "      <td>0.0</td>\n",
       "      <td>0.0</td>\n",
       "      <td>0.0</td>\n",
       "      <td>0.0</td>\n",
       "      <td>0.0</td>\n",
       "      <td>0.0</td>\n",
       "      <td>0.0</td>\n",
       "      <td>0.0</td>\n",
       "      <td>0.0</td>\n",
       "      <td>0.0</td>\n",
       "      <td>0.0</td>\n",
       "      <td>0.0</td>\n",
       "      <td>0.0</td>\n",
       "      <td>0.0</td>\n",
       "      <td>0.0</td>\n",
       "      <td>0.0</td>\n",
       "      <td>0.0</td>\n",
       "      <td>0.0</td>\n",
       "      <td>0.0</td>\n",
       "      <td>0.0</td>\n",
       "      <td>0.0</td>\n",
       "      <td>0.0</td>\n",
       "      <td>0.0</td>\n",
       "      <td>0.0</td>\n",
       "      <td>0.0</td>\n",
       "      <td>0.0</td>\n",
       "      <td>0.0</td>\n",
       "      <td>0.0</td>\n",
       "      <td>0.0</td>\n",
       "    </tr>\n",
       "    <tr>\n",
       "      <th>mean</th>\n",
       "      <td>0.0</td>\n",
       "      <td>0.0</td>\n",
       "      <td>0.0</td>\n",
       "      <td>0.0</td>\n",
       "      <td>0.0</td>\n",
       "      <td>0.0</td>\n",
       "      <td>0.0</td>\n",
       "      <td>0.0</td>\n",
       "      <td>0.0</td>\n",
       "      <td>0.0</td>\n",
       "      <td>0.0</td>\n",
       "      <td>0.0</td>\n",
       "      <td>0.0</td>\n",
       "      <td>0.0</td>\n",
       "      <td>0.0</td>\n",
       "      <td>0.0</td>\n",
       "      <td>0.0</td>\n",
       "      <td>0.0</td>\n",
       "      <td>0.0</td>\n",
       "      <td>0.0</td>\n",
       "      <td>0.0</td>\n",
       "      <td>0.0</td>\n",
       "      <td>0.0</td>\n",
       "      <td>0.0</td>\n",
       "      <td>0.0</td>\n",
       "      <td>0.0</td>\n",
       "      <td>0.0</td>\n",
       "      <td>0.0</td>\n",
       "      <td>0.0</td>\n",
       "      <td>0.0</td>\n",
       "      <td>0.0</td>\n",
       "      <td>0.0</td>\n",
       "      <td>0.0</td>\n",
       "      <td>0.0</td>\n",
       "      <td>0.0</td>\n",
       "      <td>0.0</td>\n",
       "      <td>0.0</td>\n",
       "      <td>0.0</td>\n",
       "      <td>0.0</td>\n",
       "      <td>0.0</td>\n",
       "      <td>0.0</td>\n",
       "      <td>0.0</td>\n",
       "      <td>0.0</td>\n",
       "      <td>0.0</td>\n",
       "      <td>0.0</td>\n",
       "      <td>0.0</td>\n",
       "      <td>0.0</td>\n",
       "      <td>0.0</td>\n",
       "      <td>0.0</td>\n",
       "      <td>0.0</td>\n",
       "      <td>0.0</td>\n",
       "      <td>0.0</td>\n",
       "      <td>0.0</td>\n",
       "      <td>0.0</td>\n",
       "      <td>0.0</td>\n",
       "      <td>0.0</td>\n",
       "      <td>0.0</td>\n",
       "      <td>0.0</td>\n",
       "      <td>0.0</td>\n",
       "      <td>0.0</td>\n",
       "      <td>0.0</td>\n",
       "      <td>0.0</td>\n",
       "      <td>0.0</td>\n",
       "      <td>0.0</td>\n",
       "      <td>0.0</td>\n",
       "      <td>0.0</td>\n",
       "      <td>0.0</td>\n",
       "      <td>0.0</td>\n",
       "      <td>0.0</td>\n",
       "      <td>0.0</td>\n",
       "      <td>0.0</td>\n",
       "      <td>0.0</td>\n",
       "      <td>0.0</td>\n",
       "      <td>0.0</td>\n",
       "      <td>0.0</td>\n",
       "      <td>0.0</td>\n",
       "      <td>0.0</td>\n",
       "      <td>0.0</td>\n",
       "      <td>0.0</td>\n",
       "      <td>0.0</td>\n",
       "      <td>0.0</td>\n",
       "      <td>0.0</td>\n",
       "      <td>0.0</td>\n",
       "      <td>0.0</td>\n",
       "      <td>0.0</td>\n",
       "      <td>0.0</td>\n",
       "      <td>0.0</td>\n",
       "      <td>0.0</td>\n",
       "    </tr>\n",
       "  </tbody>\n",
       "</table>\n",
       "</div>"
      ],
      "text/plain": [
       "      date  rougher.input.feed_au  rougher.input.feed_ag  \\\n",
       "sum    0.0                    0.0                    0.0   \n",
       "mean   0.0                    0.0                    0.0   \n",
       "\n",
       "      rougher.input.feed_pb  rougher.input.feed_sol  rougher.input.feed_rate  \\\n",
       "sum                     0.0                     0.0                      0.0   \n",
       "mean                    0.0                     0.0                      0.0   \n",
       "\n",
       "      rougher.input.feed_size  rougher.input.floatbank10_sulfate  \\\n",
       "sum                       0.0                                0.0   \n",
       "mean                      0.0                                0.0   \n",
       "\n",
       "      rougher.input.floatbank10_xanthate  rougher.state.floatbank10_a_air  \\\n",
       "sum                                  0.0                              0.0   \n",
       "mean                                 0.0                              0.0   \n",
       "\n",
       "      rougher.state.floatbank10_a_level  rougher.state.floatbank10_b_air  \\\n",
       "sum                                 0.0                              0.0   \n",
       "mean                                0.0                              0.0   \n",
       "\n",
       "      rougher.state.floatbank10_b_level  rougher.state.floatbank10_c_air  \\\n",
       "sum                                 0.0                              0.0   \n",
       "mean                                0.0                              0.0   \n",
       "\n",
       "      rougher.state.floatbank10_c_level  rougher.state.floatbank10_d_air  \\\n",
       "sum                                 0.0                              0.0   \n",
       "mean                                0.0                              0.0   \n",
       "\n",
       "      rougher.state.floatbank10_d_level  rougher.state.floatbank10_e_air  \\\n",
       "sum                                 0.0                              0.0   \n",
       "mean                                0.0                              0.0   \n",
       "\n",
       "      rougher.state.floatbank10_e_level  rougher.state.floatbank10_f_air  \\\n",
       "sum                                 0.0                              0.0   \n",
       "mean                                0.0                              0.0   \n",
       "\n",
       "      rougher.state.floatbank10_f_level  rougher.input.floatbank11_sulfate  \\\n",
       "sum                                 0.0                                0.0   \n",
       "mean                                0.0                                0.0   \n",
       "\n",
       "      rougher.input.floatbank11_xanthate  \\\n",
       "sum                                  0.0   \n",
       "mean                                 0.0   \n",
       "\n",
       "      rougher.calculation.sulfate_to_au_concentrate  \\\n",
       "sum                                             0.0   \n",
       "mean                                            0.0   \n",
       "\n",
       "      rougher.calculation.floatbank10_sulfate_to_au_feed  \\\n",
       "sum                                                 0.0    \n",
       "mean                                                0.0    \n",
       "\n",
       "      rougher.calculation.floatbank11_sulfate_to_au_feed  \\\n",
       "sum                                                 0.0    \n",
       "mean                                                0.0    \n",
       "\n",
       "      rougher.calculation.au_pb_ratio  rougher.output.concentrate_au  \\\n",
       "sum                               0.0                            0.0   \n",
       "mean                              0.0                            0.0   \n",
       "\n",
       "      rougher.output.concentrate_ag  rougher.output.concentrate_pb  \\\n",
       "sum                             0.0                            0.0   \n",
       "mean                            0.0                            0.0   \n",
       "\n",
       "      rougher.output.concentrate_sol  rougher.output.recovery  \\\n",
       "sum                              0.0                      0.0   \n",
       "mean                             0.0                      0.0   \n",
       "\n",
       "      rougher.output.tail_au  rougher.output.tail_ag  rougher.output.tail_pb  \\\n",
       "sum                      0.0                     0.0                     0.0   \n",
       "mean                     0.0                     0.0                     0.0   \n",
       "\n",
       "      rougher.output.tail_sol  primary_cleaner.input.sulfate  \\\n",
       "sum                       0.0                            0.0   \n",
       "mean                      0.0                            0.0   \n",
       "\n",
       "      primary_cleaner.input.depressant  primary_cleaner.input.feed_size  \\\n",
       "sum                                0.0                              0.0   \n",
       "mean                               0.0                              0.0   \n",
       "\n",
       "      primary_cleaner.input.xanthate  primary_cleaner.state.floatbank8_a_air  \\\n",
       "sum                              0.0                                     0.0   \n",
       "mean                             0.0                                     0.0   \n",
       "\n",
       "      primary_cleaner.state.floatbank8_a_level  \\\n",
       "sum                                        0.0   \n",
       "mean                                       0.0   \n",
       "\n",
       "      primary_cleaner.state.floatbank8_b_air  \\\n",
       "sum                                      0.0   \n",
       "mean                                     0.0   \n",
       "\n",
       "      primary_cleaner.state.floatbank8_b_level  \\\n",
       "sum                                        0.0   \n",
       "mean                                       0.0   \n",
       "\n",
       "      primary_cleaner.state.floatbank8_c_air  \\\n",
       "sum                                      0.0   \n",
       "mean                                     0.0   \n",
       "\n",
       "      primary_cleaner.state.floatbank8_c_level  \\\n",
       "sum                                        0.0   \n",
       "mean                                       0.0   \n",
       "\n",
       "      primary_cleaner.state.floatbank8_d_air  \\\n",
       "sum                                      0.0   \n",
       "mean                                     0.0   \n",
       "\n",
       "      primary_cleaner.state.floatbank8_d_level  \\\n",
       "sum                                        0.0   \n",
       "mean                                       0.0   \n",
       "\n",
       "      primary_cleaner.output.concentrate_au  \\\n",
       "sum                                     0.0   \n",
       "mean                                    0.0   \n",
       "\n",
       "      primary_cleaner.output.concentrate_ag  \\\n",
       "sum                                     0.0   \n",
       "mean                                    0.0   \n",
       "\n",
       "      primary_cleaner.output.concentrate_pb  \\\n",
       "sum                                     0.0   \n",
       "mean                                    0.0   \n",
       "\n",
       "      primary_cleaner.output.concentrate_sol  primary_cleaner.output.tail_au  \\\n",
       "sum                                      0.0                             0.0   \n",
       "mean                                     0.0                             0.0   \n",
       "\n",
       "      primary_cleaner.output.tail_ag  primary_cleaner.output.tail_pb  \\\n",
       "sum                              0.0                             0.0   \n",
       "mean                             0.0                             0.0   \n",
       "\n",
       "      primary_cleaner.output.tail_sol  \\\n",
       "sum                               0.0   \n",
       "mean                              0.0   \n",
       "\n",
       "      secondary_cleaner.state.floatbank2_a_air  \\\n",
       "sum                                        0.0   \n",
       "mean                                       0.0   \n",
       "\n",
       "      secondary_cleaner.state.floatbank2_a_level  \\\n",
       "sum                                          0.0   \n",
       "mean                                         0.0   \n",
       "\n",
       "      secondary_cleaner.state.floatbank2_b_air  \\\n",
       "sum                                        0.0   \n",
       "mean                                       0.0   \n",
       "\n",
       "      secondary_cleaner.state.floatbank2_b_level  \\\n",
       "sum                                          0.0   \n",
       "mean                                         0.0   \n",
       "\n",
       "      secondary_cleaner.state.floatbank3_a_air  \\\n",
       "sum                                        0.0   \n",
       "mean                                       0.0   \n",
       "\n",
       "      secondary_cleaner.state.floatbank3_a_level  \\\n",
       "sum                                          0.0   \n",
       "mean                                         0.0   \n",
       "\n",
       "      secondary_cleaner.state.floatbank3_b_air  \\\n",
       "sum                                        0.0   \n",
       "mean                                       0.0   \n",
       "\n",
       "      secondary_cleaner.state.floatbank3_b_level  \\\n",
       "sum                                          0.0   \n",
       "mean                                         0.0   \n",
       "\n",
       "      secondary_cleaner.state.floatbank4_a_air  \\\n",
       "sum                                        0.0   \n",
       "mean                                       0.0   \n",
       "\n",
       "      secondary_cleaner.state.floatbank4_a_level  \\\n",
       "sum                                          0.0   \n",
       "mean                                         0.0   \n",
       "\n",
       "      secondary_cleaner.state.floatbank4_b_air  \\\n",
       "sum                                        0.0   \n",
       "mean                                       0.0   \n",
       "\n",
       "      secondary_cleaner.state.floatbank4_b_level  \\\n",
       "sum                                          0.0   \n",
       "mean                                         0.0   \n",
       "\n",
       "      secondary_cleaner.state.floatbank5_a_air  \\\n",
       "sum                                        0.0   \n",
       "mean                                       0.0   \n",
       "\n",
       "      secondary_cleaner.state.floatbank5_a_level  \\\n",
       "sum                                          0.0   \n",
       "mean                                         0.0   \n",
       "\n",
       "      secondary_cleaner.state.floatbank5_b_air  \\\n",
       "sum                                        0.0   \n",
       "mean                                       0.0   \n",
       "\n",
       "      secondary_cleaner.state.floatbank5_b_level  \\\n",
       "sum                                          0.0   \n",
       "mean                                         0.0   \n",
       "\n",
       "      secondary_cleaner.state.floatbank6_a_air  \\\n",
       "sum                                        0.0   \n",
       "mean                                       0.0   \n",
       "\n",
       "      secondary_cleaner.state.floatbank6_a_level  \\\n",
       "sum                                          0.0   \n",
       "mean                                         0.0   \n",
       "\n",
       "      secondary_cleaner.output.tail_au  secondary_cleaner.output.tail_ag  \\\n",
       "sum                                0.0                               0.0   \n",
       "mean                               0.0                               0.0   \n",
       "\n",
       "      secondary_cleaner.output.tail_pb  secondary_cleaner.output.tail_sol  \\\n",
       "sum                                0.0                                0.0   \n",
       "mean                               0.0                                0.0   \n",
       "\n",
       "      final.output.concentrate_au  final.output.concentrate_ag  \\\n",
       "sum                           0.0                          0.0   \n",
       "mean                          0.0                          0.0   \n",
       "\n",
       "      final.output.concentrate_pb  final.output.concentrate_sol  \\\n",
       "sum                           0.0                           0.0   \n",
       "mean                          0.0                           0.0   \n",
       "\n",
       "      final.output.recovery  final.output.tail_au  final.output.tail_ag  \\\n",
       "sum                     0.0                   0.0                   0.0   \n",
       "mean                    0.0                   0.0                   0.0   \n",
       "\n",
       "      final.output.tail_pb  final.output.tail_sol  \\\n",
       "sum                    0.0                    0.0   \n",
       "mean                   0.0                    0.0   \n",
       "\n",
       "      rougher.output.recovery_calculated  \n",
       "sum                                  0.0  \n",
       "mean                                 0.0  "
      ]
     },
     "execution_count": 20,
     "metadata": {},
     "output_type": "execute_result"
    }
   ],
   "source": [
    "gold_industry_train.isna().agg(['sum', 'mean'])"
   ]
  },
  {
   "cell_type": "code",
   "execution_count": 21,
   "metadata": {},
   "outputs": [
    {
     "data": {
      "text/html": [
       "<div>\n",
       "<style scoped>\n",
       "    .dataframe tbody tr th:only-of-type {\n",
       "        vertical-align: middle;\n",
       "    }\n",
       "\n",
       "    .dataframe tbody tr th {\n",
       "        vertical-align: top;\n",
       "    }\n",
       "\n",
       "    .dataframe thead th {\n",
       "        text-align: right;\n",
       "    }\n",
       "</style>\n",
       "<table border=\"1\" class=\"dataframe\">\n",
       "  <thead>\n",
       "    <tr style=\"text-align: right;\">\n",
       "      <th></th>\n",
       "      <th>date</th>\n",
       "      <th>rougher.input.feed_au</th>\n",
       "      <th>rougher.input.feed_ag</th>\n",
       "      <th>rougher.input.feed_pb</th>\n",
       "      <th>rougher.input.feed_sol</th>\n",
       "      <th>rougher.input.feed_rate</th>\n",
       "      <th>rougher.input.feed_size</th>\n",
       "      <th>rougher.input.floatbank10_sulfate</th>\n",
       "      <th>rougher.input.floatbank10_xanthate</th>\n",
       "      <th>rougher.state.floatbank10_a_air</th>\n",
       "      <th>rougher.state.floatbank10_a_level</th>\n",
       "      <th>rougher.state.floatbank10_b_air</th>\n",
       "      <th>rougher.state.floatbank10_b_level</th>\n",
       "      <th>rougher.state.floatbank10_c_air</th>\n",
       "      <th>rougher.state.floatbank10_c_level</th>\n",
       "      <th>rougher.state.floatbank10_d_air</th>\n",
       "      <th>rougher.state.floatbank10_d_level</th>\n",
       "      <th>rougher.state.floatbank10_e_air</th>\n",
       "      <th>rougher.state.floatbank10_e_level</th>\n",
       "      <th>rougher.state.floatbank10_f_air</th>\n",
       "      <th>rougher.state.floatbank10_f_level</th>\n",
       "      <th>rougher.input.floatbank11_sulfate</th>\n",
       "      <th>rougher.input.floatbank11_xanthate</th>\n",
       "      <th>primary_cleaner.input.sulfate</th>\n",
       "      <th>primary_cleaner.input.depressant</th>\n",
       "      <th>primary_cleaner.input.feed_size</th>\n",
       "      <th>primary_cleaner.input.xanthate</th>\n",
       "      <th>primary_cleaner.state.floatbank8_a_air</th>\n",
       "      <th>primary_cleaner.state.floatbank8_a_level</th>\n",
       "      <th>primary_cleaner.state.floatbank8_b_air</th>\n",
       "      <th>primary_cleaner.state.floatbank8_b_level</th>\n",
       "      <th>primary_cleaner.state.floatbank8_c_air</th>\n",
       "      <th>primary_cleaner.state.floatbank8_c_level</th>\n",
       "      <th>primary_cleaner.state.floatbank8_d_air</th>\n",
       "      <th>primary_cleaner.state.floatbank8_d_level</th>\n",
       "      <th>secondary_cleaner.state.floatbank2_a_air</th>\n",
       "      <th>secondary_cleaner.state.floatbank2_a_level</th>\n",
       "      <th>secondary_cleaner.state.floatbank2_b_air</th>\n",
       "      <th>secondary_cleaner.state.floatbank2_b_level</th>\n",
       "      <th>secondary_cleaner.state.floatbank3_a_air</th>\n",
       "      <th>secondary_cleaner.state.floatbank3_a_level</th>\n",
       "      <th>secondary_cleaner.state.floatbank3_b_air</th>\n",
       "      <th>secondary_cleaner.state.floatbank3_b_level</th>\n",
       "      <th>secondary_cleaner.state.floatbank4_a_air</th>\n",
       "      <th>secondary_cleaner.state.floatbank4_a_level</th>\n",
       "      <th>secondary_cleaner.state.floatbank4_b_air</th>\n",
       "      <th>secondary_cleaner.state.floatbank4_b_level</th>\n",
       "      <th>secondary_cleaner.state.floatbank5_a_air</th>\n",
       "      <th>secondary_cleaner.state.floatbank5_a_level</th>\n",
       "      <th>secondary_cleaner.state.floatbank5_b_air</th>\n",
       "      <th>secondary_cleaner.state.floatbank5_b_level</th>\n",
       "      <th>secondary_cleaner.state.floatbank6_a_air</th>\n",
       "      <th>secondary_cleaner.state.floatbank6_a_level</th>\n",
       "      <th>rougher.calculation.sulfate_to_au_concentrate</th>\n",
       "      <th>rougher.calculation.floatbank10_sulfate_to_au_feed</th>\n",
       "      <th>rougher.calculation.floatbank11_sulfate_to_au_feed</th>\n",
       "      <th>rougher.calculation.au_pb_ratio</th>\n",
       "      <th>rougher.output.concentrate_au</th>\n",
       "      <th>rougher.output.concentrate_ag</th>\n",
       "      <th>rougher.output.concentrate_pb</th>\n",
       "      <th>rougher.output.concentrate_sol</th>\n",
       "      <th>rougher.output.recovery</th>\n",
       "      <th>rougher.output.tail_au</th>\n",
       "      <th>rougher.output.tail_ag</th>\n",
       "      <th>rougher.output.tail_pb</th>\n",
       "      <th>rougher.output.tail_sol</th>\n",
       "      <th>primary_cleaner.output.concentrate_au</th>\n",
       "      <th>primary_cleaner.output.concentrate_ag</th>\n",
       "      <th>primary_cleaner.output.concentrate_pb</th>\n",
       "      <th>primary_cleaner.output.concentrate_sol</th>\n",
       "      <th>primary_cleaner.output.tail_au</th>\n",
       "      <th>primary_cleaner.output.tail_ag</th>\n",
       "      <th>primary_cleaner.output.tail_pb</th>\n",
       "      <th>primary_cleaner.output.tail_sol</th>\n",
       "      <th>secondary_cleaner.output.tail_au</th>\n",
       "      <th>secondary_cleaner.output.tail_ag</th>\n",
       "      <th>secondary_cleaner.output.tail_pb</th>\n",
       "      <th>secondary_cleaner.output.tail_sol</th>\n",
       "      <th>final.output.concentrate_au</th>\n",
       "      <th>final.output.concentrate_ag</th>\n",
       "      <th>final.output.concentrate_pb</th>\n",
       "      <th>final.output.concentrate_sol</th>\n",
       "      <th>final.output.recovery</th>\n",
       "      <th>final.output.tail_au</th>\n",
       "      <th>final.output.tail_ag</th>\n",
       "      <th>final.output.tail_pb</th>\n",
       "      <th>final.output.tail_sol</th>\n",
       "    </tr>\n",
       "  </thead>\n",
       "  <tbody>\n",
       "    <tr>\n",
       "      <th>sum</th>\n",
       "      <td>0.0</td>\n",
       "      <td>0.0</td>\n",
       "      <td>0.0</td>\n",
       "      <td>0.0</td>\n",
       "      <td>0.0</td>\n",
       "      <td>0.0</td>\n",
       "      <td>0.0</td>\n",
       "      <td>0.0</td>\n",
       "      <td>0.0</td>\n",
       "      <td>0.0</td>\n",
       "      <td>0.0</td>\n",
       "      <td>0.0</td>\n",
       "      <td>0.0</td>\n",
       "      <td>0.0</td>\n",
       "      <td>0.0</td>\n",
       "      <td>0.0</td>\n",
       "      <td>0.0</td>\n",
       "      <td>0.0</td>\n",
       "      <td>0.0</td>\n",
       "      <td>0.0</td>\n",
       "      <td>0.0</td>\n",
       "      <td>0.0</td>\n",
       "      <td>0.0</td>\n",
       "      <td>0.0</td>\n",
       "      <td>0.0</td>\n",
       "      <td>0.0</td>\n",
       "      <td>0.0</td>\n",
       "      <td>0.0</td>\n",
       "      <td>0.0</td>\n",
       "      <td>0.0</td>\n",
       "      <td>0.0</td>\n",
       "      <td>0.0</td>\n",
       "      <td>0.0</td>\n",
       "      <td>0.0</td>\n",
       "      <td>0.0</td>\n",
       "      <td>0.0</td>\n",
       "      <td>0.0</td>\n",
       "      <td>0.0</td>\n",
       "      <td>0.0</td>\n",
       "      <td>0.0</td>\n",
       "      <td>0.0</td>\n",
       "      <td>0.0</td>\n",
       "      <td>0.0</td>\n",
       "      <td>0.0</td>\n",
       "      <td>0.0</td>\n",
       "      <td>0.0</td>\n",
       "      <td>0.0</td>\n",
       "      <td>0.0</td>\n",
       "      <td>0.0</td>\n",
       "      <td>0.0</td>\n",
       "      <td>0.0</td>\n",
       "      <td>0.0</td>\n",
       "      <td>0.0</td>\n",
       "      <td>0.0</td>\n",
       "      <td>0.0</td>\n",
       "      <td>0.0</td>\n",
       "      <td>0.0</td>\n",
       "      <td>0.0</td>\n",
       "      <td>0.0</td>\n",
       "      <td>0.0</td>\n",
       "      <td>0.0</td>\n",
       "      <td>0.0</td>\n",
       "      <td>0.0</td>\n",
       "      <td>0.0</td>\n",
       "      <td>0.0</td>\n",
       "      <td>0.0</td>\n",
       "      <td>0.0</td>\n",
       "      <td>0.0</td>\n",
       "      <td>0.0</td>\n",
       "      <td>0.0</td>\n",
       "      <td>0.0</td>\n",
       "      <td>0.0</td>\n",
       "      <td>0.0</td>\n",
       "      <td>0.0</td>\n",
       "      <td>0.0</td>\n",
       "      <td>0.0</td>\n",
       "      <td>0.0</td>\n",
       "      <td>0.0</td>\n",
       "      <td>0.0</td>\n",
       "      <td>0.0</td>\n",
       "      <td>0.0</td>\n",
       "      <td>0.0</td>\n",
       "      <td>0.0</td>\n",
       "      <td>0.0</td>\n",
       "      <td>0.0</td>\n",
       "      <td>0.0</td>\n",
       "      <td>0.0</td>\n",
       "    </tr>\n",
       "    <tr>\n",
       "      <th>mean</th>\n",
       "      <td>0.0</td>\n",
       "      <td>0.0</td>\n",
       "      <td>0.0</td>\n",
       "      <td>0.0</td>\n",
       "      <td>0.0</td>\n",
       "      <td>0.0</td>\n",
       "      <td>0.0</td>\n",
       "      <td>0.0</td>\n",
       "      <td>0.0</td>\n",
       "      <td>0.0</td>\n",
       "      <td>0.0</td>\n",
       "      <td>0.0</td>\n",
       "      <td>0.0</td>\n",
       "      <td>0.0</td>\n",
       "      <td>0.0</td>\n",
       "      <td>0.0</td>\n",
       "      <td>0.0</td>\n",
       "      <td>0.0</td>\n",
       "      <td>0.0</td>\n",
       "      <td>0.0</td>\n",
       "      <td>0.0</td>\n",
       "      <td>0.0</td>\n",
       "      <td>0.0</td>\n",
       "      <td>0.0</td>\n",
       "      <td>0.0</td>\n",
       "      <td>0.0</td>\n",
       "      <td>0.0</td>\n",
       "      <td>0.0</td>\n",
       "      <td>0.0</td>\n",
       "      <td>0.0</td>\n",
       "      <td>0.0</td>\n",
       "      <td>0.0</td>\n",
       "      <td>0.0</td>\n",
       "      <td>0.0</td>\n",
       "      <td>0.0</td>\n",
       "      <td>0.0</td>\n",
       "      <td>0.0</td>\n",
       "      <td>0.0</td>\n",
       "      <td>0.0</td>\n",
       "      <td>0.0</td>\n",
       "      <td>0.0</td>\n",
       "      <td>0.0</td>\n",
       "      <td>0.0</td>\n",
       "      <td>0.0</td>\n",
       "      <td>0.0</td>\n",
       "      <td>0.0</td>\n",
       "      <td>0.0</td>\n",
       "      <td>0.0</td>\n",
       "      <td>0.0</td>\n",
       "      <td>0.0</td>\n",
       "      <td>0.0</td>\n",
       "      <td>0.0</td>\n",
       "      <td>0.0</td>\n",
       "      <td>0.0</td>\n",
       "      <td>0.0</td>\n",
       "      <td>0.0</td>\n",
       "      <td>0.0</td>\n",
       "      <td>0.0</td>\n",
       "      <td>0.0</td>\n",
       "      <td>0.0</td>\n",
       "      <td>0.0</td>\n",
       "      <td>0.0</td>\n",
       "      <td>0.0</td>\n",
       "      <td>0.0</td>\n",
       "      <td>0.0</td>\n",
       "      <td>0.0</td>\n",
       "      <td>0.0</td>\n",
       "      <td>0.0</td>\n",
       "      <td>0.0</td>\n",
       "      <td>0.0</td>\n",
       "      <td>0.0</td>\n",
       "      <td>0.0</td>\n",
       "      <td>0.0</td>\n",
       "      <td>0.0</td>\n",
       "      <td>0.0</td>\n",
       "      <td>0.0</td>\n",
       "      <td>0.0</td>\n",
       "      <td>0.0</td>\n",
       "      <td>0.0</td>\n",
       "      <td>0.0</td>\n",
       "      <td>0.0</td>\n",
       "      <td>0.0</td>\n",
       "      <td>0.0</td>\n",
       "      <td>0.0</td>\n",
       "      <td>0.0</td>\n",
       "      <td>0.0</td>\n",
       "      <td>0.0</td>\n",
       "    </tr>\n",
       "  </tbody>\n",
       "</table>\n",
       "</div>"
      ],
      "text/plain": [
       "      date  rougher.input.feed_au  rougher.input.feed_ag  \\\n",
       "sum    0.0                    0.0                    0.0   \n",
       "mean   0.0                    0.0                    0.0   \n",
       "\n",
       "      rougher.input.feed_pb  rougher.input.feed_sol  rougher.input.feed_rate  \\\n",
       "sum                     0.0                     0.0                      0.0   \n",
       "mean                    0.0                     0.0                      0.0   \n",
       "\n",
       "      rougher.input.feed_size  rougher.input.floatbank10_sulfate  \\\n",
       "sum                       0.0                                0.0   \n",
       "mean                      0.0                                0.0   \n",
       "\n",
       "      rougher.input.floatbank10_xanthate  rougher.state.floatbank10_a_air  \\\n",
       "sum                                  0.0                              0.0   \n",
       "mean                                 0.0                              0.0   \n",
       "\n",
       "      rougher.state.floatbank10_a_level  rougher.state.floatbank10_b_air  \\\n",
       "sum                                 0.0                              0.0   \n",
       "mean                                0.0                              0.0   \n",
       "\n",
       "      rougher.state.floatbank10_b_level  rougher.state.floatbank10_c_air  \\\n",
       "sum                                 0.0                              0.0   \n",
       "mean                                0.0                              0.0   \n",
       "\n",
       "      rougher.state.floatbank10_c_level  rougher.state.floatbank10_d_air  \\\n",
       "sum                                 0.0                              0.0   \n",
       "mean                                0.0                              0.0   \n",
       "\n",
       "      rougher.state.floatbank10_d_level  rougher.state.floatbank10_e_air  \\\n",
       "sum                                 0.0                              0.0   \n",
       "mean                                0.0                              0.0   \n",
       "\n",
       "      rougher.state.floatbank10_e_level  rougher.state.floatbank10_f_air  \\\n",
       "sum                                 0.0                              0.0   \n",
       "mean                                0.0                              0.0   \n",
       "\n",
       "      rougher.state.floatbank10_f_level  rougher.input.floatbank11_sulfate  \\\n",
       "sum                                 0.0                                0.0   \n",
       "mean                                0.0                                0.0   \n",
       "\n",
       "      rougher.input.floatbank11_xanthate  primary_cleaner.input.sulfate  \\\n",
       "sum                                  0.0                            0.0   \n",
       "mean                                 0.0                            0.0   \n",
       "\n",
       "      primary_cleaner.input.depressant  primary_cleaner.input.feed_size  \\\n",
       "sum                                0.0                              0.0   \n",
       "mean                               0.0                              0.0   \n",
       "\n",
       "      primary_cleaner.input.xanthate  primary_cleaner.state.floatbank8_a_air  \\\n",
       "sum                              0.0                                     0.0   \n",
       "mean                             0.0                                     0.0   \n",
       "\n",
       "      primary_cleaner.state.floatbank8_a_level  \\\n",
       "sum                                        0.0   \n",
       "mean                                       0.0   \n",
       "\n",
       "      primary_cleaner.state.floatbank8_b_air  \\\n",
       "sum                                      0.0   \n",
       "mean                                     0.0   \n",
       "\n",
       "      primary_cleaner.state.floatbank8_b_level  \\\n",
       "sum                                        0.0   \n",
       "mean                                       0.0   \n",
       "\n",
       "      primary_cleaner.state.floatbank8_c_air  \\\n",
       "sum                                      0.0   \n",
       "mean                                     0.0   \n",
       "\n",
       "      primary_cleaner.state.floatbank8_c_level  \\\n",
       "sum                                        0.0   \n",
       "mean                                       0.0   \n",
       "\n",
       "      primary_cleaner.state.floatbank8_d_air  \\\n",
       "sum                                      0.0   \n",
       "mean                                     0.0   \n",
       "\n",
       "      primary_cleaner.state.floatbank8_d_level  \\\n",
       "sum                                        0.0   \n",
       "mean                                       0.0   \n",
       "\n",
       "      secondary_cleaner.state.floatbank2_a_air  \\\n",
       "sum                                        0.0   \n",
       "mean                                       0.0   \n",
       "\n",
       "      secondary_cleaner.state.floatbank2_a_level  \\\n",
       "sum                                          0.0   \n",
       "mean                                         0.0   \n",
       "\n",
       "      secondary_cleaner.state.floatbank2_b_air  \\\n",
       "sum                                        0.0   \n",
       "mean                                       0.0   \n",
       "\n",
       "      secondary_cleaner.state.floatbank2_b_level  \\\n",
       "sum                                          0.0   \n",
       "mean                                         0.0   \n",
       "\n",
       "      secondary_cleaner.state.floatbank3_a_air  \\\n",
       "sum                                        0.0   \n",
       "mean                                       0.0   \n",
       "\n",
       "      secondary_cleaner.state.floatbank3_a_level  \\\n",
       "sum                                          0.0   \n",
       "mean                                         0.0   \n",
       "\n",
       "      secondary_cleaner.state.floatbank3_b_air  \\\n",
       "sum                                        0.0   \n",
       "mean                                       0.0   \n",
       "\n",
       "      secondary_cleaner.state.floatbank3_b_level  \\\n",
       "sum                                          0.0   \n",
       "mean                                         0.0   \n",
       "\n",
       "      secondary_cleaner.state.floatbank4_a_air  \\\n",
       "sum                                        0.0   \n",
       "mean                                       0.0   \n",
       "\n",
       "      secondary_cleaner.state.floatbank4_a_level  \\\n",
       "sum                                          0.0   \n",
       "mean                                         0.0   \n",
       "\n",
       "      secondary_cleaner.state.floatbank4_b_air  \\\n",
       "sum                                        0.0   \n",
       "mean                                       0.0   \n",
       "\n",
       "      secondary_cleaner.state.floatbank4_b_level  \\\n",
       "sum                                          0.0   \n",
       "mean                                         0.0   \n",
       "\n",
       "      secondary_cleaner.state.floatbank5_a_air  \\\n",
       "sum                                        0.0   \n",
       "mean                                       0.0   \n",
       "\n",
       "      secondary_cleaner.state.floatbank5_a_level  \\\n",
       "sum                                          0.0   \n",
       "mean                                         0.0   \n",
       "\n",
       "      secondary_cleaner.state.floatbank5_b_air  \\\n",
       "sum                                        0.0   \n",
       "mean                                       0.0   \n",
       "\n",
       "      secondary_cleaner.state.floatbank5_b_level  \\\n",
       "sum                                          0.0   \n",
       "mean                                         0.0   \n",
       "\n",
       "      secondary_cleaner.state.floatbank6_a_air  \\\n",
       "sum                                        0.0   \n",
       "mean                                       0.0   \n",
       "\n",
       "      secondary_cleaner.state.floatbank6_a_level  \\\n",
       "sum                                          0.0   \n",
       "mean                                         0.0   \n",
       "\n",
       "      rougher.calculation.sulfate_to_au_concentrate  \\\n",
       "sum                                             0.0   \n",
       "mean                                            0.0   \n",
       "\n",
       "      rougher.calculation.floatbank10_sulfate_to_au_feed  \\\n",
       "sum                                                 0.0    \n",
       "mean                                                0.0    \n",
       "\n",
       "      rougher.calculation.floatbank11_sulfate_to_au_feed  \\\n",
       "sum                                                 0.0    \n",
       "mean                                                0.0    \n",
       "\n",
       "      rougher.calculation.au_pb_ratio  rougher.output.concentrate_au  \\\n",
       "sum                               0.0                            0.0   \n",
       "mean                              0.0                            0.0   \n",
       "\n",
       "      rougher.output.concentrate_ag  rougher.output.concentrate_pb  \\\n",
       "sum                             0.0                            0.0   \n",
       "mean                            0.0                            0.0   \n",
       "\n",
       "      rougher.output.concentrate_sol  rougher.output.recovery  \\\n",
       "sum                              0.0                      0.0   \n",
       "mean                             0.0                      0.0   \n",
       "\n",
       "      rougher.output.tail_au  rougher.output.tail_ag  rougher.output.tail_pb  \\\n",
       "sum                      0.0                     0.0                     0.0   \n",
       "mean                     0.0                     0.0                     0.0   \n",
       "\n",
       "      rougher.output.tail_sol  primary_cleaner.output.concentrate_au  \\\n",
       "sum                       0.0                                    0.0   \n",
       "mean                      0.0                                    0.0   \n",
       "\n",
       "      primary_cleaner.output.concentrate_ag  \\\n",
       "sum                                     0.0   \n",
       "mean                                    0.0   \n",
       "\n",
       "      primary_cleaner.output.concentrate_pb  \\\n",
       "sum                                     0.0   \n",
       "mean                                    0.0   \n",
       "\n",
       "      primary_cleaner.output.concentrate_sol  primary_cleaner.output.tail_au  \\\n",
       "sum                                      0.0                             0.0   \n",
       "mean                                     0.0                             0.0   \n",
       "\n",
       "      primary_cleaner.output.tail_ag  primary_cleaner.output.tail_pb  \\\n",
       "sum                              0.0                             0.0   \n",
       "mean                             0.0                             0.0   \n",
       "\n",
       "      primary_cleaner.output.tail_sol  secondary_cleaner.output.tail_au  \\\n",
       "sum                               0.0                               0.0   \n",
       "mean                              0.0                               0.0   \n",
       "\n",
       "      secondary_cleaner.output.tail_ag  secondary_cleaner.output.tail_pb  \\\n",
       "sum                                0.0                               0.0   \n",
       "mean                               0.0                               0.0   \n",
       "\n",
       "      secondary_cleaner.output.tail_sol  final.output.concentrate_au  \\\n",
       "sum                                 0.0                          0.0   \n",
       "mean                                0.0                          0.0   \n",
       "\n",
       "      final.output.concentrate_ag  final.output.concentrate_pb  \\\n",
       "sum                           0.0                          0.0   \n",
       "mean                          0.0                          0.0   \n",
       "\n",
       "      final.output.concentrate_sol  final.output.recovery  \\\n",
       "sum                            0.0                    0.0   \n",
       "mean                           0.0                    0.0   \n",
       "\n",
       "      final.output.tail_au  final.output.tail_ag  final.output.tail_pb  \\\n",
       "sum                    0.0                   0.0                   0.0   \n",
       "mean                   0.0                   0.0                   0.0   \n",
       "\n",
       "      final.output.tail_sol  \n",
       "sum                     0.0  \n",
       "mean                    0.0  "
      ]
     },
     "execution_count": 21,
     "metadata": {},
     "output_type": "execute_result"
    }
   ],
   "source": [
    "gold_industry_test.isna().agg(['sum', 'mean'])"
   ]
  },
  {
   "cell_type": "markdown",
   "metadata": {},
   "source": [
    "Вывод. Проведен первичный анализ данных. Проведена предобработка. Проверили наличие дубликатов. Отработали пропуски в данных."
   ]
  },
  {
   "cell_type": "markdown",
   "metadata": {},
   "source": [
    "## Анализ данных"
   ]
  },
  {
   "cell_type": "markdown",
   "metadata": {},
   "source": [
    "### Оценка концентрации металлов (Au, Ag, Pb) на различных этапах: в сырье, в черновом концентрате, в концентрате после первой очистки и в финальном концентрате. "
   ]
  },
  {
   "cell_type": "code",
   "execution_count": 22,
   "metadata": {},
   "outputs": [
    {
     "data": {
      "image/png": "[encoded data removed]",
      "text/plain": [
       "<Figure size 1080x360 with 1 Axes>"
      ]
     },
     "metadata": {
      "needs_background": "light"
     },
     "output_type": "display_data"
    }
   ],
   "source": [
    "plt.figure(figsize=(15,5))\n",
    "gold_industry_train['rougher.input.feed_au'].hist(bins=25, label='rougher.input.feed_au', alpha=0.5)\n",
    "gold_industry_train['rougher.output.concentrate_au'].hist(bins=25, label='rougher.output.concentrate_au', alpha=0.5)\n",
    "gold_industry_train['primary_cleaner.output.concentrate_au'].hist(bins=25, label='primary_cleaner.output.concentrate_au', alpha=0.5)\n",
    "gold_industry_train['final.output.concentrate_au'].hist(bins=25, label='final.output.concentrate_au', alpha=0.5)\n",
    "plt.title('Гистограмма концентрации золота')\n",
    "plt.xlabel('Значения')\n",
    "plt.ylabel('Количество')\n",
    "plt.legend(loc='upper left')\n",
    "plt.show()"
   ]
  },
  {
   "cell_type": "markdown",
   "metadata": {},
   "source": [
    "Золото имеет нормальное распределение концентрации на всех этапах. При этом закономерно увеличивается его концентрация от этапа к этапу. Значения в районе нуля - скорее всего выбросы."
   ]
  },
  {
   "cell_type": "code",
   "execution_count": 23,
   "metadata": {},
   "outputs": [
    {
     "data": {
      "image/png": "[encoded data removed]",
      "text/plain": [
       "<Figure size 1080x360 with 1 Axes>"
      ]
     },
     "metadata": {
      "needs_background": "light"
     },
     "output_type": "display_data"
    }
   ],
   "source": [
    "plt.figure(figsize=(15,5))\n",
    "gold_industry_train['rougher.input.feed_ag'].hist(bins=25, label='rougher.input.feed_ag', alpha=0.5)\n",
    "gold_industry_train['rougher.output.concentrate_ag'].hist(bins=25, label='rougher.output.concentrate_ag', alpha=0.5)\n",
    "gold_industry_train['primary_cleaner.output.concentrate_ag'].hist(bins=25, label='primary_cleaner.output.concentrate_ag', alpha=0.5)\n",
    "gold_industry_train['final.output.concentrate_ag'].hist(bins=25, label='final.output.concentrate_ag', alpha=0.5)\n",
    "plt.title('Гистограмма концентрации серебра')\n",
    "plt.xlabel('Значения')\n",
    "plt.ylabel('Количество')\n",
    "plt.legend(loc='upper left')\n",
    "plt.show()"
   ]
  },
  {
   "cell_type": "markdown",
   "metadata": {},
   "source": [
    "Концентрация серебра также распределена нормально. Однако от этапа к этапу концентрация серебра изменяется не так очевино как у золота. Концентрация серебра в сырье в районе 8%, После флотации концентрация увеличивается до 12%. После очисток концентрация серебра закономерно снижается до 5%."
   ]
  },
  {
   "cell_type": "code",
   "execution_count": 24,
   "metadata": {
    "scrolled": true
   },
   "outputs": [
    {
     "data": {
      "image/png": "[encoded data removed]",
      "text/plain": [
       "<Figure size 1080x360 with 1 Axes>"
      ]
     },
     "metadata": {
      "needs_background": "light"
     },
     "output_type": "display_data"
    }
   ],
   "source": [
    "plt.figure(figsize=(15,5))\n",
    "gold_industry_train['rougher.input.feed_pb'].hist(bins=25, label='rougher.input.feed_pb', alpha=0.5)\n",
    "gold_industry_train['rougher.output.concentrate_pb'].hist(bins=25, label='rougher.output.concentrate_pb', alpha=0.5)\n",
    "gold_industry_train['primary_cleaner.output.concentrate_pb'].hist(bins=25, label='primary_cleaner.output.concentrate_pb', alpha=0.5)\n",
    "gold_industry_train['final.output.concentrate_pb'].hist(bins=25, label='final.output.concentrate_pb', alpha=0.5)\n",
    "plt.title('Гистограмма концентрации свинца')\n",
    "plt.xlabel('Значения')\n",
    "plt.ylabel('Количество')\n",
    "plt.legend(loc='upper left')\n",
    "plt.show()"
   ]
  },
  {
   "cell_type": "markdown",
   "metadata": {},
   "source": [
    "Концентрация свинца распределяется нормально. В сырье концентрация свинца незначительна 3%. После флотации концентрация увеличивается до 8%, как и увеличивается после первой очистки до 10%. Итого в финальном продукте концентрация свинца в районе 10%."
   ]
  },
  {
   "cell_type": "markdown",
   "metadata": {},
   "source": [
    "### Сравнение распределения размеров гранул исходного сырья на обучающей и тестовой выборках. "
   ]
  },
  {
   "cell_type": "code",
   "execution_count": 25,
   "metadata": {},
   "outputs": [
    {
     "data": {
      "image/png": "[encoded data removed]",
      "text/plain": [
       "<Figure size 1080x360 with 1 Axes>"
      ]
     },
     "metadata": {
      "needs_background": "light"
     },
     "output_type": "display_data"
    }
   ],
   "source": [
    "plt.figure(figsize=(15,5))\n",
    "gold_industry_train['rougher.input.feed_size'].plot(kind='kde', label='train.feed_size', alpha=0.5)\n",
    "gold_industry_test['rougher.input.feed_size'].plot(kind='kde', label='train.feed_size', alpha=0.5)\n",
    "plt.xlim([0, 160])\n",
    "plt.title('График распределения размеров гранул сырья')\n",
    "plt.xlabel('Значения')\n",
    "plt.ylabel('Вероятность')\n",
    "plt.legend(loc='upper left')\n",
    "plt.show()"
   ]
  },
  {
   "cell_type": "markdown",
   "metadata": {},
   "source": [
    "Размеры гранул в тренировочной и тестовой выборках совпадают. Оценивать модель на тестовой выборке можно."
   ]
  },
  {
   "cell_type": "markdown",
   "metadata": {},
   "source": [
    "### Исследование суммарной концентрацию металлов на разных стадиях: в сырье, в черновом концентрате, в концентрате после первой очистки и в финальном концентрате."
   ]
  },
  {
   "cell_type": "code",
   "execution_count": 26,
   "metadata": {},
   "outputs": [],
   "source": [
    "gold_industry_train['rougher.input.feed_metals'] = gold_industry_train['rougher.input.feed_au'] +\\\n",
    "                                                    gold_industry_train['rougher.input.feed_ag'] +\\\n",
    "                                                    gold_industry_train['rougher.input.feed_pb']\n",
    "gold_industry_train['rougher.output.concentrate_metals'] = gold_industry_train['rougher.output.concentrate_au'] +\\\n",
    "                                                            gold_industry_train['rougher.output.concentrate_ag'] +\\\n",
    "                                                            gold_industry_train['rougher.output.concentrate_pb']\n",
    "gold_industry_train['primary_cleaner.output.concentrate_metals'] = gold_industry_train['primary_cleaner.output.concentrate_au'] +\\\n",
    "                                                                gold_industry_train['primary_cleaner.output.concentrate_ag'] +\\\n",
    "                                                                gold_industry_train['primary_cleaner.output.concentrate_pb']\n",
    "gold_industry_train['final.output.concentrate_metals'] = gold_industry_train['final.output.concentrate_au'] +\\\n",
    "                                                        gold_industry_train['final.output.concentrate_ag'] +\\\n",
    "                                                        gold_industry_train['final.output.concentrate_pb']"
   ]
  },
  {
   "cell_type": "code",
   "execution_count": 27,
   "metadata": {},
   "outputs": [
    {
     "data": {
      "image/png": "[encoded data removed]",
      "text/plain": [
       "<Figure size 1080x360 with 1 Axes>"
      ]
     },
     "metadata": {
      "needs_background": "light"
     },
     "output_type": "display_data"
    }
   ],
   "source": [
    "plt.figure(figsize=(15,5))\n",
    "gold_industry_train['rougher.input.feed_metals'].hist(bins=25, label='rougher.input.feed_metals', alpha=0.5)\n",
    "gold_industry_train['rougher.output.concentrate_metals'].hist(bins=25, label='rougher.output.concentrate_metals', alpha=0.5)\n",
    "gold_industry_train['primary_cleaner.output.concentrate_metals'].hist(bins=25, label='primary_cleaner.output.concentrate_metals', alpha=0.5)\n",
    "gold_industry_train['final.output.concentrate_metals'].hist(bins=25, label='final.output.concentrate_metals', alpha=0.5)\n",
    "plt.title('Гистограмма концентрации металлов')\n",
    "plt.xlabel('Значения')\n",
    "plt.ylabel('Количество')\n",
    "plt.legend(loc='upper left')\n",
    "plt.show()"
   ]
  },
  {
   "cell_type": "markdown",
   "metadata": {},
   "source": [
    "Исходя из гистограмм концентрация металлов от этапа к этапу увеличивается. Однако присутсвуют выбросы. Значения близкие к нулю необходимо очистить."
   ]
  },
  {
   "cell_type": "code",
   "execution_count": 28,
   "metadata": {},
   "outputs": [
    {
     "data": {
      "image/png": "[encoded data removed]",
      "text/plain": [
       "<Figure size 1440x360 with 1 Axes>"
      ]
     },
     "metadata": {
      "needs_background": "light"
     },
     "output_type": "display_data"
    }
   ],
   "source": [
    "gold_industry_train[['rougher.input.feed_metals', 'rougher.output.concentrate_metals', 'primary_cleaner.output.concentrate_metals', 'final.output.concentrate_metals']].boxplot(figsize=(20,5))\n",
    "plt.title('Диаграмма рассеяния концентрации металлов на каждом из этапов')\n",
    "plt.ylabel('Значения')\n",
    "plt.show()"
   ]
  },
  {
   "cell_type": "code",
   "execution_count": 29,
   "metadata": {},
   "outputs": [
    {
     "data": {
      "text/plain": [
       "count    14579.000000\n",
       "mean        20.822495\n",
       "std          4.473493\n",
       "min          0.030000\n",
       "25%         17.437178\n",
       "50%         20.391557\n",
       "75%         23.958572\n",
       "max         33.324268\n",
       "Name: rougher.input.feed_metals, dtype: float64"
      ]
     },
     "execution_count": 29,
     "metadata": {},
     "output_type": "execute_result"
    }
   ],
   "source": [
    "gold_industry_train['rougher.input.feed_metals'].describe()"
   ]
  },
  {
   "cell_type": "code",
   "execution_count": 30,
   "metadata": {},
   "outputs": [
    {
     "data": {
      "text/plain": [
       "7.655087263853543"
      ]
     },
     "execution_count": 30,
     "metadata": {},
     "output_type": "execute_result"
    }
   ],
   "source": [
    "q1 = np.quantile(gold_industry_train['rougher.input.feed_metals'], 0.25)\n",
    "q3 = np.quantile(gold_industry_train['rougher.input.feed_metals'], 0.75)\n",
    "lower_whisker = q1-1.5*(q3-q1)\n",
    "lower_whisker"
   ]
  },
  {
   "cell_type": "code",
   "execution_count": 31,
   "metadata": {},
   "outputs": [
    {
     "data": {
      "text/plain": [
       "count    14579.000000\n",
       "mean        39.160677\n",
       "std          7.612800\n",
       "min          0.000000\n",
       "25%         38.408945\n",
       "50%         40.387044\n",
       "75%         42.448805\n",
       "max         55.568687\n",
       "Name: rougher.output.concentrate_metals, dtype: float64"
      ]
     },
     "execution_count": 31,
     "metadata": {},
     "output_type": "execute_result"
    }
   ],
   "source": [
    "gold_industry_train['rougher.output.concentrate_metals'].describe()"
   ]
  },
  {
   "cell_type": "code",
   "execution_count": null,
   "metadata": {},
   "outputs": [],
   "source": [
    "q1 = np.quantile(gold_industry_train['rougher.output.concentrate_metals'], 0.25)\n",
    "q3 = np.quantile(gold_industry_train['rougher.output.concentrate_metals'], 0.75)\n",
    "lower_whisker = q1-1.5*(q3-q1)\n",
    "lower_whisker"
   ]
  },
  {
   "cell_type": "code",
   "execution_count": null,
   "metadata": {},
   "outputs": [],
   "source": [
    "gold_industry_train['primary_cleaner.output.concentrate_metals'].describe()"
   ]
  },
  {
   "cell_type": "code",
   "execution_count": 32,
   "metadata": {},
   "outputs": [
    {
     "data": {
      "text/plain": [
       "45.062442351385"
      ]
     },
     "execution_count": 32,
     "metadata": {},
     "output_type": "execute_result"
    }
   ],
   "source": [
    "q1 = np.quantile(gold_industry_train['primary_cleaner.output.concentrate_metals'], 0.25)\n",
    "q3 = np.quantile(gold_industry_train['primary_cleaner.output.concentrate_metals'], 0.75)\n",
    "lower_whisker = q1-1.5*(q3-q1)\n",
    "lower_whisker"
   ]
  },
  {
   "cell_type": "code",
   "execution_count": 33,
   "metadata": {},
   "outputs": [
    {
     "data": {
      "text/plain": [
       "count    14579.000000\n",
       "mean        59.095246\n",
       "std          6.610075\n",
       "min          0.000000\n",
       "25%         59.274984\n",
       "50%         60.283034\n",
       "75%         61.068067\n",
       "max         64.968881\n",
       "Name: final.output.concentrate_metals, dtype: float64"
      ]
     },
     "execution_count": 33,
     "metadata": {},
     "output_type": "execute_result"
    }
   ],
   "source": [
    "gold_industry_train['final.output.concentrate_metals'].describe()"
   ]
  },
  {
   "cell_type": "code",
   "execution_count": 34,
   "metadata": {},
   "outputs": [
    {
     "data": {
      "text/plain": [
       "56.58535964632658"
      ]
     },
     "execution_count": 34,
     "metadata": {},
     "output_type": "execute_result"
    }
   ],
   "source": [
    "q1 = np.quantile(gold_industry_train['final.output.concentrate_metals'], 0.25)\n",
    "q3 = np.quantile(gold_industry_train['final.output.concentrate_metals'], 0.75)\n",
    "lower_whisker = q1-1.5*(q3-q1)\n",
    "lower_whisker"
   ]
  },
  {
   "cell_type": "code",
   "execution_count": 35,
   "metadata": {},
   "outputs": [],
   "source": [
    "a=gold_industry_train['rougher.input.feed_metals']\n",
    "b=gold_industry_train['rougher.output.concentrate_metals']\n",
    "c=gold_industry_train['primary_cleaner.output.concentrate_metals']\n",
    "d=gold_industry_train['final.output.concentrate_metals']\n",
    "gold_industry_train = gold_industry_train.query('@a>7.65 and @b>32.35 and @c>42.062 and @d > 56.585')"
   ]
  },
  {
   "cell_type": "code",
   "execution_count": 36,
   "metadata": {},
   "outputs": [
    {
     "data": {
      "image/png": "[encoded data removed]",
      "text/plain": [
       "<Figure size 1440x360 with 1 Axes>"
      ]
     },
     "metadata": {
      "needs_background": "light"
     },
     "output_type": "display_data"
    }
   ],
   "source": [
    "gold_industry_train[['rougher.input.feed_metals', 'rougher.output.concentrate_metals', 'primary_cleaner.output.concentrate_metals', 'final.output.concentrate_metals']].boxplot(figsize=(20,5))\n",
    "plt.title('Диаграмма рассеяния концентрации металлов на каждом из этапов')\n",
    "plt.ylabel('Значения')\n",
    "plt.show()"
   ]
  },
  {
   "cell_type": "markdown",
   "metadata": {},
   "source": [
    "Проведено иследование концентрации металлов на каждом из этапов очистки. Выявлены выбросы, выбросы удалены."
   ]
  },
  {
   "cell_type": "markdown",
   "metadata": {},
   "source": [
    "## Модель"
   ]
  },
  {
   "cell_type": "markdown",
   "metadata": {},
   "source": [
    "### Напишите функцию для вычисления итоговой sMAPE."
   ]
  },
  {
   "cell_type": "code",
   "execution_count": 37,
   "metadata": {},
   "outputs": [],
   "source": [
    "def smape_func(target, preds):\n",
    "    smape = (abs(target-preds) / ((abs(target)+abs(preds))/2))*100\n",
    "    smape = np.mean(smape)\n",
    "    return smape"
   ]
  },
  {
   "cell_type": "code",
   "execution_count": 38,
   "metadata": {},
   "outputs": [],
   "source": [
    "def total_smape_func(smape_rougher, smape_final):\n",
    "    total_smape = 0.25 * smape_rougher + 0.75 * smape_final\n",
    "    return total_smape"
   ]
  },
  {
   "cell_type": "markdown",
   "metadata": {},
   "source": [
    "Проведена подготовка функций для расчета показателя sMape"
   ]
  },
  {
   "cell_type": "markdown",
   "metadata": {},
   "source": [
    "### Выбор лучшей модели для расчета концентрации золота."
   ]
  },
  {
   "cell_type": "markdown",
   "metadata": {},
   "source": [
    "#### Создание пайплайна для первой модели"
   ]
  },
  {
   "cell_type": "code",
   "execution_count": 39,
   "metadata": {},
   "outputs": [
    {
     "name": "stdout",
     "output_type": "stream",
     "text": [
      "<class 'pandas.core.frame.DataFrame'>\n",
      "Int64Index: 4860 entries, 0 to 4859\n",
      "Data columns (total 87 columns):\n",
      " #   Column                                              Non-Null Count  Dtype  \n",
      "---  ------                                              --------------  -----  \n",
      " 0   date                                                4860 non-null   object \n",
      " 1   rougher.input.feed_au                               4860 non-null   float64\n",
      " 2   rougher.input.feed_ag                               4860 non-null   float64\n",
      " 3   rougher.input.feed_pb                               4860 non-null   float64\n",
      " 4   rougher.input.feed_sol                              4860 non-null   float64\n",
      " 5   rougher.input.feed_rate                             4860 non-null   float64\n",
      " 6   rougher.input.feed_size                             4860 non-null   float64\n",
      " 7   rougher.input.floatbank10_sulfate                   4860 non-null   float64\n",
      " 8   rougher.input.floatbank10_xanthate                  4860 non-null   float64\n",
      " 9   rougher.state.floatbank10_a_air                     4860 non-null   float64\n",
      " 10  rougher.state.floatbank10_a_level                   4860 non-null   float64\n",
      " 11  rougher.state.floatbank10_b_air                     4860 non-null   float64\n",
      " 12  rougher.state.floatbank10_b_level                   4860 non-null   float64\n",
      " 13  rougher.state.floatbank10_c_air                     4860 non-null   float64\n",
      " 14  rougher.state.floatbank10_c_level                   4860 non-null   float64\n",
      " 15  rougher.state.floatbank10_d_air                     4860 non-null   float64\n",
      " 16  rougher.state.floatbank10_d_level                   4860 non-null   float64\n",
      " 17  rougher.state.floatbank10_e_air                     4860 non-null   float64\n",
      " 18  rougher.state.floatbank10_e_level                   4860 non-null   float64\n",
      " 19  rougher.state.floatbank10_f_air                     4860 non-null   float64\n",
      " 20  rougher.state.floatbank10_f_level                   4860 non-null   float64\n",
      " 21  rougher.input.floatbank11_sulfate                   4860 non-null   float64\n",
      " 22  rougher.input.floatbank11_xanthate                  4860 non-null   float64\n",
      " 23  primary_cleaner.input.sulfate                       4860 non-null   float64\n",
      " 24  primary_cleaner.input.depressant                    4860 non-null   float64\n",
      " 25  primary_cleaner.input.feed_size                     4860 non-null   float64\n",
      " 26  primary_cleaner.input.xanthate                      4860 non-null   float64\n",
      " 27  primary_cleaner.state.floatbank8_a_air              4860 non-null   float64\n",
      " 28  primary_cleaner.state.floatbank8_a_level            4860 non-null   float64\n",
      " 29  primary_cleaner.state.floatbank8_b_air              4860 non-null   float64\n",
      " 30  primary_cleaner.state.floatbank8_b_level            4860 non-null   float64\n",
      " 31  primary_cleaner.state.floatbank8_c_air              4860 non-null   float64\n",
      " 32  primary_cleaner.state.floatbank8_c_level            4860 non-null   float64\n",
      " 33  primary_cleaner.state.floatbank8_d_air              4860 non-null   float64\n",
      " 34  primary_cleaner.state.floatbank8_d_level            4860 non-null   float64\n",
      " 35  secondary_cleaner.state.floatbank2_a_air            4860 non-null   float64\n",
      " 36  secondary_cleaner.state.floatbank2_a_level          4860 non-null   float64\n",
      " 37  secondary_cleaner.state.floatbank2_b_air            4860 non-null   float64\n",
      " 38  secondary_cleaner.state.floatbank2_b_level          4860 non-null   float64\n",
      " 39  secondary_cleaner.state.floatbank3_a_air            4860 non-null   float64\n",
      " 40  secondary_cleaner.state.floatbank3_a_level          4860 non-null   float64\n",
      " 41  secondary_cleaner.state.floatbank3_b_air            4860 non-null   float64\n",
      " 42  secondary_cleaner.state.floatbank3_b_level          4860 non-null   float64\n",
      " 43  secondary_cleaner.state.floatbank4_a_air            4860 non-null   float64\n",
      " 44  secondary_cleaner.state.floatbank4_a_level          4860 non-null   float64\n",
      " 45  secondary_cleaner.state.floatbank4_b_air            4860 non-null   float64\n",
      " 46  secondary_cleaner.state.floatbank4_b_level          4860 non-null   float64\n",
      " 47  secondary_cleaner.state.floatbank5_a_air            4860 non-null   float64\n",
      " 48  secondary_cleaner.state.floatbank5_a_level          4860 non-null   float64\n",
      " 49  secondary_cleaner.state.floatbank5_b_air            4860 non-null   float64\n",
      " 50  secondary_cleaner.state.floatbank5_b_level          4860 non-null   float64\n",
      " 51  secondary_cleaner.state.floatbank6_a_air            4860 non-null   float64\n",
      " 52  secondary_cleaner.state.floatbank6_a_level          4860 non-null   float64\n",
      " 53  rougher.calculation.sulfate_to_au_concentrate       4860 non-null   float64\n",
      " 54  rougher.calculation.floatbank10_sulfate_to_au_feed  4860 non-null   float64\n",
      " 55  rougher.calculation.floatbank11_sulfate_to_au_feed  4860 non-null   float64\n",
      " 56  rougher.calculation.au_pb_ratio                     4860 non-null   float64\n",
      " 57  rougher.output.concentrate_au                       4860 non-null   float64\n",
      " 58  rougher.output.concentrate_ag                       4860 non-null   float64\n",
      " 59  rougher.output.concentrate_pb                       4860 non-null   float64\n",
      " 60  rougher.output.concentrate_sol                      4860 non-null   float64\n",
      " 61  rougher.output.recovery                             4860 non-null   float64\n",
      " 62  rougher.output.tail_au                              4860 non-null   float64\n",
      " 63  rougher.output.tail_ag                              4860 non-null   float64\n",
      " 64  rougher.output.tail_pb                              4860 non-null   float64\n",
      " 65  rougher.output.tail_sol                             4860 non-null   float64\n",
      " 66  primary_cleaner.output.concentrate_au               4860 non-null   float64\n",
      " 67  primary_cleaner.output.concentrate_ag               4860 non-null   float64\n",
      " 68  primary_cleaner.output.concentrate_pb               4860 non-null   float64\n",
      " 69  primary_cleaner.output.concentrate_sol              4860 non-null   float64\n",
      " 70  primary_cleaner.output.tail_au                      4860 non-null   float64\n",
      " 71  primary_cleaner.output.tail_ag                      4860 non-null   float64\n",
      " 72  primary_cleaner.output.tail_pb                      4860 non-null   float64\n",
      " 73  primary_cleaner.output.tail_sol                     4860 non-null   float64\n",
      " 74  secondary_cleaner.output.tail_au                    4860 non-null   float64\n",
      " 75  secondary_cleaner.output.tail_ag                    4860 non-null   float64\n",
      " 76  secondary_cleaner.output.tail_pb                    4860 non-null   float64\n",
      " 77  secondary_cleaner.output.tail_sol                   4860 non-null   float64\n",
      " 78  final.output.concentrate_au                         4860 non-null   float64\n",
      " 79  final.output.concentrate_ag                         4860 non-null   float64\n",
      " 80  final.output.concentrate_pb                         4860 non-null   float64\n",
      " 81  final.output.concentrate_sol                        4860 non-null   float64\n",
      " 82  final.output.recovery                               4860 non-null   float64\n",
      " 83  final.output.tail_au                                4860 non-null   float64\n",
      " 84  final.output.tail_ag                                4860 non-null   float64\n",
      " 85  final.output.tail_pb                                4860 non-null   float64\n",
      " 86  final.output.tail_sol                               4860 non-null   float64\n",
      "dtypes: float64(86), object(1)\n",
      "memory usage: 3.3+ MB\n"
     ]
    }
   ],
   "source": [
    "gold_industry_test.info()"
   ]
  },
  {
   "cell_type": "code",
   "execution_count": 40,
   "metadata": {},
   "outputs": [
    {
     "name": "stdout",
     "output_type": "stream",
     "text": [
      "(12585, 21)\n",
      "(4860, 21)\n",
      "(12585,)\n",
      "(4860,)\n"
     ]
    }
   ],
   "source": [
    "#Определяем признаки и цели для модели определения smape_rougher\n",
    "features_train_columns = list(gold_industry_train.columns)[1: 22]\n",
    "features_test_columns = list(gold_industry_test.columns)[1: 22]\n",
    "features_train_rougher = gold_industry_train[features_train_columns]\n",
    "target_train_rougher = gold_industry_train['rougher.output.recovery']\n",
    "features_test_rougher = gold_industry_test[features_test_columns]\n",
    "target_test_rougher = gold_industry_test['rougher.output.recovery']\n",
    "\n",
    "print(features_train_rougher.shape)\n",
    "print(features_test_rougher.shape)\n",
    "\n",
    "print(target_train_rougher.shape)\n",
    "print(target_test_rougher.shape)"
   ]
  },
  {
   "cell_type": "code",
   "execution_count": 41,
   "metadata": {},
   "outputs": [
    {
     "data": {
      "text/plain": [
       "Pipeline(steps=[('scaler', StandardScaler()), ('poly', PolynomialFeatures()),\n",
       "                ('model', LinearRegression())])"
      ]
     },
     "execution_count": 41,
     "metadata": {},
     "output_type": "execute_result"
    }
   ],
   "source": [
    "pipeline = Pipeline([('scaler', StandardScaler()),\n",
    "                     ('poly', PolynomialFeatures()),\n",
    "                     ('model', LinearRegression())])\n",
    "pipeline"
   ]
  },
  {
   "cell_type": "code",
   "execution_count": 42,
   "metadata": {},
   "outputs": [],
   "source": [
    "# Создаем пространство признаков для перебора RandomizedSearchCV из соответствующего расспределения\n",
    "estimators_range = [x for x in range(2, 20, 3)]\n",
    "max_depth_range = [x for x in range(20, 200, 50)]"
   ]
  },
  {
   "cell_type": "code",
   "execution_count": 43,
   "metadata": {},
   "outputs": [],
   "source": [
    "params = [{\n",
    "    'model': [LinearRegression()],\n",
    "    'scaler': [MinMaxScaler(), StandardScaler()],  \n",
    "    },\n",
    "        \n",
    "    \n",
    "    {\n",
    "        'model': [RandomForestRegressor(random_state=12345)],\n",
    "        'model__n_estimators': estimators_range,\n",
    "        'model__max_depth': max_depth_range,\n",
    "        'scaler': [None, StandardScaler()],\n",
    "    },\n",
    "\n",
    "    {\n",
    "        'model': [DecisionTreeRegressor(random_state=12345)],\n",
    "        'model__max_depth': max_depth_range,\n",
    "        'scaler': [None, StandardScaler()]\n",
    "    }\n",
    "\n",
    "]\n",
    "\n",
    "smape_rougher = make_scorer(smape_func, greater_is_better = False)\n",
    "grid_rougher = RandomizedSearchCV(pipeline,\n",
    "                    params,\n",
    "                    cv=5,\n",
    "                    verbose=1,\n",
    "                    random_state=12345,\n",
    "                    scoring=smape_rougher,\n",
    "                    n_jobs=-1)"
   ]
  },
  {
   "cell_type": "code",
   "execution_count": 44,
   "metadata": {},
   "outputs": [
    {
     "name": "stdout",
     "output_type": "stream",
     "text": [
      "Fitting 5 folds for each of 10 candidates, totalling 50 fits\n",
      "CPU times: user 16min 58s, sys: 745 ms, total: 16min 59s\n",
      "Wall time: 17min 2s\n"
     ]
    },
    {
     "data": {
      "text/plain": [
       "RandomizedSearchCV(cv=5,\n",
       "                   estimator=Pipeline(steps=[('scaler', StandardScaler()),\n",
       "                                             ('poly', PolynomialFeatures()),\n",
       "                                             ('model', LinearRegression())]),\n",
       "                   n_jobs=-1,\n",
       "                   param_distributions=[{'model': [LinearRegression()],\n",
       "                                         'scaler': [MinMaxScaler(),\n",
       "                                                    StandardScaler()]},\n",
       "                                        {'model': [RandomForestRegressor(max_depth=170,\n",
       "                                                                         n_estimators=17,\n",
       "                                                                         random_state=12345)],\n",
       "                                         'model__max_depth': [20, 70, 120, 170],\n",
       "                                         'model__n_estimators': [2, 5, 8, 11,\n",
       "                                                                 14, 17],\n",
       "                                         'scaler': [None, StandardScaler()]},\n",
       "                                        {'model': [DecisionTreeRegressor(random_state=12345)],\n",
       "                                         'model__max_depth': [20, 70, 120, 170],\n",
       "                                         'scaler': [None, StandardScaler()]}],\n",
       "                   random_state=12345,\n",
       "                   scoring=make_scorer(smape_func, greater_is_better=False),\n",
       "                   verbose=1)"
      ]
     },
     "execution_count": 44,
     "metadata": {},
     "output_type": "execute_result"
    }
   ],
   "source": [
    "%%time\n",
    "grid_rougher.fit(features_train_rougher, target_train_rougher)"
   ]
  },
  {
   "cell_type": "code",
   "execution_count": 45,
   "metadata": {},
   "outputs": [
    {
     "data": {
      "text/plain": [
       "{'scaler': None,\n",
       " 'model__n_estimators': 17,\n",
       " 'model__max_depth': 170,\n",
       " 'model': RandomForestRegressor(max_depth=170, n_estimators=17, random_state=12345)}"
      ]
     },
     "execution_count": 45,
     "metadata": {},
     "output_type": "execute_result"
    }
   ],
   "source": [
    "grid_rougher.best_params_"
   ]
  },
  {
   "cell_type": "code",
   "execution_count": 46,
   "metadata": {},
   "outputs": [
    {
     "data": {
      "text/plain": [
       "Pipeline(steps=[('scaler', None), ('poly', PolynomialFeatures()),\n",
       "                ('model',\n",
       "                 RandomForestRegressor(max_depth=170, n_estimators=17,\n",
       "                                       random_state=12345))])"
      ]
     },
     "execution_count": 46,
     "metadata": {},
     "output_type": "execute_result"
    }
   ],
   "source": [
    "grid_rougher.best_estimator_"
   ]
  },
  {
   "cell_type": "code",
   "execution_count": 47,
   "metadata": {},
   "outputs": [
    {
     "data": {
      "text/plain": [
       "6.384822863072614"
      ]
     },
     "execution_count": 47,
     "metadata": {},
     "output_type": "execute_result"
    }
   ],
   "source": [
    "smape_rougher = abs(grid_rougher.best_score_)\n",
    "smape_rougher"
   ]
  },
  {
   "cell_type": "markdown",
   "metadata": {},
   "source": [
    "#### Создание пайплайна для второй модели"
   ]
  },
  {
   "cell_type": "code",
   "execution_count": 48,
   "metadata": {},
   "outputs": [
    {
     "name": "stdout",
     "output_type": "stream",
     "text": [
      "(12585, 51)\n",
      "(4860, 51)\n",
      "(12585,)\n",
      "(4860,)\n"
     ]
    }
   ],
   "source": [
    "#Определяем признаки и цели для модели определения smape_final\n",
    "features_train_columns = list(gold_industry_test.columns)[1:52]\n",
    "features_test_columns = list(gold_industry_test.columns)[1:52]\n",
    "features_train_final = gold_industry_train[features_train_columns]\n",
    "target_train_final = gold_industry_train['final.output.recovery']\n",
    "features_test_final = gold_industry_test[features_test_columns]\n",
    "target_test_final = gold_industry_test['final.output.recovery']\n",
    "\n",
    "print(features_train_final.shape)\n",
    "print(features_test_final.shape)\n",
    "\n",
    "print(target_train_final.shape)\n",
    "print(target_test_final.shape)"
   ]
  },
  {
   "cell_type": "code",
   "execution_count": 49,
   "metadata": {},
   "outputs": [
    {
     "data": {
      "text/plain": [
       "Pipeline(steps=[('scaler', StandardScaler()), ('poly', PolynomialFeatures()),\n",
       "                ('model', LinearRegression())])"
      ]
     },
     "execution_count": 49,
     "metadata": {},
     "output_type": "execute_result"
    }
   ],
   "source": [
    "pipeline = Pipeline([('scaler', StandardScaler()),\n",
    "                     ('poly', PolynomialFeatures()),\n",
    "                     ('model', LinearRegression())])\n",
    "pipeline"
   ]
  },
  {
   "cell_type": "code",
   "execution_count": 50,
   "metadata": {},
   "outputs": [],
   "source": [
    "estimators_range = [x for x in range(2, 20, 3)]\n",
    "max_depth_range = [x for x in range(20, 200, 50)]"
   ]
  },
  {
   "cell_type": "code",
   "execution_count": 51,
   "metadata": {},
   "outputs": [],
   "source": [
    "params = [{\n",
    "    'model': [LinearRegression()],\n",
    "    'scaler': [MinMaxScaler(), StandardScaler()],  \n",
    "    },\n",
    "        \n",
    "    \n",
    "    {\n",
    "        'model': [RandomForestRegressor(random_state=12345)],\n",
    "        'model__n_estimators': estimators_range,\n",
    "        'model__max_depth': max_depth_range,\n",
    "        'scaler': [None, StandardScaler()],\n",
    "    },\n",
    "\n",
    "    {\n",
    "        'model': [DecisionTreeRegressor(random_state=12345)],\n",
    "        'model__max_depth': max_depth_range,\n",
    "        'scaler': [None, StandardScaler()]\n",
    "    }\n",
    "\n",
    "]\n",
    "\n",
    "smape_final = make_scorer(smape_func, greater_is_better = False)\n",
    "grid_final = RandomizedSearchCV(pipeline,\n",
    "                    params,\n",
    "                    cv=5,\n",
    "                    verbose=1,\n",
    "                    random_state=12345,\n",
    "                    scoring=smape_final,\n",
    "                    n_jobs=-1)"
   ]
  },
  {
   "cell_type": "code",
   "execution_count": 52,
   "metadata": {
    "scrolled": true
   },
   "outputs": [
    {
     "name": "stdout",
     "output_type": "stream",
     "text": [
      "Fitting 5 folds for each of 10 candidates, totalling 50 fits\n",
      "CPU times: user 1h 50min 31s, sys: 9.46 s, total: 1h 50min 40s\n",
      "Wall time: 1h 50min 46s\n"
     ]
    },
    {
     "data": {
      "text/plain": [
       "RandomizedSearchCV(cv=5,\n",
       "                   estimator=Pipeline(steps=[('scaler', StandardScaler()),\n",
       "                                             ('poly', PolynomialFeatures()),\n",
       "                                             ('model', LinearRegression())]),\n",
       "                   n_jobs=-1,\n",
       "                   param_distributions=[{'model': [LinearRegression()],\n",
       "                                         'scaler': [MinMaxScaler(),\n",
       "                                                    StandardScaler()]},\n",
       "                                        {'model': [RandomForestRegressor(max_depth=120,\n",
       "                                                                         n_estimators=14,\n",
       "                                                                         random_state=12345)],\n",
       "                                         'model__max_depth': [20, 70, 120, 170],\n",
       "                                         'model__n_estimators': [2, 5, 8, 11,\n",
       "                                                                 14, 17],\n",
       "                                         'scaler': [None, StandardScaler()]},\n",
       "                                        {'model': [DecisionTreeRegressor(random_state=12345)],\n",
       "                                         'model__max_depth': [20, 70, 120, 170],\n",
       "                                         'scaler': [None, StandardScaler()]}],\n",
       "                   random_state=12345,\n",
       "                   scoring=make_scorer(smape_func, greater_is_better=False),\n",
       "                   verbose=1)"
      ]
     },
     "execution_count": 52,
     "metadata": {},
     "output_type": "execute_result"
    }
   ],
   "source": [
    "%%time\n",
    "grid_final.fit(features_train_final, target_train_final)"
   ]
  },
  {
   "cell_type": "code",
   "execution_count": 53,
   "metadata": {},
   "outputs": [
    {
     "data": {
      "text/plain": [
       "{'scaler': StandardScaler(),\n",
       " 'model__n_estimators': 14,\n",
       " 'model__max_depth': 120,\n",
       " 'model': RandomForestRegressor(max_depth=120, n_estimators=14, random_state=12345)}"
      ]
     },
     "execution_count": 53,
     "metadata": {},
     "output_type": "execute_result"
    }
   ],
   "source": [
    "grid_final.best_params_"
   ]
  },
  {
   "cell_type": "code",
   "execution_count": 54,
   "metadata": {},
   "outputs": [
    {
     "data": {
      "text/plain": [
       "Pipeline(steps=[('scaler', StandardScaler()), ('poly', PolynomialFeatures()),\n",
       "                ('model',\n",
       "                 RandomForestRegressor(max_depth=120, n_estimators=14,\n",
       "                                       random_state=12345))])"
      ]
     },
     "execution_count": 54,
     "metadata": {},
     "output_type": "execute_result"
    }
   ],
   "source": [
    "grid_final.best_estimator_"
   ]
  },
  {
   "cell_type": "code",
   "execution_count": 55,
   "metadata": {},
   "outputs": [
    {
     "data": {
      "text/plain": [
       "9.722020276230001"
      ]
     },
     "execution_count": 55,
     "metadata": {},
     "output_type": "execute_result"
    }
   ],
   "source": [
    "smape_final = abs(grid_final.best_score_)\n",
    "smape_final"
   ]
  },
  {
   "cell_type": "markdown",
   "metadata": {},
   "source": [
    "### Расчет итоговой sMape"
   ]
  },
  {
   "cell_type": "code",
   "execution_count": 56,
   "metadata": {},
   "outputs": [
    {
     "data": {
      "text/plain": [
       "8.887720922940655"
      ]
     },
     "execution_count": 56,
     "metadata": {},
     "output_type": "execute_result"
    }
   ],
   "source": [
    "total_smape = total_smape_func(smape_rougher, smape_final)\n",
    "total_smape"
   ]
  },
  {
   "cell_type": "markdown",
   "metadata": {},
   "source": [
    "### Расчет sMape на тестовой выборке"
   ]
  },
  {
   "cell_type": "code",
   "execution_count": 57,
   "metadata": {},
   "outputs": [],
   "source": [
    "def test_smape_rougher(features_train, target_train, features_test, target_test, depth, estimators):\n",
    "    pipeline_rougher = Pipeline([('poly', PolynomialFeatures()),\n",
    "                                 ('model', RandomForestRegressor(random_state = 12345, max_depth = depth, n_estimators = estimators))])\n",
    "    \n",
    "    pipeline_rougher.fit(features_train, target_train)\n",
    "    pred_pipeline_rougher = pipeline_rougher.predict(features_test)\n",
    "    test_smape = smape_func(target_test, pred_pipeline_rougher)\n",
    "    return test_smape"
   ]
  },
  {
   "cell_type": "code",
   "execution_count": 58,
   "metadata": {},
   "outputs": [],
   "source": [
    "def test_smape_final(features_train, target_train, features_test, target_test, depth, estimators):\n",
    "    pipeline_final = Pipeline([('scaler', StandardScaler()),\n",
    "                               ('poly', PolynomialFeatures()),\n",
    "                                ('model', RandomForestRegressor(random_state = 12345, max_depth = depth, n_estimators = estimators))])\n",
    "    pipeline_final.fit(features_train, target_train)\n",
    "    pred_pipeline_final = pipeline_final.predict(features_test)\n",
    "    test_smape = smape_func(target_test, pred_pipeline_final)\n",
    "    return test_smape"
   ]
  },
  {
   "cell_type": "code",
   "execution_count": 59,
   "metadata": {},
   "outputs": [
    {
     "data": {
      "text/plain": [
       "2.846310124615703"
      ]
     },
     "execution_count": 59,
     "metadata": {},
     "output_type": "execute_result"
    }
   ],
   "source": [
    "test_smape_rougher_value = test_smape_rougher(features_train_rougher, target_train_rougher, features_test_rougher, target_test_rougher, 170, 17)\n",
    "test_smape_rougher_value"
   ]
  },
  {
   "cell_type": "code",
   "execution_count": 60,
   "metadata": {},
   "outputs": [
    {
     "name": "stdout",
     "output_type": "stream",
     "text": [
      "CPU times: user 3min 47s, sys: 332 ms, total: 3min 47s\n",
      "Wall time: 3min 47s\n"
     ]
    },
    {
     "data": {
      "text/plain": [
       "6.268555886261104"
      ]
     },
     "execution_count": 60,
     "metadata": {},
     "output_type": "execute_result"
    }
   ],
   "source": [
    "%%time\n",
    "test_smape_final_value = test_smape_final(features_train_final, target_train_final, features_test_final, target_test_final, 120, 14)\n",
    "test_smape_final_value"
   ]
  },
  {
   "cell_type": "code",
   "execution_count": 61,
   "metadata": {},
   "outputs": [
    {
     "data": {
      "text/plain": [
       "5.412994445849753"
      ]
     },
     "execution_count": 61,
     "metadata": {},
     "output_type": "execute_result"
    }
   ],
   "source": [
    "total_test_smape_final = total_smape_func(test_smape_rougher_value, test_smape_final_value)\n",
    "total_test_smape_final"
   ]
  },
  {
   "cell_type": "markdown",
   "metadata": {},
   "source": [
    "### Проверка модели на адекватность"
   ]
  },
  {
   "cell_type": "code",
   "execution_count": 62,
   "metadata": {},
   "outputs": [],
   "source": [
    "def const_model(features_train, target_train, features_test):\n",
    "    dummy_model = DummyRegressor(strategy='mean')\n",
    "    dummy_model.fit(features_train, target_train)\n",
    "    dummy_preds = dummy_model.predict(features_test)\n",
    "    return dummy_preds"
   ]
  },
  {
   "cell_type": "code",
   "execution_count": 65,
   "metadata": {},
   "outputs": [],
   "source": [
    "dummy_preds_test_rougher = const_model(features_train_rougher, target_train_rougher, features_test_rougher)\n",
    "dummy_smape_test_rougher = smape_func(target_test_rougher, dummy_preds_test_rougher)"
   ]
  },
  {
   "cell_type": "code",
   "execution_count": 66,
   "metadata": {},
   "outputs": [],
   "source": [
    "dummy_preds_test_final = const_model(features_train_final, target_train_final, features_test_final)\n",
    "dummy_smape_test_final = smape_func(target_test_final, dummy_preds_test_final)"
   ]
  },
  {
   "cell_type": "code",
   "execution_count": 67,
   "metadata": {
    "scrolled": true
   },
   "outputs": [
    {
     "data": {
      "text/plain": [
       "8.41868841378743"
      ]
     },
     "execution_count": 67,
     "metadata": {},
     "output_type": "execute_result"
    }
   ],
   "source": [
    "total_dummy_smape = total_smape_func(dummy_smape_test_rougher, dummy_smape_test_final)\n",
    "total_dummy_smape"
   ]
  },
  {
   "cell_type": "markdown",
   "metadata": {},
   "source": [
    "Итоговый результат Dummy модели составляет sMape=8,42, результат полученный с помощью оптимальной модели составляет sMape=5,41. Таким образом, предлагаемая модель случайного леса является адекватной."
   ]
  },
  {
   "cell_type": "markdown",
   "metadata": {},
   "source": [
    "## Вывод по проекту"
   ]
  },
  {
   "cell_type": "markdown",
   "metadata": {},
   "source": [
    "В рамках проекта проведена следующая работа:\n",
    "- 1. Выполнен импорт библиотек.\n",
    "  2. Импорт и изучение данных.\n",
    "  3. Прведена проверка правильности расчета эффективности обогащения руды.\n",
    "  4. Провели анализ признаков в тестовой выборке.\n",
    "  5. Провели предобработку данных.\n",
    "  6. Оценили уровень концентрации металлов на разных этапах очистки руды.\n",
    "  7. Сравнили размеры гранул в тестовой и обучающей выборках.\n",
    "  8. Исследовали концентрацию металлов. Удалили выбросы.\n",
    "  9. Подготовили функцию для расчета sMape.\n",
    "  10. Выбрали модель для расчета sMape_rougher\n",
    "  11. Выбрали модель для расчета sMape_final.\n",
    "  12. Рассчитали итоговый показатель sMape.\n",
    "  13. Провели тестирование моделей и проверку модели на адекватность.\n",
    "    \n",
    "В результате выполнения проекта определены оптимальные модели для расчета sMape_rougher - случайный лес на 170 деревьев с глубиной 17 и для определения sMape_final - случайный лес на 120 деревьев и глубиной 14. Итоговый показатель total_test_smape_final = 5,41"
   ]
  }
 ],
 "metadata": {
  "ExecuteTimeLog": [
   {
    "duration": 59,
    "start_time": "2023-07-19T05:51:11.249Z"
   },
   {
    "duration": 1300,
    "start_time": "2023-07-19T05:51:17.579Z"
   },
   {
    "duration": 117,
    "start_time": "2023-07-19T05:51:21.867Z"
   },
   {
    "duration": 14,
    "start_time": "2023-07-19T05:51:36.217Z"
   },
   {
    "duration": 1581,
    "start_time": "2023-07-19T05:52:18.577Z"
   },
   {
    "duration": 16,
    "start_time": "2023-07-19T05:52:36.312Z"
   },
   {
    "duration": 12,
    "start_time": "2023-07-19T05:57:30.214Z"
   },
   {
    "duration": 23,
    "start_time": "2023-07-19T06:33:43.448Z"
   },
   {
    "duration": 73,
    "start_time": "2023-07-19T11:51:50.861Z"
   },
   {
    "duration": 1279,
    "start_time": "2023-07-19T11:52:07.413Z"
   },
   {
    "duration": 2866,
    "start_time": "2023-07-19T11:52:08.695Z"
   },
   {
    "duration": 21,
    "start_time": "2023-07-19T11:52:11.563Z"
   },
   {
    "duration": 14,
    "start_time": "2023-07-19T11:52:11.587Z"
   },
   {
    "duration": 54,
    "start_time": "2023-07-19T11:52:11.603Z"
   },
   {
    "duration": 50,
    "start_time": "2023-07-19T11:52:18.005Z"
   },
   {
    "duration": 11,
    "start_time": "2023-07-19T11:52:28.983Z"
   },
   {
    "duration": 151,
    "start_time": "2023-07-19T11:56:53.563Z"
   },
   {
    "duration": 162,
    "start_time": "2023-07-19T11:56:59.329Z"
   },
   {
    "duration": 29,
    "start_time": "2023-07-19T11:57:11.906Z"
   },
   {
    "duration": 71,
    "start_time": "2023-07-19T11:57:51.604Z"
   },
   {
    "duration": 13,
    "start_time": "2023-07-19T11:58:25.492Z"
   },
   {
    "duration": 16,
    "start_time": "2023-07-19T12:21:11.855Z"
   },
   {
    "duration": 12,
    "start_time": "2023-07-19T12:21:36.035Z"
   },
   {
    "duration": 20,
    "start_time": "2023-07-19T12:21:55.327Z"
   },
   {
    "duration": 8,
    "start_time": "2023-07-19T12:21:58.681Z"
   },
   {
    "duration": 17,
    "start_time": "2023-07-19T12:22:14.874Z"
   },
   {
    "duration": 1187,
    "start_time": "2023-07-19T12:25:07.659Z"
   },
   {
    "duration": 397,
    "start_time": "2023-07-19T12:25:08.849Z"
   },
   {
    "duration": 18,
    "start_time": "2023-07-19T12:25:09.248Z"
   },
   {
    "duration": 13,
    "start_time": "2023-07-19T12:25:09.268Z"
   },
   {
    "duration": 59,
    "start_time": "2023-07-19T12:25:09.283Z"
   },
   {
    "duration": 139,
    "start_time": "2023-07-19T12:25:09.344Z"
   },
   {
    "duration": 32,
    "start_time": "2023-07-19T12:25:09.485Z"
   },
   {
    "duration": 18,
    "start_time": "2023-07-19T12:25:09.519Z"
   },
   {
    "duration": 7,
    "start_time": "2023-07-19T12:27:38.899Z"
   },
   {
    "duration": 6,
    "start_time": "2023-07-19T12:27:51.742Z"
   },
   {
    "duration": 131,
    "start_time": "2023-07-19T12:39:00.359Z"
   },
   {
    "duration": 146,
    "start_time": "2023-07-19T12:39:54.771Z"
   },
   {
    "duration": 142,
    "start_time": "2023-07-19T12:40:11.800Z"
   },
   {
    "duration": 127,
    "start_time": "2023-07-19T12:40:31.041Z"
   },
   {
    "duration": 128,
    "start_time": "2023-07-19T12:40:56.142Z"
   },
   {
    "duration": 156,
    "start_time": "2023-07-19T12:41:16.515Z"
   },
   {
    "duration": 162,
    "start_time": "2023-07-19T12:41:28.136Z"
   },
   {
    "duration": 143,
    "start_time": "2023-07-19T12:42:11.150Z"
   },
   {
    "duration": 157,
    "start_time": "2023-07-19T12:44:51.105Z"
   },
   {
    "duration": 141,
    "start_time": "2023-07-19T12:45:10.736Z"
   },
   {
    "duration": 121,
    "start_time": "2023-07-19T12:45:22.573Z"
   },
   {
    "duration": 144,
    "start_time": "2023-07-19T12:45:39.858Z"
   },
   {
    "duration": 153,
    "start_time": "2023-07-19T12:46:15.178Z"
   },
   {
    "duration": 9,
    "start_time": "2023-07-19T12:47:06.940Z"
   },
   {
    "duration": 11,
    "start_time": "2023-07-19T12:47:47.837Z"
   },
   {
    "duration": 2342,
    "start_time": "2023-07-19T12:48:22.200Z"
   },
   {
    "duration": 6,
    "start_time": "2023-07-19T12:48:43.363Z"
   },
   {
    "duration": 5,
    "start_time": "2023-07-19T12:51:22.004Z"
   },
   {
    "duration": 6,
    "start_time": "2023-07-19T12:51:25.548Z"
   },
   {
    "duration": 6,
    "start_time": "2023-07-19T12:54:00.052Z"
   },
   {
    "duration": 155,
    "start_time": "2023-07-19T12:55:46.430Z"
   },
   {
    "duration": 142,
    "start_time": "2023-07-19T13:05:09.715Z"
   },
   {
    "duration": 1361,
    "start_time": "2023-07-19T13:06:57.588Z"
   },
   {
    "duration": 5,
    "start_time": "2023-07-19T13:06:58.951Z"
   },
   {
    "duration": 470,
    "start_time": "2023-07-19T13:06:58.958Z"
   },
   {
    "duration": 22,
    "start_time": "2023-07-19T13:06:59.433Z"
   },
   {
    "duration": 51,
    "start_time": "2023-07-19T13:06:59.457Z"
   },
   {
    "duration": 123,
    "start_time": "2023-07-19T13:06:59.510Z"
   },
   {
    "duration": 15,
    "start_time": "2023-07-19T13:06:59.636Z"
   },
   {
    "duration": 36,
    "start_time": "2023-07-19T13:06:59.653Z"
   },
   {
    "duration": 16,
    "start_time": "2023-07-19T13:06:59.692Z"
   },
   {
    "duration": 23,
    "start_time": "2023-07-19T13:06:59.711Z"
   },
   {
    "duration": 207,
    "start_time": "2023-07-19T13:06:59.736Z"
   },
   {
    "duration": 35,
    "start_time": "2023-07-19T13:06:59.950Z"
   },
   {
    "duration": 174,
    "start_time": "2023-07-19T13:06:59.988Z"
   },
   {
    "duration": 25,
    "start_time": "2023-07-19T13:17:12.673Z"
   },
   {
    "duration": 168,
    "start_time": "2023-07-19T13:17:51.575Z"
   },
   {
    "duration": 136,
    "start_time": "2023-07-19T13:17:58.757Z"
   },
   {
    "duration": 100,
    "start_time": "2023-07-19T13:18:02.398Z"
   },
   {
    "duration": 56,
    "start_time": "2023-07-19T15:24:36.863Z"
   },
   {
    "duration": 1168,
    "start_time": "2023-07-19T15:24:58.472Z"
   },
   {
    "duration": 4,
    "start_time": "2023-07-19T15:24:59.642Z"
   },
   {
    "duration": 2264,
    "start_time": "2023-07-19T15:24:59.648Z"
   },
   {
    "duration": 17,
    "start_time": "2023-07-19T15:25:01.914Z"
   },
   {
    "duration": 93,
    "start_time": "2023-07-19T15:25:01.933Z"
   },
   {
    "duration": 119,
    "start_time": "2023-07-19T15:25:02.028Z"
   },
   {
    "duration": 21,
    "start_time": "2023-07-19T15:25:02.149Z"
   },
   {
    "duration": 51,
    "start_time": "2023-07-19T15:25:02.172Z"
   },
   {
    "duration": 128,
    "start_time": "2023-07-19T15:25:02.225Z"
   },
   {
    "duration": 36,
    "start_time": "2023-07-19T15:25:02.356Z"
   },
   {
    "duration": 176,
    "start_time": "2023-07-19T15:25:02.393Z"
   },
   {
    "duration": 20,
    "start_time": "2023-07-19T15:25:02.571Z"
   },
   {
    "duration": 127,
    "start_time": "2023-07-19T15:25:02.593Z"
   },
   {
    "duration": 23,
    "start_time": "2023-07-19T15:25:02.722Z"
   },
   {
    "duration": 213,
    "start_time": "2023-07-19T15:25:02.746Z"
   },
   {
    "duration": 84,
    "start_time": "2023-07-19T15:25:02.961Z"
   },
   {
    "duration": 85,
    "start_time": "2023-07-19T15:25:03.047Z"
   },
   {
    "duration": 18,
    "start_time": "2023-07-19T15:25:37.671Z"
   },
   {
    "duration": 463,
    "start_time": "2023-07-19T15:27:32.766Z"
   },
   {
    "duration": 110,
    "start_time": "2023-07-19T15:35:54.874Z"
   },
   {
    "duration": 345,
    "start_time": "2023-07-19T15:36:20.851Z"
   },
   {
    "duration": 347,
    "start_time": "2023-07-19T15:36:39.760Z"
   },
   {
    "duration": 437,
    "start_time": "2023-07-19T15:39:27.384Z"
   },
   {
    "duration": 435,
    "start_time": "2023-07-19T15:42:19.596Z"
   },
   {
    "duration": 238,
    "start_time": "2023-07-19T16:13:37.948Z"
   },
   {
    "duration": 211,
    "start_time": "2023-07-19T16:14:34.648Z"
   },
   {
    "duration": 184,
    "start_time": "2023-07-19T16:15:22.954Z"
   },
   {
    "duration": 187,
    "start_time": "2023-07-19T16:15:58.777Z"
   },
   {
    "duration": 206,
    "start_time": "2023-07-19T16:17:37.736Z"
   },
   {
    "duration": 223,
    "start_time": "2023-07-19T16:18:01.485Z"
   },
   {
    "duration": 204,
    "start_time": "2023-07-19T16:18:42.468Z"
   },
   {
    "duration": 332,
    "start_time": "2023-07-19T16:21:03.623Z"
   },
   {
    "duration": 200,
    "start_time": "2023-07-19T16:24:30.398Z"
   },
   {
    "duration": 763,
    "start_time": "2023-07-19T16:25:27.389Z"
   },
   {
    "duration": 662,
    "start_time": "2023-07-19T16:27:36.890Z"
   },
   {
    "duration": 12,
    "start_time": "2023-07-19T16:46:34.406Z"
   },
   {
    "duration": 332,
    "start_time": "2023-07-19T16:48:48.968Z"
   },
   {
    "duration": 30,
    "start_time": "2023-07-19T16:55:27.507Z"
   },
   {
    "duration": 190,
    "start_time": "2023-07-19T16:56:09.063Z"
   },
   {
    "duration": 11,
    "start_time": "2023-07-19T16:56:38.779Z"
   },
   {
    "duration": 201,
    "start_time": "2023-07-19T16:56:47.170Z"
   },
   {
    "duration": 221,
    "start_time": "2023-07-19T16:57:33.229Z"
   },
   {
    "duration": 15,
    "start_time": "2023-07-19T16:59:00.313Z"
   },
   {
    "duration": 8,
    "start_time": "2023-07-19T17:27:45.872Z"
   },
   {
    "duration": 4,
    "start_time": "2023-07-19T17:43:56.725Z"
   },
   {
    "duration": 5,
    "start_time": "2023-07-19T17:44:02.212Z"
   },
   {
    "duration": 5,
    "start_time": "2023-07-19T17:44:16.171Z"
   },
   {
    "duration": 13,
    "start_time": "2023-07-19T17:46:00.935Z"
   },
   {
    "duration": 6,
    "start_time": "2023-07-19T17:46:30.599Z"
   },
   {
    "duration": 5,
    "start_time": "2023-07-19T17:50:44.171Z"
   },
   {
    "duration": 5,
    "start_time": "2023-07-19T17:52:47.573Z"
   },
   {
    "duration": 9,
    "start_time": "2023-07-19T17:53:41.856Z"
   },
   {
    "duration": 10,
    "start_time": "2023-07-19T17:54:30.619Z"
   },
   {
    "duration": 74,
    "start_time": "2023-07-19T17:54:57.527Z"
   },
   {
    "duration": 20,
    "start_time": "2023-07-19T17:56:23.181Z"
   },
   {
    "duration": 34,
    "start_time": "2023-07-19T17:57:10.321Z"
   },
   {
    "duration": 33,
    "start_time": "2023-07-19T17:58:06.930Z"
   },
   {
    "duration": 15,
    "start_time": "2023-07-19T18:03:57.014Z"
   },
   {
    "duration": 229,
    "start_time": "2023-07-19T18:04:24.013Z"
   },
   {
    "duration": 111,
    "start_time": "2023-07-19T18:05:57.429Z"
   },
   {
    "duration": 10,
    "start_time": "2023-07-19T18:07:27.868Z"
   },
   {
    "duration": 6,
    "start_time": "2023-07-19T18:07:31.706Z"
   },
   {
    "duration": 15,
    "start_time": "2023-07-19T18:08:05.149Z"
   },
   {
    "duration": 8,
    "start_time": "2023-07-19T18:09:08.299Z"
   },
   {
    "duration": 6,
    "start_time": "2023-07-19T18:09:10.228Z"
   },
   {
    "duration": 15,
    "start_time": "2023-07-19T18:09:24.026Z"
   },
   {
    "duration": 12,
    "start_time": "2023-07-19T18:10:33.908Z"
   },
   {
    "duration": 5,
    "start_time": "2023-07-19T18:10:37.488Z"
   },
   {
    "duration": 14,
    "start_time": "2023-07-19T18:10:40.385Z"
   },
   {
    "duration": 16,
    "start_time": "2023-07-19T18:10:45.212Z"
   },
   {
    "duration": 6,
    "start_time": "2023-07-19T18:10:48.843Z"
   },
   {
    "duration": 22,
    "start_time": "2023-07-19T18:11:04.792Z"
   },
   {
    "duration": 14,
    "start_time": "2023-07-19T18:12:12.011Z"
   },
   {
    "duration": 6,
    "start_time": "2023-07-19T18:12:14.586Z"
   },
   {
    "duration": 15,
    "start_time": "2023-07-19T18:12:26.258Z"
   },
   {
    "duration": 17,
    "start_time": "2023-07-19T18:12:31.632Z"
   },
   {
    "duration": 7,
    "start_time": "2023-07-19T18:12:37.255Z"
   },
   {
    "duration": 1494,
    "start_time": "2023-07-19T18:13:00.517Z"
   },
   {
    "duration": 3,
    "start_time": "2023-07-19T18:13:02.013Z"
   },
   {
    "duration": 476,
    "start_time": "2023-07-19T18:13:02.018Z"
   },
   {
    "duration": 20,
    "start_time": "2023-07-19T18:13:02.496Z"
   },
   {
    "duration": 24,
    "start_time": "2023-07-19T18:13:02.518Z"
   },
   {
    "duration": 103,
    "start_time": "2023-07-19T18:13:02.544Z"
   },
   {
    "duration": 6,
    "start_time": "2023-07-19T18:13:02.649Z"
   },
   {
    "duration": 45,
    "start_time": "2023-07-19T18:13:02.656Z"
   },
   {
    "duration": 88,
    "start_time": "2023-07-19T18:13:02.703Z"
   },
   {
    "duration": 20,
    "start_time": "2023-07-19T18:13:02.795Z"
   },
   {
    "duration": 147,
    "start_time": "2023-07-19T18:13:02.817Z"
   },
   {
    "duration": 20,
    "start_time": "2023-07-19T18:13:02.966Z"
   },
   {
    "duration": 122,
    "start_time": "2023-07-19T18:13:02.988Z"
   },
   {
    "duration": 23,
    "start_time": "2023-07-19T18:13:03.112Z"
   },
   {
    "duration": 131,
    "start_time": "2023-07-19T18:13:03.137Z"
   },
   {
    "duration": 81,
    "start_time": "2023-07-19T18:13:03.270Z"
   },
   {
    "duration": 335,
    "start_time": "2023-07-19T18:13:03.352Z"
   },
   {
    "duration": 345,
    "start_time": "2023-07-19T18:13:03.689Z"
   },
   {
    "duration": 420,
    "start_time": "2023-07-19T18:13:04.036Z"
   },
   {
    "duration": 672,
    "start_time": "2023-07-19T18:13:04.458Z"
   },
   {
    "duration": 9,
    "start_time": "2023-07-19T18:13:05.132Z"
   },
   {
    "duration": 331,
    "start_time": "2023-07-19T18:13:05.142Z"
   },
   {
    "duration": 251,
    "start_time": "2023-07-19T18:13:05.475Z"
   },
   {
    "duration": 8,
    "start_time": "2023-07-19T18:13:05.728Z"
   },
   {
    "duration": 34,
    "start_time": "2023-07-19T18:13:05.738Z"
   },
   {
    "duration": 57,
    "start_time": "2023-07-19T18:13:05.774Z"
   },
   {
    "duration": 30,
    "start_time": "2023-07-19T18:13:05.832Z"
   },
   {
    "duration": 44,
    "start_time": "2023-07-19T18:13:05.865Z"
   },
   {
    "duration": 65,
    "start_time": "2023-07-19T18:13:05.911Z"
   },
   {
    "duration": 35,
    "start_time": "2023-07-19T18:13:05.978Z"
   },
   {
    "duration": 39,
    "start_time": "2023-07-19T18:13:06.015Z"
   },
   {
    "duration": 33,
    "start_time": "2023-07-19T18:13:06.055Z"
   },
   {
    "duration": 42,
    "start_time": "2023-07-19T18:13:06.089Z"
   },
   {
    "duration": 231,
    "start_time": "2023-07-19T18:13:06.133Z"
   },
   {
    "duration": 6,
    "start_time": "2023-07-19T18:13:31.941Z"
   },
   {
    "duration": 9,
    "start_time": "2023-07-19T18:13:35.630Z"
   },
   {
    "duration": 1452,
    "start_time": "2023-07-19T18:13:50.984Z"
   },
   {
    "duration": 3,
    "start_time": "2023-07-19T18:13:52.439Z"
   },
   {
    "duration": 403,
    "start_time": "2023-07-19T18:13:52.443Z"
   },
   {
    "duration": 20,
    "start_time": "2023-07-19T18:13:52.848Z"
   },
   {
    "duration": 13,
    "start_time": "2023-07-19T18:13:52.870Z"
   },
   {
    "duration": 83,
    "start_time": "2023-07-19T18:13:52.885Z"
   },
   {
    "duration": 5,
    "start_time": "2023-07-19T18:13:52.970Z"
   },
   {
    "duration": 29,
    "start_time": "2023-07-19T18:13:52.976Z"
   },
   {
    "duration": 25,
    "start_time": "2023-07-19T18:13:53.007Z"
   },
   {
    "duration": 10,
    "start_time": "2023-07-19T18:13:53.035Z"
   },
   {
    "duration": 152,
    "start_time": "2023-07-19T18:13:53.046Z"
   },
   {
    "duration": 24,
    "start_time": "2023-07-19T18:13:53.199Z"
   },
   {
    "duration": 131,
    "start_time": "2023-07-19T18:13:53.225Z"
   },
   {
    "duration": 23,
    "start_time": "2023-07-19T18:13:53.357Z"
   },
   {
    "duration": 129,
    "start_time": "2023-07-19T18:13:53.382Z"
   },
   {
    "duration": 76,
    "start_time": "2023-07-19T18:13:53.513Z"
   },
   {
    "duration": 368,
    "start_time": "2023-07-19T18:13:53.591Z"
   },
   {
    "duration": 347,
    "start_time": "2023-07-19T18:13:53.961Z"
   },
   {
    "duration": 423,
    "start_time": "2023-07-19T18:13:54.311Z"
   },
   {
    "duration": 626,
    "start_time": "2023-07-19T18:13:54.736Z"
   },
   {
    "duration": 9,
    "start_time": "2023-07-19T18:13:55.363Z"
   },
   {
    "duration": 338,
    "start_time": "2023-07-19T18:13:55.373Z"
   },
   {
    "duration": 239,
    "start_time": "2023-07-19T18:13:55.713Z"
   },
   {
    "duration": 8,
    "start_time": "2023-07-19T18:13:55.953Z"
   },
   {
    "duration": 6,
    "start_time": "2023-07-19T18:13:55.963Z"
   },
   {
    "duration": 9,
    "start_time": "2023-07-19T18:13:55.971Z"
   },
   {
    "duration": 5,
    "start_time": "2023-07-19T18:13:55.982Z"
   },
   {
    "duration": 9,
    "start_time": "2023-07-19T18:13:56.013Z"
   },
   {
    "duration": 5,
    "start_time": "2023-07-19T18:13:56.024Z"
   },
   {
    "duration": 8,
    "start_time": "2023-07-19T18:13:56.031Z"
   },
   {
    "duration": 5,
    "start_time": "2023-07-19T18:13:56.041Z"
   },
   {
    "duration": 18,
    "start_time": "2023-07-19T18:13:56.048Z"
   },
   {
    "duration": 258,
    "start_time": "2023-07-19T18:13:56.068Z"
   },
   {
    "duration": 22,
    "start_time": "2023-07-19T18:52:15.928Z"
   },
   {
    "duration": 221,
    "start_time": "2023-07-19T18:52:20.062Z"
   },
   {
    "duration": 4,
    "start_time": "2023-07-19T19:16:40.270Z"
   },
   {
    "duration": 3,
    "start_time": "2023-07-19T19:16:42.680Z"
   },
   {
    "duration": 49,
    "start_time": "2023-07-21T13:05:43.558Z"
   },
   {
    "duration": 1635,
    "start_time": "2023-07-21T13:05:54.657Z"
   },
   {
    "duration": 3,
    "start_time": "2023-07-21T13:05:56.295Z"
   },
   {
    "duration": 1607,
    "start_time": "2023-07-21T13:05:56.299Z"
   },
   {
    "duration": 20,
    "start_time": "2023-07-21T13:05:57.908Z"
   },
   {
    "duration": 13,
    "start_time": "2023-07-21T13:05:57.929Z"
   },
   {
    "duration": 81,
    "start_time": "2023-07-21T13:05:57.944Z"
   },
   {
    "duration": 6,
    "start_time": "2023-07-21T13:05:58.027Z"
   },
   {
    "duration": 8,
    "start_time": "2023-07-21T13:05:58.035Z"
   },
   {
    "duration": 5,
    "start_time": "2023-07-21T13:05:58.045Z"
   },
   {
    "duration": 5,
    "start_time": "2023-07-21T13:05:58.053Z"
   },
   {
    "duration": 166,
    "start_time": "2023-07-21T13:05:58.059Z"
   },
   {
    "duration": 29,
    "start_time": "2023-07-21T13:05:58.227Z"
   },
   {
    "duration": 131,
    "start_time": "2023-07-21T13:05:58.258Z"
   },
   {
    "duration": 32,
    "start_time": "2023-07-21T13:05:58.391Z"
   },
   {
    "duration": 124,
    "start_time": "2023-07-21T13:05:58.424Z"
   },
   {
    "duration": 91,
    "start_time": "2023-07-21T13:05:58.549Z"
   },
   {
    "duration": 338,
    "start_time": "2023-07-21T13:05:58.641Z"
   },
   {
    "duration": 336,
    "start_time": "2023-07-21T13:05:58.981Z"
   },
   {
    "duration": 482,
    "start_time": "2023-07-21T13:05:59.319Z"
   },
   {
    "duration": 766,
    "start_time": "2023-07-21T13:05:59.803Z"
   },
   {
    "duration": 9,
    "start_time": "2023-07-21T13:06:00.571Z"
   },
   {
    "duration": 366,
    "start_time": "2023-07-21T13:06:00.582Z"
   },
   {
    "duration": 256,
    "start_time": "2023-07-21T13:06:00.950Z"
   },
   {
    "duration": 12,
    "start_time": "2023-07-21T13:06:01.208Z"
   },
   {
    "duration": 37,
    "start_time": "2023-07-21T13:06:01.222Z"
   },
   {
    "duration": 31,
    "start_time": "2023-07-21T13:06:01.260Z"
   },
   {
    "duration": 23,
    "start_time": "2023-07-21T13:06:01.292Z"
   },
   {
    "duration": 13,
    "start_time": "2023-07-21T13:06:01.318Z"
   },
   {
    "duration": 44,
    "start_time": "2023-07-21T13:06:01.332Z"
   },
   {
    "duration": 20,
    "start_time": "2023-07-21T13:06:01.378Z"
   },
   {
    "duration": 69,
    "start_time": "2023-07-21T13:06:01.399Z"
   },
   {
    "duration": 56,
    "start_time": "2023-07-21T13:06:01.470Z"
   },
   {
    "duration": 248,
    "start_time": "2023-07-21T13:06:01.527Z"
   },
   {
    "duration": 3,
    "start_time": "2023-07-21T13:06:01.777Z"
   },
   {
    "duration": 34,
    "start_time": "2023-07-21T13:06:01.782Z"
   },
   {
    "duration": 50,
    "start_time": "2023-07-21T13:06:01.818Z"
   },
   {
    "duration": 119,
    "start_time": "2023-07-21T13:06:01.870Z"
   },
   {
    "duration": 13,
    "start_time": "2023-07-21T13:09:35.868Z"
   },
   {
    "duration": 15,
    "start_time": "2023-07-21T13:10:19.055Z"
   },
   {
    "duration": 11,
    "start_time": "2023-07-21T13:13:33.352Z"
   },
   {
    "duration": 1903,
    "start_time": "2023-07-21T13:17:12.967Z"
   },
   {
    "duration": 281,
    "start_time": "2023-07-21T13:22:16.270Z"
   },
   {
    "duration": 17,
    "start_time": "2023-07-21T13:22:19.147Z"
   },
   {
    "duration": 1412,
    "start_time": "2023-07-21T13:23:37.212Z"
   },
   {
    "duration": 3,
    "start_time": "2023-07-21T13:23:38.626Z"
   },
   {
    "duration": 733,
    "start_time": "2023-07-21T13:23:38.631Z"
   },
   {
    "duration": 19,
    "start_time": "2023-07-21T13:23:39.366Z"
   },
   {
    "duration": 99,
    "start_time": "2023-07-21T13:23:39.387Z"
   },
   {
    "duration": 79,
    "start_time": "2023-07-21T13:23:39.487Z"
   },
   {
    "duration": 5,
    "start_time": "2023-07-21T13:23:39.567Z"
   },
   {
    "duration": 14,
    "start_time": "2023-07-21T13:23:39.573Z"
   },
   {
    "duration": 7,
    "start_time": "2023-07-21T13:23:39.589Z"
   },
   {
    "duration": 28,
    "start_time": "2023-07-21T13:23:39.600Z"
   },
   {
    "duration": 156,
    "start_time": "2023-07-21T13:23:39.630Z"
   },
   {
    "duration": 34,
    "start_time": "2023-07-21T13:23:39.788Z"
   },
   {
    "duration": 144,
    "start_time": "2023-07-21T13:23:39.824Z"
   },
   {
    "duration": 288,
    "start_time": "2023-07-21T13:23:39.970Z"
   },
   {
    "duration": 18,
    "start_time": "2023-07-21T13:23:40.259Z"
   },
   {
    "duration": 129,
    "start_time": "2023-07-21T13:23:40.279Z"
   },
   {
    "duration": 131,
    "start_time": "2023-07-21T13:23:40.412Z"
   },
   {
    "duration": 364,
    "start_time": "2023-07-21T13:23:40.544Z"
   },
   {
    "duration": 328,
    "start_time": "2023-07-21T13:23:40.910Z"
   },
   {
    "duration": 395,
    "start_time": "2023-07-21T13:23:41.240Z"
   },
   {
    "duration": 610,
    "start_time": "2023-07-21T13:23:41.637Z"
   },
   {
    "duration": 8,
    "start_time": "2023-07-21T13:23:42.249Z"
   },
   {
    "duration": 330,
    "start_time": "2023-07-21T13:23:42.258Z"
   },
   {
    "duration": 233,
    "start_time": "2023-07-21T13:23:42.590Z"
   },
   {
    "duration": 9,
    "start_time": "2023-07-21T13:23:42.824Z"
   },
   {
    "duration": 22,
    "start_time": "2023-07-21T13:23:42.835Z"
   },
   {
    "duration": 28,
    "start_time": "2023-07-21T13:23:42.858Z"
   },
   {
    "duration": 21,
    "start_time": "2023-07-21T13:23:42.889Z"
   },
   {
    "duration": 35,
    "start_time": "2023-07-21T13:23:42.911Z"
   },
   {
    "duration": 21,
    "start_time": "2023-07-21T13:23:42.948Z"
   },
   {
    "duration": 18,
    "start_time": "2023-07-21T13:23:42.971Z"
   },
   {
    "duration": 27,
    "start_time": "2023-07-21T13:23:42.991Z"
   },
   {
    "duration": 48,
    "start_time": "2023-07-21T13:23:43.020Z"
   },
   {
    "duration": 257,
    "start_time": "2023-07-21T13:23:43.070Z"
   },
   {
    "duration": 3,
    "start_time": "2023-07-21T13:23:43.328Z"
   },
   {
    "duration": 20,
    "start_time": "2023-07-21T13:23:43.334Z"
   },
   {
    "duration": 56,
    "start_time": "2023-07-21T13:23:43.356Z"
   },
   {
    "duration": 108,
    "start_time": "2023-07-21T13:23:43.414Z"
   },
   {
    "duration": 117,
    "start_time": "2023-07-21T13:25:19.606Z"
   },
   {
    "duration": 117,
    "start_time": "2023-07-21T13:25:31.470Z"
   },
   {
    "duration": 15,
    "start_time": "2023-07-21T13:25:54.749Z"
   },
   {
    "duration": 8,
    "start_time": "2023-07-21T13:26:22.639Z"
   },
   {
    "duration": 14,
    "start_time": "2023-07-21T13:36:54.897Z"
   },
   {
    "duration": 9,
    "start_time": "2023-07-21T13:37:37.958Z"
   },
   {
    "duration": 10,
    "start_time": "2023-07-21T13:37:44.028Z"
   },
   {
    "duration": 115,
    "start_time": "2023-07-21T13:44:36.911Z"
   },
   {
    "duration": 9013,
    "start_time": "2023-07-21T13:45:05.901Z"
   },
   {
    "duration": 4,
    "start_time": "2023-07-21T13:46:04.274Z"
   },
   {
    "duration": 7,
    "start_time": "2023-07-21T13:48:37.299Z"
   },
   {
    "duration": 14,
    "start_time": "2023-07-21T13:49:25.342Z"
   },
   {
    "duration": 1253,
    "start_time": "2023-07-21T13:49:54.560Z"
   },
   {
    "duration": 3,
    "start_time": "2023-07-21T13:49:55.815Z"
   },
   {
    "duration": 776,
    "start_time": "2023-07-21T13:49:55.820Z"
   },
   {
    "duration": 23,
    "start_time": "2023-07-21T13:49:56.598Z"
   },
   {
    "duration": 14,
    "start_time": "2023-07-21T13:49:56.623Z"
   },
   {
    "duration": 83,
    "start_time": "2023-07-21T13:49:56.639Z"
   },
   {
    "duration": 5,
    "start_time": "2023-07-21T13:49:56.724Z"
   },
   {
    "duration": 29,
    "start_time": "2023-07-21T13:49:56.730Z"
   },
   {
    "duration": 31,
    "start_time": "2023-07-21T13:49:56.760Z"
   },
   {
    "duration": 21,
    "start_time": "2023-07-21T13:49:56.794Z"
   },
   {
    "duration": 127,
    "start_time": "2023-07-21T13:49:56.817Z"
   },
   {
    "duration": 19,
    "start_time": "2023-07-21T13:49:56.945Z"
   },
   {
    "duration": 135,
    "start_time": "2023-07-21T13:49:56.966Z"
   },
   {
    "duration": 271,
    "start_time": "2023-07-21T13:49:57.103Z"
   },
   {
    "duration": 20,
    "start_time": "2023-07-21T13:49:57.376Z"
   },
   {
    "duration": 126,
    "start_time": "2023-07-21T13:49:57.398Z"
   },
   {
    "duration": 131,
    "start_time": "2023-07-21T13:49:57.525Z"
   },
   {
    "duration": 353,
    "start_time": "2023-07-21T13:49:57.657Z"
   },
   {
    "duration": 354,
    "start_time": "2023-07-21T13:49:58.012Z"
   },
   {
    "duration": 410,
    "start_time": "2023-07-21T13:49:58.367Z"
   },
   {
    "duration": 656,
    "start_time": "2023-07-21T13:49:58.779Z"
   },
   {
    "duration": 8,
    "start_time": "2023-07-21T13:49:59.437Z"
   },
   {
    "duration": 386,
    "start_time": "2023-07-21T13:49:59.447Z"
   },
   {
    "duration": 257,
    "start_time": "2023-07-21T13:49:59.835Z"
   },
   {
    "duration": 8,
    "start_time": "2023-07-21T13:50:00.094Z"
   },
   {
    "duration": 37,
    "start_time": "2023-07-21T13:50:00.113Z"
   },
   {
    "duration": 33,
    "start_time": "2023-07-21T13:50:00.152Z"
   },
   {
    "duration": 44,
    "start_time": "2023-07-21T13:50:00.189Z"
   },
   {
    "duration": 28,
    "start_time": "2023-07-21T13:50:00.234Z"
   },
   {
    "duration": 46,
    "start_time": "2023-07-21T13:50:00.264Z"
   },
   {
    "duration": 39,
    "start_time": "2023-07-21T13:50:00.312Z"
   },
   {
    "duration": 40,
    "start_time": "2023-07-21T13:50:00.353Z"
   },
   {
    "duration": 44,
    "start_time": "2023-07-21T13:50:00.395Z"
   },
   {
    "duration": 216,
    "start_time": "2023-07-21T13:50:00.441Z"
   },
   {
    "duration": 3,
    "start_time": "2023-07-21T13:50:00.658Z"
   },
   {
    "duration": 93,
    "start_time": "2023-07-21T13:50:00.663Z"
   },
   {
    "duration": 97,
    "start_time": "2023-07-21T13:50:00.758Z"
   },
   {
    "duration": 29,
    "start_time": "2023-07-21T13:50:00.856Z"
   },
   {
    "duration": 43,
    "start_time": "2023-07-21T13:50:00.887Z"
   },
   {
    "duration": 119,
    "start_time": "2023-07-21T13:51:04.707Z"
   },
   {
    "duration": 9,
    "start_time": "2023-07-21T13:51:11.287Z"
   },
   {
    "duration": 41,
    "start_time": "2023-07-21T13:52:55.688Z"
   },
   {
    "duration": 9,
    "start_time": "2023-07-21T13:59:30.323Z"
   },
   {
    "duration": 4,
    "start_time": "2023-07-21T13:59:57.550Z"
   },
   {
    "duration": 7,
    "start_time": "2023-07-21T14:00:07.350Z"
   },
   {
    "duration": 16,
    "start_time": "2023-07-21T14:08:07.417Z"
   },
   {
    "duration": 12,
    "start_time": "2023-07-21T14:08:32.078Z"
   },
   {
    "duration": 4,
    "start_time": "2023-07-21T14:08:58.395Z"
   },
   {
    "duration": 12,
    "start_time": "2023-07-21T14:09:02.995Z"
   },
   {
    "duration": 5,
    "start_time": "2023-07-21T14:11:12.512Z"
   },
   {
    "duration": 1334,
    "start_time": "2023-07-21T14:11:23.521Z"
   },
   {
    "duration": 3,
    "start_time": "2023-07-21T14:11:24.857Z"
   },
   {
    "duration": 797,
    "start_time": "2023-07-21T14:11:24.862Z"
   },
   {
    "duration": 19,
    "start_time": "2023-07-21T14:11:25.661Z"
   },
   {
    "duration": 16,
    "start_time": "2023-07-21T14:11:25.682Z"
   },
   {
    "duration": 65,
    "start_time": "2023-07-21T14:11:25.713Z"
   },
   {
    "duration": 6,
    "start_time": "2023-07-21T14:11:25.780Z"
   },
   {
    "duration": 25,
    "start_time": "2023-07-21T14:11:25.788Z"
   },
   {
    "duration": 6,
    "start_time": "2023-07-21T14:11:25.815Z"
   },
   {
    "duration": 17,
    "start_time": "2023-07-21T14:11:25.824Z"
   },
   {
    "duration": 142,
    "start_time": "2023-07-21T14:11:25.843Z"
   },
   {
    "duration": 30,
    "start_time": "2023-07-21T14:11:25.987Z"
   },
   {
    "duration": 132,
    "start_time": "2023-07-21T14:11:26.018Z"
   },
   {
    "duration": 304,
    "start_time": "2023-07-21T14:11:26.152Z"
   },
   {
    "duration": 22,
    "start_time": "2023-07-21T14:11:26.458Z"
   },
   {
    "duration": 143,
    "start_time": "2023-07-21T14:11:26.481Z"
   },
   {
    "duration": 152,
    "start_time": "2023-07-21T14:11:26.626Z"
   },
   {
    "duration": 397,
    "start_time": "2023-07-21T14:11:26.781Z"
   },
   {
    "duration": 353,
    "start_time": "2023-07-21T14:11:27.180Z"
   },
   {
    "duration": 439,
    "start_time": "2023-07-21T14:11:27.535Z"
   },
   {
    "duration": 710,
    "start_time": "2023-07-21T14:11:27.976Z"
   },
   {
    "duration": 10,
    "start_time": "2023-07-21T14:11:28.687Z"
   },
   {
    "duration": 345,
    "start_time": "2023-07-21T14:11:28.699Z"
   },
   {
    "duration": 250,
    "start_time": "2023-07-21T14:11:29.046Z"
   },
   {
    "duration": 16,
    "start_time": "2023-07-21T14:11:29.298Z"
   },
   {
    "duration": 5,
    "start_time": "2023-07-21T14:11:29.316Z"
   },
   {
    "duration": 21,
    "start_time": "2023-07-21T14:11:29.323Z"
   },
   {
    "duration": 6,
    "start_time": "2023-07-21T14:11:29.347Z"
   },
   {
    "duration": 14,
    "start_time": "2023-07-21T14:11:29.354Z"
   },
   {
    "duration": 11,
    "start_time": "2023-07-21T14:11:29.369Z"
   },
   {
    "duration": 26,
    "start_time": "2023-07-21T14:11:29.381Z"
   },
   {
    "duration": 26,
    "start_time": "2023-07-21T14:11:29.409Z"
   },
   {
    "duration": 39,
    "start_time": "2023-07-21T14:11:29.437Z"
   },
   {
    "duration": 253,
    "start_time": "2023-07-21T14:11:29.478Z"
   },
   {
    "duration": 4,
    "start_time": "2023-07-21T14:11:29.733Z"
   },
   {
    "duration": 7,
    "start_time": "2023-07-21T14:11:29.739Z"
   },
   {
    "duration": 21,
    "start_time": "2023-07-21T14:11:29.749Z"
   },
   {
    "duration": 10,
    "start_time": "2023-07-21T14:11:29.773Z"
   },
   {
    "duration": 39,
    "start_time": "2023-07-21T14:11:29.785Z"
   },
   {
    "duration": 22,
    "start_time": "2023-07-21T14:11:29.826Z"
   },
   {
    "duration": 118,
    "start_time": "2023-07-21T14:11:29.850Z"
   },
   {
    "duration": 5,
    "start_time": "2023-07-21T14:12:58.901Z"
   },
   {
    "duration": 6,
    "start_time": "2023-07-21T14:13:04.501Z"
   },
   {
    "duration": 2341,
    "start_time": "2023-07-21T14:18:57.134Z"
   },
   {
    "duration": 166,
    "start_time": "2023-07-21T14:20:53.820Z"
   },
   {
    "duration": 6,
    "start_time": "2023-07-21T14:23:20.725Z"
   },
   {
    "duration": 6,
    "start_time": "2023-07-21T14:24:17.234Z"
   },
   {
    "duration": 2321,
    "start_time": "2023-07-21T14:24:19.713Z"
   },
   {
    "duration": 6,
    "start_time": "2023-07-21T14:28:17.937Z"
   },
   {
    "duration": 2273,
    "start_time": "2023-07-21T14:28:25.798Z"
   },
   {
    "duration": 7,
    "start_time": "2023-07-21T14:31:07.767Z"
   },
   {
    "duration": 8,
    "start_time": "2023-07-21T14:31:10.512Z"
   },
   {
    "duration": 2214,
    "start_time": "2023-07-21T14:31:12.461Z"
   },
   {
    "duration": 8,
    "start_time": "2023-07-21T14:32:21.904Z"
   },
   {
    "duration": 5,
    "start_time": "2023-07-21T14:35:22.483Z"
   },
   {
    "duration": 2094,
    "start_time": "2023-07-21T14:35:25.448Z"
   },
   {
    "duration": 1990,
    "start_time": "2023-07-21T14:42:04.734Z"
   },
   {
    "duration": 4,
    "start_time": "2023-07-21T15:20:20.768Z"
   },
   {
    "duration": 5,
    "start_time": "2023-07-21T15:20:25.367Z"
   },
   {
    "duration": 2229,
    "start_time": "2023-07-21T15:20:29.960Z"
   },
   {
    "duration": 5,
    "start_time": "2023-07-21T15:21:08.921Z"
   },
   {
    "duration": 2104,
    "start_time": "2023-07-21T15:21:11.200Z"
   },
   {
    "duration": 8,
    "start_time": "2023-07-21T15:21:59.540Z"
   },
   {
    "duration": 3,
    "start_time": "2023-07-21T15:22:02.409Z"
   },
   {
    "duration": 108,
    "start_time": "2023-07-21T15:22:04.562Z"
   },
   {
    "duration": 5,
    "start_time": "2023-07-21T15:22:11.818Z"
   },
   {
    "duration": 1264,
    "start_time": "2023-07-21T15:27:11.471Z"
   },
   {
    "duration": 4,
    "start_time": "2023-07-21T15:27:12.736Z"
   },
   {
    "duration": 758,
    "start_time": "2023-07-21T15:27:12.741Z"
   },
   {
    "duration": 25,
    "start_time": "2023-07-21T15:27:13.501Z"
   },
   {
    "duration": 12,
    "start_time": "2023-07-21T15:27:13.528Z"
   },
   {
    "duration": 82,
    "start_time": "2023-07-21T15:27:13.541Z"
   },
   {
    "duration": 7,
    "start_time": "2023-07-21T15:27:13.626Z"
   },
   {
    "duration": 17,
    "start_time": "2023-07-21T15:27:13.635Z"
   },
   {
    "duration": 5,
    "start_time": "2023-07-21T15:27:13.654Z"
   },
   {
    "duration": 8,
    "start_time": "2023-07-21T15:27:13.662Z"
   },
   {
    "duration": 147,
    "start_time": "2023-07-21T15:27:13.672Z"
   },
   {
    "duration": 22,
    "start_time": "2023-07-21T15:27:13.821Z"
   },
   {
    "duration": 149,
    "start_time": "2023-07-21T15:27:13.845Z"
   },
   {
    "duration": 268,
    "start_time": "2023-07-21T15:27:13.996Z"
   },
   {
    "duration": 20,
    "start_time": "2023-07-21T15:27:14.265Z"
   },
   {
    "duration": 132,
    "start_time": "2023-07-21T15:27:14.287Z"
   },
   {
    "duration": 127,
    "start_time": "2023-07-21T15:27:14.420Z"
   },
   {
    "duration": 335,
    "start_time": "2023-07-21T15:27:14.549Z"
   },
   {
    "duration": 356,
    "start_time": "2023-07-21T15:27:14.886Z"
   },
   {
    "duration": 428,
    "start_time": "2023-07-21T15:27:15.244Z"
   },
   {
    "duration": 676,
    "start_time": "2023-07-21T15:27:15.674Z"
   },
   {
    "duration": 9,
    "start_time": "2023-07-21T15:27:16.352Z"
   },
   {
    "duration": 346,
    "start_time": "2023-07-21T15:27:16.363Z"
   },
   {
    "duration": 237,
    "start_time": "2023-07-21T15:27:16.711Z"
   },
   {
    "duration": 8,
    "start_time": "2023-07-21T15:27:16.950Z"
   },
   {
    "duration": 17,
    "start_time": "2023-07-21T15:27:16.960Z"
   },
   {
    "duration": 24,
    "start_time": "2023-07-21T15:27:16.978Z"
   },
   {
    "duration": 19,
    "start_time": "2023-07-21T15:27:17.005Z"
   },
   {
    "duration": 52,
    "start_time": "2023-07-21T15:27:17.026Z"
   },
   {
    "duration": 24,
    "start_time": "2023-07-21T15:27:17.080Z"
   },
   {
    "duration": 33,
    "start_time": "2023-07-21T15:27:17.106Z"
   },
   {
    "duration": 21,
    "start_time": "2023-07-21T15:27:17.141Z"
   },
   {
    "duration": 65,
    "start_time": "2023-07-21T15:27:17.163Z"
   },
   {
    "duration": 247,
    "start_time": "2023-07-21T15:27:17.230Z"
   },
   {
    "duration": 3,
    "start_time": "2023-07-21T15:27:17.479Z"
   },
   {
    "duration": 11,
    "start_time": "2023-07-21T15:27:17.484Z"
   },
   {
    "duration": 27,
    "start_time": "2023-07-21T15:27:17.497Z"
   },
   {
    "duration": 9,
    "start_time": "2023-07-21T15:27:17.526Z"
   },
   {
    "duration": 14,
    "start_time": "2023-07-21T15:27:17.536Z"
   },
   {
    "duration": 3,
    "start_time": "2023-07-21T15:27:17.552Z"
   },
   {
    "duration": 116,
    "start_time": "2023-07-21T15:27:17.557Z"
   },
   {
    "duration": 0,
    "start_time": "2023-07-21T15:27:17.674Z"
   },
   {
    "duration": 149,
    "start_time": "2023-07-21T15:28:34.250Z"
   },
   {
    "duration": 3,
    "start_time": "2023-07-21T15:28:40.838Z"
   },
   {
    "duration": 5,
    "start_time": "2023-07-21T15:28:46.443Z"
   },
   {
    "duration": 1309,
    "start_time": "2023-07-21T15:33:16.619Z"
   },
   {
    "duration": 3,
    "start_time": "2023-07-21T15:33:17.930Z"
   },
   {
    "duration": 850,
    "start_time": "2023-07-21T15:33:17.935Z"
   },
   {
    "duration": 19,
    "start_time": "2023-07-21T15:33:18.787Z"
   },
   {
    "duration": 13,
    "start_time": "2023-07-21T15:33:18.813Z"
   },
   {
    "duration": 63,
    "start_time": "2023-07-21T15:33:18.828Z"
   },
   {
    "duration": 22,
    "start_time": "2023-07-21T15:33:18.892Z"
   },
   {
    "duration": 41,
    "start_time": "2023-07-21T15:33:18.916Z"
   },
   {
    "duration": 27,
    "start_time": "2023-07-21T15:33:18.959Z"
   },
   {
    "duration": 13,
    "start_time": "2023-07-21T15:33:18.990Z"
   },
   {
    "duration": 141,
    "start_time": "2023-07-21T15:33:19.004Z"
   },
   {
    "duration": 20,
    "start_time": "2023-07-21T15:33:19.146Z"
   },
   {
    "duration": 127,
    "start_time": "2023-07-21T15:33:19.167Z"
   },
   {
    "duration": 280,
    "start_time": "2023-07-21T15:33:19.295Z"
   },
   {
    "duration": 21,
    "start_time": "2023-07-21T15:33:19.577Z"
   },
   {
    "duration": 189,
    "start_time": "2023-07-21T15:33:19.600Z"
   },
   {
    "duration": 162,
    "start_time": "2023-07-21T15:33:19.791Z"
   },
   {
    "duration": 326,
    "start_time": "2023-07-21T15:33:19.954Z"
   },
   {
    "duration": 326,
    "start_time": "2023-07-21T15:33:20.281Z"
   },
   {
    "duration": 412,
    "start_time": "2023-07-21T15:33:20.609Z"
   },
   {
    "duration": 621,
    "start_time": "2023-07-21T15:33:21.023Z"
   },
   {
    "duration": 8,
    "start_time": "2023-07-21T15:33:21.645Z"
   },
   {
    "duration": 336,
    "start_time": "2023-07-21T15:33:21.655Z"
   },
   {
    "duration": 228,
    "start_time": "2023-07-21T15:33:21.993Z"
   },
   {
    "duration": 9,
    "start_time": "2023-07-21T15:33:22.222Z"
   },
   {
    "duration": 18,
    "start_time": "2023-07-21T15:33:22.232Z"
   },
   {
    "duration": 27,
    "start_time": "2023-07-21T15:33:22.252Z"
   },
   {
    "duration": 25,
    "start_time": "2023-07-21T15:33:22.282Z"
   },
   {
    "duration": 18,
    "start_time": "2023-07-21T15:33:22.308Z"
   },
   {
    "duration": 12,
    "start_time": "2023-07-21T15:33:22.328Z"
   },
   {
    "duration": 11,
    "start_time": "2023-07-21T15:33:22.341Z"
   },
   {
    "duration": 23,
    "start_time": "2023-07-21T15:33:22.353Z"
   },
   {
    "duration": 32,
    "start_time": "2023-07-21T15:33:22.378Z"
   },
   {
    "duration": 217,
    "start_time": "2023-07-21T15:33:22.412Z"
   },
   {
    "duration": 4,
    "start_time": "2023-07-21T15:33:22.630Z"
   },
   {
    "duration": 103,
    "start_time": "2023-07-21T15:33:22.635Z"
   },
   {
    "duration": 23,
    "start_time": "2023-07-21T15:33:22.740Z"
   },
   {
    "duration": 8,
    "start_time": "2023-07-21T15:33:22.765Z"
   },
   {
    "duration": 14,
    "start_time": "2023-07-21T15:33:22.775Z"
   },
   {
    "duration": 5,
    "start_time": "2023-07-21T15:33:22.791Z"
   },
   {
    "duration": 17,
    "start_time": "2023-07-21T15:33:22.798Z"
   },
   {
    "duration": 11,
    "start_time": "2023-07-21T15:33:22.817Z"
   },
   {
    "duration": 794413,
    "start_time": "2023-07-21T15:33:22.830Z"
   },
   {
    "duration": 4,
    "start_time": "2023-07-21T15:50:06.461Z"
   },
   {
    "duration": 5,
    "start_time": "2023-07-21T15:50:45.111Z"
   },
   {
    "duration": 9,
    "start_time": "2023-07-21T15:53:07.702Z"
   },
   {
    "duration": 114,
    "start_time": "2023-07-21T16:02:36.157Z"
   },
   {
    "duration": 10,
    "start_time": "2023-07-21T16:02:43.604Z"
   },
   {
    "duration": 5,
    "start_time": "2023-07-21T16:09:53.015Z"
   },
   {
    "duration": 11,
    "start_time": "2023-07-21T16:11:38.456Z"
   },
   {
    "duration": 110,
    "start_time": "2023-07-21T16:12:33.160Z"
   },
   {
    "duration": 129,
    "start_time": "2023-07-21T16:12:44.230Z"
   },
   {
    "duration": 10,
    "start_time": "2023-07-21T16:18:09.837Z"
   },
   {
    "duration": 7,
    "start_time": "2023-07-21T16:18:19.248Z"
   },
   {
    "duration": 5,
    "start_time": "2023-07-21T16:19:18.899Z"
   },
   {
    "duration": 4394973,
    "start_time": "2023-07-21T16:20:14.276Z"
   },
   {
    "duration": 10,
    "start_time": "2023-07-21T17:33:57.494Z"
   },
   {
    "duration": 8,
    "start_time": "2023-07-21T17:35:54.630Z"
   },
   {
    "duration": 8,
    "start_time": "2023-07-21T17:35:58.854Z"
   },
   {
    "duration": 3,
    "start_time": "2023-07-21T17:36:02.631Z"
   },
   {
    "duration": 5,
    "start_time": "2023-07-21T17:36:05.894Z"
   },
   {
    "duration": 122,
    "start_time": "2023-07-21T17:36:08.495Z"
   },
   {
    "duration": 5,
    "start_time": "2023-07-21T17:36:33.408Z"
   },
   {
    "duration": 1000661,
    "start_time": "2023-07-21T17:36:38.419Z"
   },
   {
    "duration": 4,
    "start_time": "2023-07-21T17:53:19.081Z"
   },
   {
    "duration": 21,
    "start_time": "2023-07-21T17:53:19.087Z"
   },
   {
    "duration": 4,
    "start_time": "2023-07-21T17:53:19.113Z"
   },
   {
    "duration": 4,
    "start_time": "2023-07-21T17:54:04.789Z"
   },
   {
    "duration": 9,
    "start_time": "2023-07-21T17:54:52.352Z"
   },
   {
    "duration": 3,
    "start_time": "2023-07-21T17:55:08.178Z"
   },
   {
    "duration": 3,
    "start_time": "2023-07-21T17:56:26.638Z"
   },
   {
    "duration": 4,
    "start_time": "2023-07-21T17:56:34.830Z"
   },
   {
    "duration": 4,
    "start_time": "2023-07-21T17:56:50.459Z"
   },
   {
    "duration": 10,
    "start_time": "2023-07-21T17:59:02.242Z"
   },
   {
    "duration": 7,
    "start_time": "2023-07-21T17:59:18.412Z"
   },
   {
    "duration": 8,
    "start_time": "2023-07-21T17:59:25.119Z"
   },
   {
    "duration": 5279,
    "start_time": "2023-07-21T17:59:30.792Z"
   },
   {
    "duration": 4,
    "start_time": "2023-07-21T18:00:09.307Z"
   },
   {
    "duration": 5509,
    "start_time": "2023-07-21T18:00:13.206Z"
   },
   {
    "duration": 7210,
    "start_time": "2023-07-21T18:00:22.190Z"
   },
   {
    "duration": 4,
    "start_time": "2023-07-21T18:00:37.578Z"
   },
   {
    "duration": 5375,
    "start_time": "2023-07-21T18:01:05.569Z"
   },
   {
    "duration": 7447,
    "start_time": "2023-07-21T18:01:13.716Z"
   },
   {
    "duration": 1309,
    "start_time": "2023-07-21T18:06:54.512Z"
   },
   {
    "duration": 3,
    "start_time": "2023-07-21T18:06:55.823Z"
   },
   {
    "duration": 809,
    "start_time": "2023-07-21T18:06:55.827Z"
   },
   {
    "duration": 19,
    "start_time": "2023-07-21T18:06:56.639Z"
   },
   {
    "duration": 13,
    "start_time": "2023-07-21T18:06:56.659Z"
   },
   {
    "duration": 83,
    "start_time": "2023-07-21T18:06:56.673Z"
   },
   {
    "duration": 5,
    "start_time": "2023-07-21T18:06:56.757Z"
   },
   {
    "duration": 6,
    "start_time": "2023-07-21T18:06:57.201Z"
   },
   {
    "duration": 10,
    "start_time": "2023-07-21T18:06:57.209Z"
   },
   {
    "duration": 6,
    "start_time": "2023-07-21T18:06:57.417Z"
   },
   {
    "duration": 137,
    "start_time": "2023-07-21T18:06:57.425Z"
   },
   {
    "duration": 20,
    "start_time": "2023-07-21T18:06:57.564Z"
   },
   {
    "duration": 129,
    "start_time": "2023-07-21T18:06:57.586Z"
   },
   {
    "duration": 281,
    "start_time": "2023-07-21T18:06:57.717Z"
   },
   {
    "duration": 29,
    "start_time": "2023-07-21T18:06:58.000Z"
   },
   {
    "duration": 123,
    "start_time": "2023-07-21T18:06:58.308Z"
   },
   {
    "duration": 131,
    "start_time": "2023-07-21T18:06:58.433Z"
   },
   {
    "duration": 349,
    "start_time": "2023-07-21T18:06:58.565Z"
   },
   {
    "duration": 341,
    "start_time": "2023-07-21T18:06:58.916Z"
   },
   {
    "duration": 440,
    "start_time": "2023-07-21T18:06:59.260Z"
   },
   {
    "duration": 647,
    "start_time": "2023-07-21T18:06:59.702Z"
   },
   {
    "duration": 9,
    "start_time": "2023-07-21T18:07:00.351Z"
   },
   {
    "duration": 453,
    "start_time": "2023-07-21T18:07:00.362Z"
   },
   {
    "duration": 238,
    "start_time": "2023-07-21T18:07:00.817Z"
   },
   {
    "duration": 9,
    "start_time": "2023-07-21T18:07:01.056Z"
   },
   {
    "duration": 14,
    "start_time": "2023-07-21T18:07:01.067Z"
   },
   {
    "duration": 31,
    "start_time": "2023-07-21T18:07:01.082Z"
   },
   {
    "duration": 22,
    "start_time": "2023-07-21T18:07:01.115Z"
   },
   {
    "duration": 11,
    "start_time": "2023-07-21T18:07:01.140Z"
   },
   {
    "duration": 7,
    "start_time": "2023-07-21T18:07:01.153Z"
   },
   {
    "duration": 20,
    "start_time": "2023-07-21T18:07:01.161Z"
   },
   {
    "duration": 18,
    "start_time": "2023-07-21T18:07:01.183Z"
   },
   {
    "duration": 32,
    "start_time": "2023-07-21T18:07:01.203Z"
   },
   {
    "duration": 206,
    "start_time": "2023-07-21T18:07:01.236Z"
   },
   {
    "duration": 4,
    "start_time": "2023-07-21T18:07:01.443Z"
   },
   {
    "duration": 21,
    "start_time": "2023-07-21T18:07:01.448Z"
   },
   {
    "duration": 46,
    "start_time": "2023-07-21T18:07:01.471Z"
   },
   {
    "duration": 16,
    "start_time": "2023-07-21T18:07:01.520Z"
   },
   {
    "duration": 15,
    "start_time": "2023-07-21T18:07:01.538Z"
   },
   {
    "duration": 34,
    "start_time": "2023-07-21T18:07:01.555Z"
   },
   {
    "duration": 29,
    "start_time": "2023-07-21T18:07:01.592Z"
   },
   {
    "duration": 30,
    "start_time": "2023-07-21T18:07:01.623Z"
   },
   {
    "duration": 1545,
    "start_time": "2023-07-22T09:13:38.105Z"
   },
   {
    "duration": 2,
    "start_time": "2023-07-22T09:13:39.652Z"
   },
   {
    "duration": 3673,
    "start_time": "2023-07-22T09:13:39.656Z"
   },
   {
    "duration": 20,
    "start_time": "2023-07-22T09:13:43.331Z"
   },
   {
    "duration": 12,
    "start_time": "2023-07-22T09:13:43.352Z"
   },
   {
    "duration": 67,
    "start_time": "2023-07-22T09:13:43.365Z"
   },
   {
    "duration": 4,
    "start_time": "2023-07-22T09:13:43.434Z"
   },
   {
    "duration": 10,
    "start_time": "2023-07-22T09:13:43.440Z"
   },
   {
    "duration": 5,
    "start_time": "2023-07-22T09:13:43.451Z"
   },
   {
    "duration": 4,
    "start_time": "2023-07-22T09:13:43.458Z"
   },
   {
    "duration": 122,
    "start_time": "2023-07-22T09:13:43.464Z"
   },
   {
    "duration": 29,
    "start_time": "2023-07-22T09:13:43.588Z"
   },
   {
    "duration": 114,
    "start_time": "2023-07-22T09:13:43.622Z"
   },
   {
    "duration": 278,
    "start_time": "2023-07-22T09:13:43.737Z"
   },
   {
    "duration": 19,
    "start_time": "2023-07-22T09:13:44.016Z"
   },
   {
    "duration": 112,
    "start_time": "2023-07-22T09:13:44.040Z"
   },
   {
    "duration": 135,
    "start_time": "2023-07-22T09:13:44.154Z"
   },
   {
    "duration": 308,
    "start_time": "2023-07-22T09:13:44.291Z"
   },
   {
    "duration": 291,
    "start_time": "2023-07-22T09:13:44.613Z"
   },
   {
    "duration": 371,
    "start_time": "2023-07-22T09:13:44.908Z"
   },
   {
    "duration": 657,
    "start_time": "2023-07-22T09:13:45.280Z"
   },
   {
    "duration": 8,
    "start_time": "2023-07-22T09:13:45.940Z"
   },
   {
    "duration": 303,
    "start_time": "2023-07-22T09:13:45.949Z"
   },
   {
    "duration": 208,
    "start_time": "2023-07-22T09:13:46.254Z"
   },
   {
    "duration": 7,
    "start_time": "2023-07-22T09:13:46.464Z"
   },
   {
    "duration": 11,
    "start_time": "2023-07-22T09:13:46.472Z"
   },
   {
    "duration": 8,
    "start_time": "2023-07-22T09:13:46.484Z"
   },
   {
    "duration": 22,
    "start_time": "2023-07-22T09:13:46.509Z"
   },
   {
    "duration": 9,
    "start_time": "2023-07-22T09:13:46.532Z"
   },
   {
    "duration": 8,
    "start_time": "2023-07-22T09:13:46.542Z"
   },
   {
    "duration": 9,
    "start_time": "2023-07-22T09:13:46.552Z"
   },
   {
    "duration": 5,
    "start_time": "2023-07-22T09:13:46.562Z"
   },
   {
    "duration": 24,
    "start_time": "2023-07-22T09:13:46.568Z"
   },
   {
    "duration": 195,
    "start_time": "2023-07-22T09:13:46.594Z"
   },
   {
    "duration": 3,
    "start_time": "2023-07-22T09:13:46.791Z"
   },
   {
    "duration": 31,
    "start_time": "2023-07-22T09:13:46.796Z"
   },
   {
    "duration": 19,
    "start_time": "2023-07-22T09:13:46.831Z"
   },
   {
    "duration": 7,
    "start_time": "2023-07-22T09:13:46.852Z"
   },
   {
    "duration": 7,
    "start_time": "2023-07-22T09:13:46.860Z"
   },
   {
    "duration": 5,
    "start_time": "2023-07-22T09:13:46.868Z"
   },
   {
    "duration": 5,
    "start_time": "2023-07-22T09:13:46.875Z"
   },
   {
    "duration": 925711,
    "start_time": "2023-07-22T09:13:46.882Z"
   },
   {
    "duration": 138,
    "start_time": "2023-07-22T09:29:12.595Z"
   },
   {
    "duration": 0,
    "start_time": "2023-07-22T09:29:12.738Z"
   },
   {
    "duration": 0,
    "start_time": "2023-07-22T09:29:12.739Z"
   },
   {
    "duration": 0,
    "start_time": "2023-07-22T09:29:12.742Z"
   },
   {
    "duration": 0,
    "start_time": "2023-07-22T09:29:12.743Z"
   },
   {
    "duration": 0,
    "start_time": "2023-07-22T09:29:12.744Z"
   },
   {
    "duration": 0,
    "start_time": "2023-07-22T09:29:12.745Z"
   },
   {
    "duration": 0,
    "start_time": "2023-07-22T09:29:12.749Z"
   },
   {
    "duration": 0,
    "start_time": "2023-07-22T09:29:12.750Z"
   },
   {
    "duration": 0,
    "start_time": "2023-07-22T09:29:12.750Z"
   },
   {
    "duration": 0,
    "start_time": "2023-07-22T09:29:12.751Z"
   },
   {
    "duration": 0,
    "start_time": "2023-07-22T09:29:12.752Z"
   },
   {
    "duration": 0,
    "start_time": "2023-07-22T09:29:12.753Z"
   },
   {
    "duration": 0,
    "start_time": "2023-07-22T09:29:12.755Z"
   },
   {
    "duration": 0,
    "start_time": "2023-07-22T09:29:12.756Z"
   },
   {
    "duration": 0,
    "start_time": "2023-07-22T09:29:12.757Z"
   },
   {
    "duration": 7,
    "start_time": "2023-07-22T09:29:44.534Z"
   },
   {
    "duration": 7,
    "start_time": "2023-07-22T09:29:53.694Z"
   },
   {
    "duration": 5,
    "start_time": "2023-07-22T09:30:01.951Z"
   },
   {
    "duration": 8,
    "start_time": "2023-07-22T09:30:07.847Z"
   },
   {
    "duration": 5,
    "start_time": "2023-07-22T09:30:17.040Z"
   },
   {
    "duration": 8,
    "start_time": "2023-07-22T09:30:32.151Z"
   },
   {
    "duration": 7,
    "start_time": "2023-07-22T09:30:39.794Z"
   },
   {
    "duration": 3,
    "start_time": "2023-07-22T09:30:44.339Z"
   },
   {
    "duration": 4,
    "start_time": "2023-07-22T09:30:50.547Z"
   },
   {
    "duration": 153040,
    "start_time": "2023-07-22T09:31:00.931Z"
   },
   {
    "duration": 8,
    "start_time": "2023-07-22T09:33:33.973Z"
   },
   {
    "duration": 0,
    "start_time": "2023-07-22T09:33:33.983Z"
   },
   {
    "duration": 0,
    "start_time": "2023-07-22T09:33:33.984Z"
   },
   {
    "duration": 0,
    "start_time": "2023-07-22T09:33:33.985Z"
   },
   {
    "duration": 0,
    "start_time": "2023-07-22T09:33:33.986Z"
   },
   {
    "duration": 3,
    "start_time": "2023-07-22T09:33:42.900Z"
   },
   {
    "duration": 4,
    "start_time": "2023-07-22T09:33:47.446Z"
   },
   {
    "duration": 1370,
    "start_time": "2023-07-22T09:36:57.990Z"
   },
   {
    "duration": 3,
    "start_time": "2023-07-22T09:36:59.362Z"
   },
   {
    "duration": 724,
    "start_time": "2023-07-22T09:36:59.366Z"
   },
   {
    "duration": 28,
    "start_time": "2023-07-22T09:37:00.092Z"
   },
   {
    "duration": 16,
    "start_time": "2023-07-22T09:37:00.137Z"
   },
   {
    "duration": 88,
    "start_time": "2023-07-22T09:37:00.155Z"
   },
   {
    "duration": 5,
    "start_time": "2023-07-22T09:37:00.250Z"
   },
   {
    "duration": 44,
    "start_time": "2023-07-22T09:37:00.256Z"
   },
   {
    "duration": 44,
    "start_time": "2023-07-22T09:37:00.302Z"
   },
   {
    "duration": 17,
    "start_time": "2023-07-22T09:37:00.349Z"
   },
   {
    "duration": 170,
    "start_time": "2023-07-22T09:37:00.368Z"
   },
   {
    "duration": 23,
    "start_time": "2023-07-22T09:37:00.539Z"
   },
   {
    "duration": 132,
    "start_time": "2023-07-22T09:37:00.563Z"
   },
   {
    "duration": 297,
    "start_time": "2023-07-22T09:37:00.696Z"
   },
   {
    "duration": 29,
    "start_time": "2023-07-22T09:37:00.994Z"
   },
   {
    "duration": 132,
    "start_time": "2023-07-22T09:37:01.025Z"
   },
   {
    "duration": 124,
    "start_time": "2023-07-22T09:37:01.159Z"
   },
   {
    "duration": 306,
    "start_time": "2023-07-22T09:37:01.285Z"
   },
   {
    "duration": 304,
    "start_time": "2023-07-22T09:37:01.593Z"
   },
   {
    "duration": 486,
    "start_time": "2023-07-22T09:37:01.898Z"
   },
   {
    "duration": 693,
    "start_time": "2023-07-22T09:37:02.386Z"
   },
   {
    "duration": 7,
    "start_time": "2023-07-22T09:37:03.081Z"
   },
   {
    "duration": 310,
    "start_time": "2023-07-22T09:37:03.089Z"
   },
   {
    "duration": 232,
    "start_time": "2023-07-22T09:37:03.401Z"
   },
   {
    "duration": 9,
    "start_time": "2023-07-22T09:37:03.640Z"
   },
   {
    "duration": 20,
    "start_time": "2023-07-22T09:37:03.650Z"
   },
   {
    "duration": 20,
    "start_time": "2023-07-22T09:37:03.672Z"
   },
   {
    "duration": 9,
    "start_time": "2023-07-22T09:37:03.694Z"
   },
   {
    "duration": 40,
    "start_time": "2023-07-22T09:37:03.704Z"
   },
   {
    "duration": 18,
    "start_time": "2023-07-22T09:37:03.747Z"
   },
   {
    "duration": 37,
    "start_time": "2023-07-22T09:37:03.766Z"
   },
   {
    "duration": 44,
    "start_time": "2023-07-22T09:37:03.805Z"
   },
   {
    "duration": 69,
    "start_time": "2023-07-22T09:37:03.850Z"
   },
   {
    "duration": 208,
    "start_time": "2023-07-22T09:37:03.921Z"
   },
   {
    "duration": 13,
    "start_time": "2023-07-22T09:37:04.135Z"
   },
   {
    "duration": 39,
    "start_time": "2023-07-22T09:37:04.149Z"
   },
   {
    "duration": 65,
    "start_time": "2023-07-22T09:37:04.189Z"
   },
   {
    "duration": 15,
    "start_time": "2023-07-22T09:37:16.200Z"
   },
   {
    "duration": 6,
    "start_time": "2023-07-22T09:37:19.094Z"
   },
   {
    "duration": 3,
    "start_time": "2023-07-22T09:37:23.367Z"
   },
   {
    "duration": 4,
    "start_time": "2023-07-22T09:37:25.596Z"
   },
   {
    "duration": 6296544,
    "start_time": "2023-07-22T09:37:28.825Z"
   },
   {
    "duration": 4,
    "start_time": "2023-07-22T11:29:52.498Z"
   },
   {
    "duration": 24,
    "start_time": "2023-07-22T11:29:55.529Z"
   },
   {
    "duration": 12,
    "start_time": "2023-07-22T11:29:59.231Z"
   },
   {
    "duration": 150,
    "start_time": "2023-07-22T11:30:10.341Z"
   },
   {
    "duration": 9,
    "start_time": "2023-07-22T11:30:22.881Z"
   },
   {
    "duration": 5,
    "start_time": "2023-07-22T11:30:26.072Z"
   },
   {
    "duration": 2,
    "start_time": "2023-07-22T11:30:28.995Z"
   },
   {
    "duration": 4,
    "start_time": "2023-07-22T11:30:34.068Z"
   },
   {
    "duration": 1045829,
    "start_time": "2023-07-22T11:32:20.844Z"
   },
   {
    "duration": 4,
    "start_time": "2023-07-22T11:49:46.676Z"
   },
   {
    "duration": 8,
    "start_time": "2023-07-22T11:49:46.681Z"
   },
   {
    "duration": 6,
    "start_time": "2023-07-22T11:49:46.691Z"
   },
   {
    "duration": 3,
    "start_time": "2023-07-22T11:53:40.971Z"
   },
   {
    "duration": 3,
    "start_time": "2023-07-22T11:53:49.463Z"
   },
   {
    "duration": 3,
    "start_time": "2023-07-22T11:55:56.165Z"
   },
   {
    "duration": 42200,
    "start_time": "2023-07-22T11:56:05.169Z"
   },
   {
    "duration": 4,
    "start_time": "2023-07-22T11:57:39.285Z"
   },
   {
    "duration": 3,
    "start_time": "2023-07-22T11:57:41.949Z"
   },
   {
    "duration": 40781,
    "start_time": "2023-07-22T11:57:44.762Z"
   },
   {
    "duration": 11,
    "start_time": "2023-07-22T11:58:25.545Z"
   },
   {
    "duration": 0,
    "start_time": "2023-07-22T11:58:25.557Z"
   },
   {
    "duration": 217575,
    "start_time": "2023-07-22T11:58:42.808Z"
   },
   {
    "duration": 3,
    "start_time": "2023-07-22T12:02:20.385Z"
   },
   {
    "duration": 150,
    "start_time": "2023-07-22T12:02:56.349Z"
   },
   {
    "duration": 345,
    "start_time": "2023-07-22T12:03:05.727Z"
   },
   {
    "duration": 10,
    "start_time": "2023-07-22T12:03:13.433Z"
   },
   {
    "duration": 1691,
    "start_time": "2023-07-23T05:10:08.126Z"
   },
   {
    "duration": 4,
    "start_time": "2023-07-23T05:10:17.478Z"
   },
   {
    "duration": 2157,
    "start_time": "2023-07-23T05:10:20.153Z"
   },
   {
    "duration": 21,
    "start_time": "2023-07-23T05:10:25.055Z"
   },
   {
    "duration": 15,
    "start_time": "2023-07-23T05:10:39.305Z"
   },
   {
    "duration": 60,
    "start_time": "2023-07-23T05:10:44.855Z"
   },
   {
    "duration": 6,
    "start_time": "2023-07-23T05:10:51.475Z"
   },
   {
    "duration": 10,
    "start_time": "2023-07-23T05:10:54.664Z"
   },
   {
    "duration": 8,
    "start_time": "2023-07-23T05:10:58.373Z"
   },
   {
    "duration": 7,
    "start_time": "2023-07-23T05:11:05.711Z"
   },
   {
    "duration": 6,
    "start_time": "2023-07-23T05:11:38.394Z"
   },
   {
    "duration": 4,
    "start_time": "2023-07-23T05:11:54.281Z"
   },
   {
    "duration": 123,
    "start_time": "2023-07-23T05:13:57.384Z"
   },
   {
    "duration": 23,
    "start_time": "2023-07-23T05:14:00.498Z"
   },
   {
    "duration": 111,
    "start_time": "2023-07-23T05:14:03.664Z"
   },
   {
    "duration": 111,
    "start_time": "2023-07-23T05:15:07.991Z"
   },
   {
    "duration": 29,
    "start_time": "2023-07-23T05:16:15.956Z"
   },
   {
    "duration": 27,
    "start_time": "2023-07-23T05:16:29.791Z"
   },
   {
    "duration": 27,
    "start_time": "2023-07-23T05:18:03.524Z"
   },
   {
    "duration": 112,
    "start_time": "2023-07-23T05:18:10.912Z"
   },
   {
    "duration": 299,
    "start_time": "2023-07-23T05:18:15.302Z"
   },
   {
    "duration": 326,
    "start_time": "2023-07-23T05:18:31.378Z"
   },
   {
    "duration": 398,
    "start_time": "2023-07-23T05:18:37.375Z"
   },
   {
    "duration": 313,
    "start_time": "2023-07-23T05:18:41.703Z"
   },
   {
    "duration": 689,
    "start_time": "2023-07-23T05:18:50.005Z"
   },
   {
    "duration": 11,
    "start_time": "2023-07-23T05:21:02.506Z"
   },
   {
    "duration": 307,
    "start_time": "2023-07-23T05:21:14.175Z"
   },
   {
    "duration": 214,
    "start_time": "2023-07-23T05:21:26.708Z"
   },
   {
    "duration": 10,
    "start_time": "2023-07-23T05:21:30.564Z"
   },
   {
    "duration": 6,
    "start_time": "2023-07-23T05:21:43.186Z"
   },
   {
    "duration": 11,
    "start_time": "2023-07-23T05:23:04.194Z"
   },
   {
    "duration": 9,
    "start_time": "2023-07-23T05:23:07.971Z"
   },
   {
    "duration": 9,
    "start_time": "2023-07-23T05:23:12.082Z"
   },
   {
    "duration": 9,
    "start_time": "2023-07-23T05:23:17.651Z"
   },
   {
    "duration": 9,
    "start_time": "2023-07-23T05:23:20.366Z"
   },
   {
    "duration": 6,
    "start_time": "2023-07-23T05:23:23.808Z"
   },
   {
    "duration": 30,
    "start_time": "2023-07-23T05:23:28.570Z"
   },
   {
    "duration": 218,
    "start_time": "2023-07-23T05:23:33.480Z"
   },
   {
    "duration": 3,
    "start_time": "2023-07-23T05:23:49.586Z"
   },
   {
    "duration": 3,
    "start_time": "2023-07-23T05:23:58.015Z"
   },
   {
    "duration": 23,
    "start_time": "2023-07-23T05:31:17.688Z"
   },
   {
    "duration": 16,
    "start_time": "2023-07-23T05:32:51.489Z"
   },
   {
    "duration": 255,
    "start_time": "2023-07-23T05:33:57.019Z"
   },
   {
    "duration": 15,
    "start_time": "2023-07-23T05:33:59.222Z"
   },
   {
    "duration": 13,
    "start_time": "2023-07-23T05:34:02.313Z"
   },
   {
    "duration": 1520,
    "start_time": "2023-07-23T05:34:24.106Z"
   },
   {
    "duration": 3,
    "start_time": "2023-07-23T05:34:25.628Z"
   },
   {
    "duration": 854,
    "start_time": "2023-07-23T05:34:25.633Z"
   },
   {
    "duration": 24,
    "start_time": "2023-07-23T05:34:26.490Z"
   },
   {
    "duration": 18,
    "start_time": "2023-07-23T05:34:26.516Z"
   },
   {
    "duration": 94,
    "start_time": "2023-07-23T05:34:26.536Z"
   },
   {
    "duration": 6,
    "start_time": "2023-07-23T05:34:26.631Z"
   },
   {
    "duration": 10,
    "start_time": "2023-07-23T05:34:26.652Z"
   },
   {
    "duration": 23,
    "start_time": "2023-07-23T05:34:26.664Z"
   },
   {
    "duration": 9,
    "start_time": "2023-07-23T05:34:26.690Z"
   },
   {
    "duration": 9,
    "start_time": "2023-07-23T05:34:26.701Z"
   },
   {
    "duration": 14,
    "start_time": "2023-07-23T05:34:26.712Z"
   },
   {
    "duration": 147,
    "start_time": "2023-07-23T05:34:26.728Z"
   },
   {
    "duration": 20,
    "start_time": "2023-07-23T05:34:26.877Z"
   },
   {
    "duration": 127,
    "start_time": "2023-07-23T05:34:26.898Z"
   },
   {
    "duration": 293,
    "start_time": "2023-07-23T05:34:31.830Z"
   },
   {
    "duration": 17,
    "start_time": "2023-07-23T05:34:35.425Z"
   },
   {
    "duration": 26,
    "start_time": "2023-07-23T05:34:59.956Z"
   },
   {
    "duration": 13,
    "start_time": "2023-07-23T05:35:03.153Z"
   },
   {
    "duration": 1522,
    "start_time": "2023-07-23T05:35:30.447Z"
   },
   {
    "duration": 3,
    "start_time": "2023-07-23T05:35:31.972Z"
   },
   {
    "duration": 869,
    "start_time": "2023-07-23T05:35:31.977Z"
   },
   {
    "duration": 24,
    "start_time": "2023-07-23T05:35:32.848Z"
   },
   {
    "duration": 35,
    "start_time": "2023-07-23T05:35:32.878Z"
   },
   {
    "duration": 69,
    "start_time": "2023-07-23T05:35:32.915Z"
   },
   {
    "duration": 6,
    "start_time": "2023-07-23T05:35:32.986Z"
   },
   {
    "duration": 58,
    "start_time": "2023-07-23T05:35:32.994Z"
   },
   {
    "duration": 95,
    "start_time": "2023-07-23T05:35:33.055Z"
   },
   {
    "duration": 13,
    "start_time": "2023-07-23T05:35:33.152Z"
   },
   {
    "duration": 12,
    "start_time": "2023-07-23T05:35:33.167Z"
   },
   {
    "duration": 17,
    "start_time": "2023-07-23T05:35:33.181Z"
   },
   {
    "duration": 143,
    "start_time": "2023-07-23T05:35:33.200Z"
   },
   {
    "duration": 29,
    "start_time": "2023-07-23T05:35:33.346Z"
   },
   {
    "duration": 126,
    "start_time": "2023-07-23T05:35:33.377Z"
   },
   {
    "duration": 35,
    "start_time": "2023-07-23T05:35:38.419Z"
   },
   {
    "duration": 14,
    "start_time": "2023-07-23T05:35:43.145Z"
   },
   {
    "duration": 102,
    "start_time": "2023-07-23T05:36:00.726Z"
   },
   {
    "duration": 61,
    "start_time": "2023-07-23T05:37:02.657Z"
   },
   {
    "duration": 117,
    "start_time": "2023-07-23T05:37:22.066Z"
   },
   {
    "duration": 17,
    "start_time": "2023-07-23T05:37:33.685Z"
   },
   {
    "duration": 12,
    "start_time": "2023-07-23T05:37:55.965Z"
   },
   {
    "duration": 27,
    "start_time": "2023-07-23T05:38:05.868Z"
   },
   {
    "duration": 18,
    "start_time": "2023-07-23T05:38:16.136Z"
   },
   {
    "duration": 10,
    "start_time": "2023-07-23T05:38:22.696Z"
   },
   {
    "duration": 25,
    "start_time": "2023-07-23T05:38:25.727Z"
   },
   {
    "duration": 21,
    "start_time": "2023-07-23T05:38:28.490Z"
   },
   {
    "duration": 32,
    "start_time": "2023-07-23T05:38:31.526Z"
   },
   {
    "duration": 27,
    "start_time": "2023-07-23T05:38:34.307Z"
   },
   {
    "duration": 1510,
    "start_time": "2023-07-23T05:39:29.761Z"
   },
   {
    "duration": 3,
    "start_time": "2023-07-23T05:39:31.273Z"
   },
   {
    "duration": 821,
    "start_time": "2023-07-23T05:39:31.278Z"
   },
   {
    "duration": 21,
    "start_time": "2023-07-23T05:39:32.102Z"
   },
   {
    "duration": 35,
    "start_time": "2023-07-23T05:39:32.125Z"
   },
   {
    "duration": 88,
    "start_time": "2023-07-23T05:39:32.163Z"
   },
   {
    "duration": 7,
    "start_time": "2023-07-23T05:39:32.253Z"
   },
   {
    "duration": 37,
    "start_time": "2023-07-23T05:39:32.262Z"
   },
   {
    "duration": 19,
    "start_time": "2023-07-23T05:39:32.301Z"
   },
   {
    "duration": 20,
    "start_time": "2023-07-23T05:39:32.323Z"
   },
   {
    "duration": 43,
    "start_time": "2023-07-23T05:39:32.345Z"
   },
   {
    "duration": 14,
    "start_time": "2023-07-23T05:39:32.391Z"
   },
   {
    "duration": 164,
    "start_time": "2023-07-23T05:39:32.407Z"
   },
   {
    "duration": 20,
    "start_time": "2023-07-23T05:39:32.573Z"
   },
   {
    "duration": 132,
    "start_time": "2023-07-23T05:39:32.594Z"
   },
   {
    "duration": 39,
    "start_time": "2023-07-23T05:45:24.642Z"
   },
   {
    "duration": 13,
    "start_time": "2023-07-23T05:45:27.620Z"
   },
   {
    "duration": 93,
    "start_time": "2023-07-23T05:45:40.619Z"
   },
   {
    "duration": 222,
    "start_time": "2023-07-23T05:56:10.183Z"
   },
   {
    "duration": 166,
    "start_time": "2023-07-23T05:56:16.041Z"
   },
   {
    "duration": 154,
    "start_time": "2023-07-23T06:06:25.336Z"
   },
   {
    "duration": 18,
    "start_time": "2023-07-23T06:06:32.725Z"
   },
   {
    "duration": 23,
    "start_time": "2023-07-23T06:08:39.879Z"
   },
   {
    "duration": 163,
    "start_time": "2023-07-23T06:08:47.711Z"
   },
   {
    "duration": 1667,
    "start_time": "2023-07-23T06:09:58.414Z"
   },
   {
    "duration": 4,
    "start_time": "2023-07-23T06:10:00.085Z"
   },
   {
    "duration": 894,
    "start_time": "2023-07-23T06:10:00.091Z"
   },
   {
    "duration": 24,
    "start_time": "2023-07-23T06:10:00.988Z"
   },
   {
    "duration": 101,
    "start_time": "2023-07-23T06:10:01.014Z"
   },
   {
    "duration": 123,
    "start_time": "2023-07-23T06:10:01.117Z"
   },
   {
    "duration": 8,
    "start_time": "2023-07-23T06:10:01.242Z"
   },
   {
    "duration": 67,
    "start_time": "2023-07-23T06:10:01.254Z"
   },
   {
    "duration": 67,
    "start_time": "2023-07-23T06:10:01.323Z"
   },
   {
    "duration": 49,
    "start_time": "2023-07-23T06:10:01.393Z"
   },
   {
    "duration": 64,
    "start_time": "2023-07-23T06:10:01.445Z"
   },
   {
    "duration": 59,
    "start_time": "2023-07-23T06:10:01.511Z"
   },
   {
    "duration": 214,
    "start_time": "2023-07-23T06:10:01.575Z"
   },
   {
    "duration": 48,
    "start_time": "2023-07-23T06:10:01.791Z"
   },
   {
    "duration": 162,
    "start_time": "2023-07-23T06:10:01.842Z"
   },
   {
    "duration": 44,
    "start_time": "2023-07-23T06:11:28.373Z"
   },
   {
    "duration": 107,
    "start_time": "2023-07-23T06:11:32.370Z"
   },
   {
    "duration": 16,
    "start_time": "2023-07-23T06:11:51.666Z"
   },
   {
    "duration": 24,
    "start_time": "2023-07-23T06:12:43.926Z"
   },
   {
    "duration": 121,
    "start_time": "2023-07-23T06:12:47.181Z"
   },
   {
    "duration": 124,
    "start_time": "2023-07-23T06:12:50.012Z"
   },
   {
    "duration": 345,
    "start_time": "2023-07-23T06:12:53.969Z"
   },
   {
    "duration": 330,
    "start_time": "2023-07-23T06:12:57.568Z"
   },
   {
    "duration": 435,
    "start_time": "2023-07-23T06:13:00.984Z"
   },
   {
    "duration": 659,
    "start_time": "2023-07-23T06:13:05.684Z"
   },
   {
    "duration": 13,
    "start_time": "2023-07-23T06:13:13.021Z"
   },
   {
    "duration": 376,
    "start_time": "2023-07-23T06:13:20.221Z"
   },
   {
    "duration": 253,
    "start_time": "2023-07-23T06:13:23.830Z"
   },
   {
    "duration": 11,
    "start_time": "2023-07-23T06:13:27.927Z"
   },
   {
    "duration": 13,
    "start_time": "2023-07-23T06:13:30.648Z"
   },
   {
    "duration": 13,
    "start_time": "2023-07-23T06:13:33.274Z"
   },
   {
    "duration": 6,
    "start_time": "2023-07-23T06:13:51.398Z"
   },
   {
    "duration": 70,
    "start_time": "2023-07-23T06:13:51.406Z"
   },
   {
    "duration": 6,
    "start_time": "2023-07-23T06:13:54.189Z"
   },
   {
    "duration": 24,
    "start_time": "2023-07-23T06:13:56.347Z"
   },
   {
    "duration": 206,
    "start_time": "2023-07-23T06:13:59.067Z"
   },
   {
    "duration": 3,
    "start_time": "2023-07-23T06:14:02.677Z"
   },
   {
    "duration": 3,
    "start_time": "2023-07-23T06:14:04.737Z"
   },
   {
    "duration": 15,
    "start_time": "2023-07-23T06:14:10.277Z"
   },
   {
    "duration": 12,
    "start_time": "2023-07-23T06:14:16.577Z"
   },
   {
    "duration": 8,
    "start_time": "2023-07-23T06:14:39.714Z"
   },
   {
    "duration": 4,
    "start_time": "2023-07-23T06:14:48.800Z"
   },
   {
    "duration": 5,
    "start_time": "2023-07-23T06:14:57.342Z"
   },
   {
    "duration": 1022477,
    "start_time": "2023-07-23T06:16:46.578Z"
   },
   {
    "duration": 12,
    "start_time": "2023-07-23T06:33:49.063Z"
   },
   {
    "duration": 17,
    "start_time": "2023-07-23T06:33:49.079Z"
   },
   {
    "duration": 10,
    "start_time": "2023-07-23T06:33:49.100Z"
   },
   {
    "duration": 12,
    "start_time": "2023-07-23T06:33:49.113Z"
   },
   {
    "duration": 12,
    "start_time": "2023-07-23T06:33:49.127Z"
   },
   {
    "duration": 28,
    "start_time": "2023-07-23T06:33:49.151Z"
   },
   {
    "duration": 12,
    "start_time": "2023-07-23T06:33:49.181Z"
   },
   {
    "duration": 6646128,
    "start_time": "2023-07-23T06:33:49.199Z"
   },
   {
    "duration": 6,
    "start_time": "2023-07-23T08:24:35.333Z"
   },
   {
    "duration": 50,
    "start_time": "2023-07-23T08:24:35.341Z"
   },
   {
    "duration": 15,
    "start_time": "2023-07-23T08:24:35.393Z"
   },
   {
    "duration": 22,
    "start_time": "2023-07-23T08:24:35.409Z"
   },
   {
    "duration": 8,
    "start_time": "2023-07-23T08:24:35.436Z"
   },
   {
    "duration": 26,
    "start_time": "2023-07-23T08:24:35.446Z"
   },
   {
    "duration": 41831,
    "start_time": "2023-07-23T08:24:35.474Z"
   },
   {
    "duration": 227898,
    "start_time": "2023-07-23T08:25:17.307Z"
   },
   {
    "duration": 5,
    "start_time": "2023-07-23T08:29:05.207Z"
   },
   {
    "duration": 3,
    "start_time": "2023-07-23T08:29:21.697Z"
   },
   {
    "duration": 173,
    "start_time": "2023-07-23T08:29:24.165Z"
   },
   {
    "duration": 7,
    "start_time": "2023-07-23T08:30:20.027Z"
   },
   {
    "duration": 9,
    "start_time": "2023-07-23T08:30:29.000Z"
   },
   {
    "duration": 8,
    "start_time": "2023-07-23T08:30:34.130Z"
   },
   {
    "duration": 6,
    "start_time": "2023-07-23T08:30:38.365Z"
   },
   {
    "duration": 3142,
    "start_time": "2023-07-23T15:20:32.880Z"
   },
   {
    "duration": 3,
    "start_time": "2023-07-23T15:20:36.024Z"
   },
   {
    "duration": 3501,
    "start_time": "2023-07-23T15:20:36.030Z"
   },
   {
    "duration": 37,
    "start_time": "2023-07-23T15:20:39.532Z"
   },
   {
    "duration": 30,
    "start_time": "2023-07-23T15:20:39.573Z"
   },
   {
    "duration": 134,
    "start_time": "2023-07-23T15:20:39.605Z"
   },
   {
    "duration": 6,
    "start_time": "2023-07-23T15:20:39.742Z"
   },
   {
    "duration": 10,
    "start_time": "2023-07-23T15:20:39.771Z"
   },
   {
    "duration": 31,
    "start_time": "2023-07-23T15:20:39.782Z"
   },
   {
    "duration": 38,
    "start_time": "2023-07-23T15:20:39.815Z"
   },
   {
    "duration": 70,
    "start_time": "2023-07-23T15:20:39.860Z"
   },
   {
    "duration": 10,
    "start_time": "2023-07-23T15:20:39.933Z"
   },
   {
    "duration": 198,
    "start_time": "2023-07-23T15:20:39.945Z"
   },
   {
    "duration": 38,
    "start_time": "2023-07-23T15:20:40.145Z"
   },
   {
    "duration": 225,
    "start_time": "2023-07-23T15:20:40.185Z"
   },
   {
    "duration": 49,
    "start_time": "2023-07-23T15:20:40.412Z"
   }
  ],
  "kernelspec": {
   "display_name": "Python 3 (ipykernel)",
   "language": "python",
   "name": "python3"
  },
  "language_info": {
   "codemirror_mode": {
    "name": "ipython",
    "version": 3
   },
   "file_extension": ".py",
   "mimetype": "text/x-python",
   "name": "python",
   "nbconvert_exporter": "python",
   "pygments_lexer": "ipython3",
   "version": "3.11.4"
  },
  "toc": {
   "base_numbering": 1,
   "nav_menu": {},
   "number_sections": true,
   "sideBar": true,
   "skip_h1_title": true,
   "title_cell": "Содержание",
   "title_sidebar": "Contents",
   "toc_cell": true,
   "toc_position": {},
   "toc_section_display": true,
   "toc_window_display": true
  }
 },
 "nbformat": 4,
 "nbformat_minor": 2
}
